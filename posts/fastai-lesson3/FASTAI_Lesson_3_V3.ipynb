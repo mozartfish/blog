{
  "cells": [
    {
      "cell_type": "raw",
      "metadata": {
        "id": "QqUOOwlxVLZR"
      },
      "source": [
        "---\n",
        "title: \"FastAI Lesson 3: Neural Network Foundations\"\n",
        "description: FastAI Lesson 3 Notes\n",
        "date: 2023-12-18\n",
        "author: Pranav Rajan\n",
        "categories: [learning, fastai, deep learning]\n",
        "toc: true\n",
        "jupyter: python3\n",
        "---"
      ]
    },
    {
      "cell_type": "markdown",
      "metadata": {
        "id": "AOQ_Z2Q74ks7"
      },
      "source": [
        "## Announcements"
      ]
    },
    {
      "cell_type": "markdown",
      "metadata": {
        "id": "ClHMxvKK4ks-"
      },
      "source": [
        "Finally back after a long hiatus. I took a break from posting and FASTAI to try Advent of Code and get back to interview prep but I’m back. Normally I only write a single summary for a blog post but this time I'm writing two summaries because Chapter 4 of the book goes deeper into the foundations of neural networks than the lecture video."
      ]
    },
    {
      "cell_type": "markdown",
      "metadata": {
        "id": "uM7qkw944ks_"
      },
      "source": [
        "## Acknowledgements"
      ]
    },
    {
      "cell_type": "markdown",
      "metadata": {
        "id": "grm691STVXEf"
      },
      "source": [
        "All of this code was written by Jeremy Howard and the authors of the FastAI book. My modification to their code was adding print statements and comments to understand what each line of code was doing."
      ]
    },
    {
      "cell_type": "markdown",
      "metadata": {
        "id": "ZWh0Xu_t4ktA"
      },
      "source": [
        "## Summary - FastAI Lesson 3 Video"
      ]
    },
    {
      "cell_type": "markdown",
      "metadata": {
        "id": "ex2TW99j4ktB"
      },
      "source": [
        "In this lesson, Jeremy gives a high level overview of pytorch, gradient descent and the evolution of models. Most of the video focuses on approximating a quadratic equation and building the intuition towards how a neural network works. Towards the end of the video, Jeremy introduces the Titanic dataset and how to do some basic modeling with excel."
      ]
    },
    {
      "cell_type": "markdown",
      "metadata": {
        "id": "VSso7-fnVYSe"
      },
      "source": [
        "## Summary FastAI Chapter 4"
      ]
    },
    {
      "cell_type": "markdown",
      "metadata": {
        "id": "hZ8nqt064ktE"
      },
      "source": [
        "In Chapter 4, the FastAI book authors use the MNIST dataset as a case study to understand how pytorch and the fastai library work under the hood. I found this chapter to be a mind bender because I struggled to wrap my head around the concept of a tensor and the kinds of operations you can do on a tensor. Another concept I struggled with was the meaning of rank and dimension of tensors which are not the same as the meaning of rank and dimension in linear algebra and physics (will go more into this later). By the end of this chapter, I understood the following concepts:\n",
        "\n",
        "- what a tensor represents and performing operations on a tensor\n",
        "- how to set up a classifier using pytorch\n",
        "- how a training loop, optimizer, batch work in pytorch and fastai\n",
        "- the operations and functions that fastai provides a wrapper on top of\n",
        "\n",
        "I do agree with Jeremy that this book chapter might scare people away because the jargon combined with the mathematical concepts but its definitely worth spending a few days getting through since you develop a deeper understanding of pytorch and the deep learning process."
      ]
    },
    {
      "cell_type": "markdown",
      "metadata": {
        "id": "v7-VJky9VZxb"
      },
      "source": [
        "## Jeremy Howard's Advice"
      ]
    },
    {
      "cell_type": "markdown",
      "metadata": {
        "id": "_h4U3WeF4ktF"
      },
      "source": [
        "Jeremy provides some really good insights and advice in the lecture video not captured in the book or kaggle notebooks. This is my summary of the advice:\n",
        "\n",
        "- Model: Mathematical function consisting of a Matrix Multiply operation + nonlinearity (RELU, Sigmoid etc)\n",
        "\n",
        "- Things to thing about when picking a class of model for a problem we're trying to solve:\n",
        "  1. How fast is the model\n",
        "  2. How much memory does it consume\n",
        "  3. How accurate is it\n",
        "\n",
        "- Models fit functions to data and try to recognize patterns in data that we give it"
      ]
    },
    {
      "cell_type": "code",
      "execution_count": 1,
      "metadata": {
        "id": "wercApx3VeEy"
      },
      "outputs": [],
      "source": [
        "# load libraries and imports\n",
        "!pip install -Uqq fastai duckduckgo_search\n",
        "import numpy as np\n",
        "import matplotlib.pyplot as plt\n",
        "import pandas as pd\n",
        "import torch\n",
        "from PIL import Image\n",
        "from functools import partial\n",
        "\n",
        "# import fastai libraries\n",
        "from fastai.vision.all import *\n",
        "\n",
        "# update grayscale colormap for matplotlib\n",
        "matplotlib.rc('image', cmap='Greys')"
      ]
    },
    {
      "cell_type": "markdown",
      "metadata": {
        "id": "na6JlS9dVxC-"
      },
      "source": [
        "## MNIST Dataset"
      ]
    },
    {
      "cell_type": "markdown",
      "metadata": {
        "id": "lsfMACfZ4ktH"
      },
      "source": [
        "To show how neural networks work, the FastAI authors use the MNIST dataset as a case study. MNIST is a dataset containing handwritten digits collected by NIST (National Institute of Standards and Technology) and turned into dataset by Yann Lecun and his colleagues. For more information about Lecun and MNIST I would recommend reading the book chapter.\n",
        "\n",
        "The MNIST dataset follows traditional machine learning dataset layouts: Training Data and Validation Data each containing images associated with a particular digit between 0-9."
      ]
    },
    {
      "cell_type": "code",
      "execution_count": 41,
      "metadata": {
        "colab": {
          "base_uri": "https://localhost:8080/",
          "height": 97
        },
        "id": "3mosL1vNV1P8",
        "outputId": "0ec884f7-a259-41ae-ff88-afcd8bd7f2ce"
      },
      "outputs": [
        {
          "name": "stdout",
          "output_type": "stream",
          "text": [
            "Contents of MNIST DATA: [Path('train'), Path('valid'), Path('labels.csv')]\n",
            "MNIST Training Data Directory Contents: [Path('train/7'), Path('train/3')]\n",
            "Test Image of 3 from 3 training data set\n"
          ]
        },
        {
          "data": {
            "image/png": "[encoded data removed]",
            "text/plain": [
              "<PIL.PngImagePlugin.PngImageFile image mode=L size=28x28>"
            ]
          },
          "execution_count": 41,
          "metadata": {},
          "output_type": "execute_result"
        }
      ],
      "source": [
        "# LOAD MNIST DATA\n",
        "path = untar_data(URLs.MNIST_SAMPLE)\n",
        "Path.BASE_PATH = path\n",
        "print(f\"Contents of MNIST DATA: {path.ls()}\")\n",
        "\n",
        "# MNIST Training Data\n",
        "print(f\"MNIST Training Data Directory Contents: {(path/'train').ls()}\")\n",
        "\n",
        "# MNIST Training Data for 3s and 7s in sorted order\n",
        "threes = (path/'train'/'3').ls().sorted()\n",
        "sevens = (path/'train'/'7').ls().sorted()\n",
        "# print(f\"Sorted Training Data for 3: {threes}\")\n",
        "\n",
        "# Training Data Example\n",
        "im3_path = threes[1]\n",
        "im3 = Image.open(im3_path)\n",
        "print(f\"Test Image of 3 from 3 training data set\")\n",
        "im3\n"
      ]
    },
    {
      "cell_type": "markdown",
      "metadata": {
        "id": "QyNm3lBH4ktH"
      },
      "source": [
        "## Representing Images as Numbers"
      ]
    },
    {
      "cell_type": "markdown",
      "metadata": {
        "id": "b1Rhc7dn4ktH"
      },
      "source": [
        "Images are represented on computers as an array of pixels where each index contains a list of 3 numbers between 0-255 corresponding to a particular color according to RGB. Assembling all of these colors together we get an image.\n",
        "\n",
        "The MNIST images are represented differently: each index in the image array contains a number between 0-255 where 0 represents white and 255 black. All other values between 0-255 represent a different shade of gray. A unique digit image in the MNIST data is then defined by the black and gray pixels that together outline and define the digit. The size of an image in the MNIST data is 28 x 28 which is 784 pixels in the Image Array.\n",
        "\n",
        "In the following examples, [4:10, 4:10] means the following: request rows from index 4 (included) to 10(not included) and the same for the columns. Numpy and Pytorch index from top to bottom and left to right.\n",
        "\n",
        "In the  image slice below, we select a part of the digit with just the top part and then color code the slice based on the values in the slice with their mapping in the gray scale (0-255) where 0 represents white and 255 black.\n"
      ]
    },
    {
      "cell_type": "code",
      "execution_count": 3,
      "metadata": {
        "colab": {
          "base_uri": "https://localhost:8080/"
        },
        "id": "YrSUnhTsWGiR",
        "outputId": "bdbaca93-1fb1-4be9-e438-f781d92b2b1d"
      },
      "outputs": [
        {
          "name": "stdout",
          "output_type": "stream",
          "text": [
            "im3 represented as an array of numbers using numpy array\n"
          ]
        },
        {
          "data": {
            "text/plain": [
              "array([[  0,   0,   0,   0,   0,   0,   0,   0,   0,   0,   0,   0,   0,\n",
              "          0,   0,   0,   0,   0,   0,   0,   0,   0,   0,   0,   0,   0,\n",
              "          0,   0],\n",
              "       [  0,   0,   0,   0,   0,   0,   0,   0,   0,   0,   0,   0,   0,\n",
              "          0,   0,   0,   0,   0,   0,   0,   0,   0,   0,   0,   0,   0,\n",
              "          0,   0],\n",
              "       [  0,   0,   0,   0,   0,   0,   0,   0,   0,   0,   0,   0,   0,\n",
              "          0,   0,   0,   0,   0,   0,   0,   0,   0,   0,   0,   0,   0,\n",
              "          0,   0],\n",
              "       [  0,   0,   0,   0,   0,   0,   0,   0,   0,   0,   0,   0,   0,\n",
              "          0,   0,   0,   0,   0,   0,   0,   0,   0,   0,   0,   0,   0,\n",
              "          0,   0],\n",
              "       [  0,   0,   0,   0,   0,   0,   0,   0,   0,   0,   0,   0,   0,\n",
              "          0,   0,   0,   0,   0,   0,   0,   0,   0,   0,   0,   0,   0,\n",
              "          0,   0],\n",
              "       [  0,   0,   0,   0,   0,   0,   0,   0,   0,  29, 150, 195, 254,\n",
              "        255, 254, 176, 193, 150,  96,   0,   0,   0,   0,   0,   0,   0,\n",
              "          0,   0],\n",
              "       [  0,   0,   0,   0,   0,   0,   0,  48, 166, 224, 253, 253, 234,\n",
              "        196, 253, 253, 253, 253, 233,   0,   0,   0,   0,   0,   0,   0,\n",
              "          0,   0],\n",
              "       [  0,   0,   0,   0,   0,  93, 244, 249, 253, 187,  46,  10,   8,\n",
              "          4,  10, 194, 253, 253, 233,   0,   0,   0,   0,   0,   0,   0,\n",
              "          0,   0],\n",
              "       [  0,   0,   0,   0,   0, 107, 253, 253, 230,  48,   0,   0,   0,\n",
              "          0,   0, 192, 253, 253, 156,   0,   0,   0,   0,   0,   0,   0,\n",
              "          0,   0],\n",
              "       [  0,   0,   0,   0,   0,   3,  20,  20,  15,   0,   0,   0,   0,\n",
              "          0,  43, 224, 253, 245,  74,   0,   0,   0,   0,   0,   0,   0,\n",
              "          0,   0],\n",
              "       [  0,   0,   0,   0,   0,   0,   0,   0,   0,   0,   0,   0,   0,\n",
              "          0, 249, 253, 245, 126,   0,   0,   0,   0,   0,   0,   0,   0,\n",
              "          0,   0],\n",
              "       [  0,   0,   0,   0,   0,   0,   0,   0,   0,   0,   0,  14, 101,\n",
              "        223, 253, 248, 124,   0,   0,   0,   0,   0,   0,   0,   0,   0,\n",
              "          0,   0],\n",
              "       [  0,   0,   0,   0,   0,   0,   0,   0,   0,  11, 166, 239, 253,\n",
              "        253, 253, 187,  30,   0,   0,   0,   0,   0,   0,   0,   0,   0,\n",
              "          0,   0],\n",
              "       [  0,   0,   0,   0,   0,   0,   0,   0,   0,  16, 248, 250, 253,\n",
              "        253, 253, 253, 232, 213, 111,   2,   0,   0,   0,   0,   0,   0,\n",
              "          0,   0],\n",
              "       [  0,   0,   0,   0,   0,   0,   0,   0,   0,   0,   0,  43,  98,\n",
              "         98, 208, 253, 253, 253, 253, 187,  22,   0,   0,   0,   0,   0,\n",
              "          0,   0],\n",
              "       [  0,   0,   0,   0,   0,   0,   0,   0,   0,   0,   0,   0,   0,\n",
              "          0,   9,  51, 119, 253, 253, 253,  76,   0,   0,   0,   0,   0,\n",
              "          0,   0],\n",
              "       [  0,   0,   0,   0,   0,   0,   0,   0,   0,   0,   0,   0,   0,\n",
              "          0,   0,   0,   1, 183, 253, 253, 139,   0,   0,   0,   0,   0,\n",
              "          0,   0],\n",
              "       [  0,   0,   0,   0,   0,   0,   0,   0,   0,   0,   0,   0,   0,\n",
              "          0,   0,   0,   0, 182, 253, 253, 104,   0,   0,   0,   0,   0,\n",
              "          0,   0],\n",
              "       [  0,   0,   0,   0,   0,   0,   0,   0,   0,   0,   0,   0,   0,\n",
              "          0,   0,   0,  85, 249, 253, 253,  36,   0,   0,   0,   0,   0,\n",
              "          0,   0],\n",
              "       [  0,   0,   0,   0,   0,   0,   0,   0,   0,   0,   0,   0,   0,\n",
              "          0,   0,  60, 214, 253, 253, 173,  11,   0,   0,   0,   0,   0,\n",
              "          0,   0],\n",
              "       [  0,   0,   0,   0,   0,   0,   0,   0,   0,   0,   0,   0,   0,\n",
              "          0,  98, 247, 253, 253, 226,   9,   0,   0,   0,   0,   0,   0,\n",
              "          0,   0],\n",
              "       [  0,   0,   0,   0,   0,   0,   0,   0,   0,   0,   0,   0,  42,\n",
              "        150, 252, 253, 253, 233,  53,   0,   0,   0,   0,   0,   0,   0,\n",
              "          0,   0],\n",
              "       [  0,   0,   0,   0,   0,   0,  42, 115,  42,  60, 115, 159, 240,\n",
              "        253, 253, 250, 175,  25,   0,   0,   0,   0,   0,   0,   0,   0,\n",
              "          0,   0],\n",
              "       [  0,   0,   0,   0,   0,   0, 187, 253, 253, 253, 253, 253, 253,\n",
              "        253, 197,  86,   0,   0,   0,   0,   0,   0,   0,   0,   0,   0,\n",
              "          0,   0],\n",
              "       [  0,   0,   0,   0,   0,   0, 103, 253, 253, 253, 253, 253, 232,\n",
              "         67,   1,   0,   0,   0,   0,   0,   0,   0,   0,   0,   0,   0,\n",
              "          0,   0],\n",
              "       [  0,   0,   0,   0,   0,   0,   0,   0,   0,   0,   0,   0,   0,\n",
              "          0,   0,   0,   0,   0,   0,   0,   0,   0,   0,   0,   0,   0,\n",
              "          0,   0],\n",
              "       [  0,   0,   0,   0,   0,   0,   0,   0,   0,   0,   0,   0,   0,\n",
              "          0,   0,   0,   0,   0,   0,   0,   0,   0,   0,   0,   0,   0,\n",
              "          0,   0],\n",
              "       [  0,   0,   0,   0,   0,   0,   0,   0,   0,   0,   0,   0,   0,\n",
              "          0,   0,   0,   0,   0,   0,   0,   0,   0,   0,   0,   0,   0,\n",
              "          0,   0]], dtype=uint8)"
            ]
          },
          "execution_count": 3,
          "metadata": {},
          "output_type": "execute_result"
        }
      ],
      "source": [
        "# MNIST image dimensions are 28 x 28 = 784 pixel array\n",
        "print(f\"im3 represented as an array of numbers using numpy array\")\n",
        "array(im3)"
      ]
    },
    {
      "cell_type": "code",
      "execution_count": 4,
      "metadata": {
        "colab": {
          "base_uri": "https://localhost:8080/"
        },
        "id": "jXradJj7X850",
        "outputId": "248d1938-6496-4b0e-b5e5-20d61e9d2586"
      },
      "outputs": [
        {
          "data": {
            "text/plain": [
              "array([[  0,   0,   0,   0,   0,   0],\n",
              "       [  0,   0,   0,   0,   0,  29],\n",
              "       [  0,   0,   0,  48, 166, 224],\n",
              "       [  0,  93, 244, 249, 253, 187],\n",
              "       [  0, 107, 253, 253, 230,  48],\n",
              "       [  0,   3,  20,  20,  15,   0]], dtype=uint8)"
            ]
          },
          "execution_count": 4,
          "metadata": {},
          "output_type": "execute_result"
        }
      ],
      "source": [
        "# Slice of im3\n",
        "# [4:10, 4:10] - get rows and columns starting from 4(included) to 10 (excluded)\n",
        "# Numpy Array representation\n",
        "array(im3)[4:10,4:10]"
      ]
    },
    {
      "cell_type": "code",
      "execution_count": 5,
      "metadata": {
        "colab": {
          "base_uri": "https://localhost:8080/"
        },
        "id": "u9NiZZGdoGwj",
        "outputId": "71ebd6b7-d056-42e3-ef9a-0340934ef9bd"
      },
      "outputs": [
        {
          "name": "stdout",
          "output_type": "stream",
          "text": [
            "im3 represented as an array of numbers using tensors\n"
          ]
        },
        {
          "data": {
            "text/plain": [
              "tensor([[  0,   0,   0,   0,   0,   0,   0,   0,   0,   0,   0,   0,   0,   0,\n",
              "           0,   0,   0,   0,   0,   0,   0,   0,   0,   0,   0,   0,   0,   0],\n",
              "        [  0,   0,   0,   0,   0,   0,   0,   0,   0,   0,   0,   0,   0,   0,\n",
              "           0,   0,   0,   0,   0,   0,   0,   0,   0,   0,   0,   0,   0,   0],\n",
              "        [  0,   0,   0,   0,   0,   0,   0,   0,   0,   0,   0,   0,   0,   0,\n",
              "           0,   0,   0,   0,   0,   0,   0,   0,   0,   0,   0,   0,   0,   0],\n",
              "        [  0,   0,   0,   0,   0,   0,   0,   0,   0,   0,   0,   0,   0,   0,\n",
              "           0,   0,   0,   0,   0,   0,   0,   0,   0,   0,   0,   0,   0,   0],\n",
              "        [  0,   0,   0,   0,   0,   0,   0,   0,   0,   0,   0,   0,   0,   0,\n",
              "           0,   0,   0,   0,   0,   0,   0,   0,   0,   0,   0,   0,   0,   0],\n",
              "        [  0,   0,   0,   0,   0,   0,   0,   0,   0,  29, 150, 195, 254, 255,\n",
              "         254, 176, 193, 150,  96,   0,   0,   0,   0,   0,   0,   0,   0,   0],\n",
              "        [  0,   0,   0,   0,   0,   0,   0,  48, 166, 224, 253, 253, 234, 196,\n",
              "         253, 253, 253, 253, 233,   0,   0,   0,   0,   0,   0,   0,   0,   0],\n",
              "        [  0,   0,   0,   0,   0,  93, 244, 249, 253, 187,  46,  10,   8,   4,\n",
              "          10, 194, 253, 253, 233,   0,   0,   0,   0,   0,   0,   0,   0,   0],\n",
              "        [  0,   0,   0,   0,   0, 107, 253, 253, 230,  48,   0,   0,   0,   0,\n",
              "           0, 192, 253, 253, 156,   0,   0,   0,   0,   0,   0,   0,   0,   0],\n",
              "        [  0,   0,   0,   0,   0,   3,  20,  20,  15,   0,   0,   0,   0,   0,\n",
              "          43, 224, 253, 245,  74,   0,   0,   0,   0,   0,   0,   0,   0,   0],\n",
              "        [  0,   0,   0,   0,   0,   0,   0,   0,   0,   0,   0,   0,   0,   0,\n",
              "         249, 253, 245, 126,   0,   0,   0,   0,   0,   0,   0,   0,   0,   0],\n",
              "        [  0,   0,   0,   0,   0,   0,   0,   0,   0,   0,   0,  14, 101, 223,\n",
              "         253, 248, 124,   0,   0,   0,   0,   0,   0,   0,   0,   0,   0,   0],\n",
              "        [  0,   0,   0,   0,   0,   0,   0,   0,   0,  11, 166, 239, 253, 253,\n",
              "         253, 187,  30,   0,   0,   0,   0,   0,   0,   0,   0,   0,   0,   0],\n",
              "        [  0,   0,   0,   0,   0,   0,   0,   0,   0,  16, 248, 250, 253, 253,\n",
              "         253, 253, 232, 213, 111,   2,   0,   0,   0,   0,   0,   0,   0,   0],\n",
              "        [  0,   0,   0,   0,   0,   0,   0,   0,   0,   0,   0,  43,  98,  98,\n",
              "         208, 253, 253, 253, 253, 187,  22,   0,   0,   0,   0,   0,   0,   0],\n",
              "        [  0,   0,   0,   0,   0,   0,   0,   0,   0,   0,   0,   0,   0,   0,\n",
              "           9,  51, 119, 253, 253, 253,  76,   0,   0,   0,   0,   0,   0,   0],\n",
              "        [  0,   0,   0,   0,   0,   0,   0,   0,   0,   0,   0,   0,   0,   0,\n",
              "           0,   0,   1, 183, 253, 253, 139,   0,   0,   0,   0,   0,   0,   0],\n",
              "        [  0,   0,   0,   0,   0,   0,   0,   0,   0,   0,   0,   0,   0,   0,\n",
              "           0,   0,   0, 182, 253, 253, 104,   0,   0,   0,   0,   0,   0,   0],\n",
              "        [  0,   0,   0,   0,   0,   0,   0,   0,   0,   0,   0,   0,   0,   0,\n",
              "           0,   0,  85, 249, 253, 253,  36,   0,   0,   0,   0,   0,   0,   0],\n",
              "        [  0,   0,   0,   0,   0,   0,   0,   0,   0,   0,   0,   0,   0,   0,\n",
              "           0,  60, 214, 253, 253, 173,  11,   0,   0,   0,   0,   0,   0,   0],\n",
              "        [  0,   0,   0,   0,   0,   0,   0,   0,   0,   0,   0,   0,   0,   0,\n",
              "          98, 247, 253, 253, 226,   9,   0,   0,   0,   0,   0,   0,   0,   0],\n",
              "        [  0,   0,   0,   0,   0,   0,   0,   0,   0,   0,   0,   0,  42, 150,\n",
              "         252, 253, 253, 233,  53,   0,   0,   0,   0,   0,   0,   0,   0,   0],\n",
              "        [  0,   0,   0,   0,   0,   0,  42, 115,  42,  60, 115, 159, 240, 253,\n",
              "         253, 250, 175,  25,   0,   0,   0,   0,   0,   0,   0,   0,   0,   0],\n",
              "        [  0,   0,   0,   0,   0,   0, 187, 253, 253, 253, 253, 253, 253, 253,\n",
              "         197,  86,   0,   0,   0,   0,   0,   0,   0,   0,   0,   0,   0,   0],\n",
              "        [  0,   0,   0,   0,   0,   0, 103, 253, 253, 253, 253, 253, 232,  67,\n",
              "           1,   0,   0,   0,   0,   0,   0,   0,   0,   0,   0,   0,   0,   0],\n",
              "        [  0,   0,   0,   0,   0,   0,   0,   0,   0,   0,   0,   0,   0,   0,\n",
              "           0,   0,   0,   0,   0,   0,   0,   0,   0,   0,   0,   0,   0,   0],\n",
              "        [  0,   0,   0,   0,   0,   0,   0,   0,   0,   0,   0,   0,   0,   0,\n",
              "           0,   0,   0,   0,   0,   0,   0,   0,   0,   0,   0,   0,   0,   0],\n",
              "        [  0,   0,   0,   0,   0,   0,   0,   0,   0,   0,   0,   0,   0,   0,\n",
              "           0,   0,   0,   0,   0,   0,   0,   0,   0,   0,   0,   0,   0,   0]],\n",
              "       dtype=torch.uint8)"
            ]
          },
          "execution_count": 5,
          "metadata": {},
          "output_type": "execute_result"
        }
      ],
      "source": [
        "# MNIST image dimensions are 28 x 28 = 784 pixel array\n",
        "print(f\"im3 represented as an array of numbers using tensors\")\n",
        "tensor(im3)"
      ]
    },
    {
      "cell_type": "code",
      "execution_count": 6,
      "metadata": {
        "colab": {
          "base_uri": "https://localhost:8080/"
        },
        "id": "tk3EqBh7ZSM9",
        "outputId": "2c8afa5e-3feb-4003-82b6-b709efcb2ee4"
      },
      "outputs": [
        {
          "data": {
            "text/plain": [
              "tensor([[  0,   0,   0,   0,   0,   0],\n",
              "        [  0,   0,   0,   0,   0,  29],\n",
              "        [  0,   0,   0,  48, 166, 224],\n",
              "        [  0,  93, 244, 249, 253, 187],\n",
              "        [  0, 107, 253, 253, 230,  48],\n",
              "        [  0,   3,  20,  20,  15,   0]], dtype=torch.uint8)"
            ]
          },
          "execution_count": 6,
          "metadata": {},
          "output_type": "execute_result"
        }
      ],
      "source": [
        "# Slice of im3\n",
        "# [4:10, 4:10] - get rows and columns starting from 4(included) to 10 (excluded)\n",
        "# Tensor representation\n",
        "tensor(im3)[4:10, 4:10]"
      ]
    },
    {
      "cell_type": "code",
      "execution_count": 7,
      "metadata": {
        "colab": {
          "base_uri": "https://localhost:8080/",
          "height": 394
        },
        "id": "0IODr_X6ZeH2",
        "outputId": "a7c0d0d8-b2a0-4bf1-a913-4bb6d67e42b4"
      },
      "outputs": [
        {
          "data": {
            "text/html": [
              "<style type=\"text/css\">\n",
              "#T_9106b_row0_col0, #T_9106b_row0_col1, #T_9106b_row0_col2, #T_9106b_row0_col3, #T_9106b_row0_col4, #T_9106b_row0_col5, #T_9106b_row0_col6, #T_9106b_row0_col7, #T_9106b_row0_col8, #T_9106b_row0_col9, #T_9106b_row0_col10, #T_9106b_row0_col11, #T_9106b_row0_col12, #T_9106b_row0_col13, #T_9106b_row0_col14, #T_9106b_row0_col15, #T_9106b_row0_col16, #T_9106b_row0_col17, #T_9106b_row1_col0, #T_9106b_row1_col1, #T_9106b_row1_col2, #T_9106b_row1_col3, #T_9106b_row1_col4, #T_9106b_row1_col15, #T_9106b_row1_col16, #T_9106b_row1_col17, #T_9106b_row2_col0, #T_9106b_row2_col1, #T_9106b_row2_col2, #T_9106b_row2_col15, #T_9106b_row2_col16, #T_9106b_row2_col17, #T_9106b_row3_col0, #T_9106b_row3_col15, #T_9106b_row3_col16, #T_9106b_row3_col17, #T_9106b_row4_col0, #T_9106b_row4_col6, #T_9106b_row4_col7, #T_9106b_row4_col8, #T_9106b_row4_col9, #T_9106b_row4_col10, #T_9106b_row4_col15, #T_9106b_row4_col16, #T_9106b_row4_col17, #T_9106b_row5_col0, #T_9106b_row5_col5, #T_9106b_row5_col6, #T_9106b_row5_col7, #T_9106b_row5_col8, #T_9106b_row5_col9, #T_9106b_row5_col15, #T_9106b_row5_col16, #T_9106b_row5_col17, #T_9106b_row6_col0, #T_9106b_row6_col1, #T_9106b_row6_col2, #T_9106b_row6_col3, #T_9106b_row6_col4, #T_9106b_row6_col5, #T_9106b_row6_col6, #T_9106b_row6_col7, #T_9106b_row6_col8, #T_9106b_row6_col9, #T_9106b_row6_col14, #T_9106b_row6_col15, #T_9106b_row6_col16, #T_9106b_row6_col17, #T_9106b_row7_col0, #T_9106b_row7_col1, #T_9106b_row7_col2, #T_9106b_row7_col3, #T_9106b_row7_col4, #T_9106b_row7_col5, #T_9106b_row7_col6, #T_9106b_row7_col13, #T_9106b_row7_col14, #T_9106b_row7_col15, #T_9106b_row7_col16, #T_9106b_row7_col17, #T_9106b_row8_col0, #T_9106b_row8_col1, #T_9106b_row8_col2, #T_9106b_row8_col3, #T_9106b_row8_col4, #T_9106b_row8_col13, #T_9106b_row8_col14, #T_9106b_row8_col15, #T_9106b_row8_col16, #T_9106b_row8_col17, #T_9106b_row9_col0, #T_9106b_row9_col1, #T_9106b_row9_col2, #T_9106b_row9_col3, #T_9106b_row9_col4, #T_9106b_row9_col16, #T_9106b_row9_col17, #T_9106b_row10_col0, #T_9106b_row10_col1, #T_9106b_row10_col2, #T_9106b_row10_col3, #T_9106b_row10_col4, #T_9106b_row10_col5, #T_9106b_row10_col6, #T_9106b_row10_col17 {\n",
              "  font-size: 6pt;\n",
              "  background-color: #ffffff;\n",
              "  color: #000000;\n",
              "}\n",
              "#T_9106b_row1_col5 {\n",
              "  font-size: 6pt;\n",
              "  background-color: #efefef;\n",
              "  color: #000000;\n",
              "}\n",
              "#T_9106b_row1_col6, #T_9106b_row1_col13 {\n",
              "  font-size: 6pt;\n",
              "  background-color: #7c7c7c;\n",
              "  color: #f1f1f1;\n",
              "}\n",
              "#T_9106b_row1_col7 {\n",
              "  font-size: 6pt;\n",
              "  background-color: #4a4a4a;\n",
              "  color: #f1f1f1;\n",
              "}\n",
              "#T_9106b_row1_col8, #T_9106b_row1_col9, #T_9106b_row1_col10, #T_9106b_row2_col5, #T_9106b_row2_col6, #T_9106b_row2_col7, #T_9106b_row2_col11, #T_9106b_row2_col12, #T_9106b_row2_col13, #T_9106b_row3_col4, #T_9106b_row3_col12, #T_9106b_row3_col13, #T_9106b_row4_col1, #T_9106b_row4_col2, #T_9106b_row4_col3, #T_9106b_row4_col12, #T_9106b_row4_col13, #T_9106b_row5_col12, #T_9106b_row6_col11, #T_9106b_row9_col11, #T_9106b_row10_col11, #T_9106b_row10_col12, #T_9106b_row10_col13, #T_9106b_row10_col14, #T_9106b_row10_col15, #T_9106b_row10_col16 {\n",
              "  font-size: 6pt;\n",
              "  background-color: #000000;\n",
              "  color: #f1f1f1;\n",
              "}\n",
              "#T_9106b_row1_col11 {\n",
              "  font-size: 6pt;\n",
              "  background-color: #606060;\n",
              "  color: #f1f1f1;\n",
              "}\n",
              "#T_9106b_row1_col12 {\n",
              "  font-size: 6pt;\n",
              "  background-color: #4d4d4d;\n",
              "  color: #f1f1f1;\n",
              "}\n",
              "#T_9106b_row1_col14 {\n",
              "  font-size: 6pt;\n",
              "  background-color: #bbbbbb;\n",
              "  color: #000000;\n",
              "}\n",
              "#T_9106b_row2_col3 {\n",
              "  font-size: 6pt;\n",
              "  background-color: #e4e4e4;\n",
              "  color: #000000;\n",
              "}\n",
              "#T_9106b_row2_col4, #T_9106b_row8_col6 {\n",
              "  font-size: 6pt;\n",
              "  background-color: #6b6b6b;\n",
              "  color: #f1f1f1;\n",
              "}\n",
              "#T_9106b_row2_col8, #T_9106b_row2_col14, #T_9106b_row3_col14 {\n",
              "  font-size: 6pt;\n",
              "  background-color: #171717;\n",
              "  color: #f1f1f1;\n",
              "}\n",
              "#T_9106b_row2_col9, #T_9106b_row3_col11 {\n",
              "  font-size: 6pt;\n",
              "  background-color: #4b4b4b;\n",
              "  color: #f1f1f1;\n",
              "}\n",
              "#T_9106b_row2_col10, #T_9106b_row7_col10, #T_9106b_row8_col8, #T_9106b_row8_col10, #T_9106b_row9_col8, #T_9106b_row9_col10 {\n",
              "  font-size: 6pt;\n",
              "  background-color: #010101;\n",
              "  color: #f1f1f1;\n",
              "}\n",
              "#T_9106b_row3_col1 {\n",
              "  font-size: 6pt;\n",
              "  background-color: #272727;\n",
              "  color: #f1f1f1;\n",
              "}\n",
              "#T_9106b_row3_col2 {\n",
              "  font-size: 6pt;\n",
              "  background-color: #0a0a0a;\n",
              "  color: #f1f1f1;\n",
              "}\n",
              "#T_9106b_row3_col3 {\n",
              "  font-size: 6pt;\n",
              "  background-color: #050505;\n",
              "  color: #f1f1f1;\n",
              "}\n",
              "#T_9106b_row3_col5 {\n",
              "  font-size: 6pt;\n",
              "  background-color: #333333;\n",
              "  color: #f1f1f1;\n",
              "}\n",
              "#T_9106b_row3_col6 {\n",
              "  font-size: 6pt;\n",
              "  background-color: #e6e6e6;\n",
              "  color: #000000;\n",
              "}\n",
              "#T_9106b_row3_col7, #T_9106b_row3_col10 {\n",
              "  font-size: 6pt;\n",
              "  background-color: #fafafa;\n",
              "  color: #000000;\n",
              "}\n",
              "#T_9106b_row3_col8 {\n",
              "  font-size: 6pt;\n",
              "  background-color: #fbfbfb;\n",
              "  color: #000000;\n",
              "}\n",
              "#T_9106b_row3_col9 {\n",
              "  font-size: 6pt;\n",
              "  background-color: #fdfdfd;\n",
              "  color: #000000;\n",
              "}\n",
              "#T_9106b_row4_col4 {\n",
              "  font-size: 6pt;\n",
              "  background-color: #1b1b1b;\n",
              "  color: #f1f1f1;\n",
              "}\n",
              "#T_9106b_row4_col5 {\n",
              "  font-size: 6pt;\n",
              "  background-color: #e0e0e0;\n",
              "  color: #000000;\n",
              "}\n",
              "#T_9106b_row4_col11 {\n",
              "  font-size: 6pt;\n",
              "  background-color: #4e4e4e;\n",
              "  color: #f1f1f1;\n",
              "}\n",
              "#T_9106b_row4_col14 {\n",
              "  font-size: 6pt;\n",
              "  background-color: #767676;\n",
              "  color: #f1f1f1;\n",
              "}\n",
              "#T_9106b_row5_col1 {\n",
              "  font-size: 6pt;\n",
              "  background-color: #fcfcfc;\n",
              "  color: #000000;\n",
              "}\n",
              "#T_9106b_row5_col2, #T_9106b_row5_col3 {\n",
              "  font-size: 6pt;\n",
              "  background-color: #f6f6f6;\n",
              "  color: #000000;\n",
              "}\n",
              "#T_9106b_row5_col4, #T_9106b_row7_col7 {\n",
              "  font-size: 6pt;\n",
              "  background-color: #f8f8f8;\n",
              "  color: #000000;\n",
              "}\n",
              "#T_9106b_row5_col10, #T_9106b_row10_col7 {\n",
              "  font-size: 6pt;\n",
              "  background-color: #e8e8e8;\n",
              "  color: #000000;\n",
              "}\n",
              "#T_9106b_row5_col11 {\n",
              "  font-size: 6pt;\n",
              "  background-color: #222222;\n",
              "  color: #f1f1f1;\n",
              "}\n",
              "#T_9106b_row5_col13, #T_9106b_row6_col12 {\n",
              "  font-size: 6pt;\n",
              "  background-color: #090909;\n",
              "  color: #f1f1f1;\n",
              "}\n",
              "#T_9106b_row5_col14 {\n",
              "  font-size: 6pt;\n",
              "  background-color: #d0d0d0;\n",
              "  color: #000000;\n",
              "}\n",
              "#T_9106b_row6_col10, #T_9106b_row7_col11, #T_9106b_row9_col6 {\n",
              "  font-size: 6pt;\n",
              "  background-color: #060606;\n",
              "  color: #f1f1f1;\n",
              "}\n",
              "#T_9106b_row6_col13 {\n",
              "  font-size: 6pt;\n",
              "  background-color: #979797;\n",
              "  color: #f1f1f1;\n",
              "}\n",
              "#T_9106b_row7_col8 {\n",
              "  font-size: 6pt;\n",
              "  background-color: #b6b6b6;\n",
              "  color: #000000;\n",
              "}\n",
              "#T_9106b_row7_col9 {\n",
              "  font-size: 6pt;\n",
              "  background-color: #252525;\n",
              "  color: #f1f1f1;\n",
              "}\n",
              "#T_9106b_row7_col12 {\n",
              "  font-size: 6pt;\n",
              "  background-color: #999999;\n",
              "  color: #f1f1f1;\n",
              "}\n",
              "#T_9106b_row8_col5 {\n",
              "  font-size: 6pt;\n",
              "  background-color: #f9f9f9;\n",
              "  color: #000000;\n",
              "}\n",
              "#T_9106b_row8_col7 {\n",
              "  font-size: 6pt;\n",
              "  background-color: #101010;\n",
              "  color: #f1f1f1;\n",
              "}\n",
              "#T_9106b_row8_col9, #T_9106b_row9_col9 {\n",
              "  font-size: 6pt;\n",
              "  background-color: #020202;\n",
              "  color: #f1f1f1;\n",
              "}\n",
              "#T_9106b_row8_col11 {\n",
              "  font-size: 6pt;\n",
              "  background-color: #545454;\n",
              "  color: #f1f1f1;\n",
              "}\n",
              "#T_9106b_row8_col12 {\n",
              "  font-size: 6pt;\n",
              "  background-color: #f1f1f1;\n",
              "  color: #000000;\n",
              "}\n",
              "#T_9106b_row9_col5 {\n",
              "  font-size: 6pt;\n",
              "  background-color: #f7f7f7;\n",
              "  color: #000000;\n",
              "}\n",
              "#T_9106b_row9_col7 {\n",
              "  font-size: 6pt;\n",
              "  background-color: #030303;\n",
              "  color: #f1f1f1;\n",
              "}\n",
              "#T_9106b_row9_col12 {\n",
              "  font-size: 6pt;\n",
              "  background-color: #181818;\n",
              "  color: #f1f1f1;\n",
              "}\n",
              "#T_9106b_row9_col13 {\n",
              "  font-size: 6pt;\n",
              "  background-color: #303030;\n",
              "  color: #f1f1f1;\n",
              "}\n",
              "#T_9106b_row9_col14 {\n",
              "  font-size: 6pt;\n",
              "  background-color: #a9a9a9;\n",
              "  color: #f1f1f1;\n",
              "}\n",
              "#T_9106b_row9_col15 {\n",
              "  font-size: 6pt;\n",
              "  background-color: #fefefe;\n",
              "  color: #000000;\n",
              "}\n",
              "#T_9106b_row10_col8, #T_9106b_row10_col9 {\n",
              "  font-size: 6pt;\n",
              "  background-color: #bababa;\n",
              "  color: #000000;\n",
              "}\n",
              "#T_9106b_row10_col10 {\n",
              "  font-size: 6pt;\n",
              "  background-color: #393939;\n",
              "  color: #f1f1f1;\n",
              "}\n",
              "</style>\n",
              "<table id=\"T_9106b\" class=\"dataframe\">\n",
              "  <thead>\n",
              "    <tr>\n",
              "      <th class=\"blank level0\" >&nbsp;</th>\n",
              "      <th id=\"T_9106b_level0_col0\" class=\"col_heading level0 col0\" >0</th>\n",
              "      <th id=\"T_9106b_level0_col1\" class=\"col_heading level0 col1\" >1</th>\n",
              "      <th id=\"T_9106b_level0_col2\" class=\"col_heading level0 col2\" >2</th>\n",
              "      <th id=\"T_9106b_level0_col3\" class=\"col_heading level0 col3\" >3</th>\n",
              "      <th id=\"T_9106b_level0_col4\" class=\"col_heading level0 col4\" >4</th>\n",
              "      <th id=\"T_9106b_level0_col5\" class=\"col_heading level0 col5\" >5</th>\n",
              "      <th id=\"T_9106b_level0_col6\" class=\"col_heading level0 col6\" >6</th>\n",
              "      <th id=\"T_9106b_level0_col7\" class=\"col_heading level0 col7\" >7</th>\n",
              "      <th id=\"T_9106b_level0_col8\" class=\"col_heading level0 col8\" >8</th>\n",
              "      <th id=\"T_9106b_level0_col9\" class=\"col_heading level0 col9\" >9</th>\n",
              "      <th id=\"T_9106b_level0_col10\" class=\"col_heading level0 col10\" >10</th>\n",
              "      <th id=\"T_9106b_level0_col11\" class=\"col_heading level0 col11\" >11</th>\n",
              "      <th id=\"T_9106b_level0_col12\" class=\"col_heading level0 col12\" >12</th>\n",
              "      <th id=\"T_9106b_level0_col13\" class=\"col_heading level0 col13\" >13</th>\n",
              "      <th id=\"T_9106b_level0_col14\" class=\"col_heading level0 col14\" >14</th>\n",
              "      <th id=\"T_9106b_level0_col15\" class=\"col_heading level0 col15\" >15</th>\n",
              "      <th id=\"T_9106b_level0_col16\" class=\"col_heading level0 col16\" >16</th>\n",
              "      <th id=\"T_9106b_level0_col17\" class=\"col_heading level0 col17\" >17</th>\n",
              "    </tr>\n",
              "  </thead>\n",
              "  <tbody>\n",
              "    <tr>\n",
              "      <th id=\"T_9106b_level0_row0\" class=\"row_heading level0 row0\" >0</th>\n",
              "      <td id=\"T_9106b_row0_col0\" class=\"data row0 col0\" >0</td>\n",
              "      <td id=\"T_9106b_row0_col1\" class=\"data row0 col1\" >0</td>\n",
              "      <td id=\"T_9106b_row0_col2\" class=\"data row0 col2\" >0</td>\n",
              "      <td id=\"T_9106b_row0_col3\" class=\"data row0 col3\" >0</td>\n",
              "      <td id=\"T_9106b_row0_col4\" class=\"data row0 col4\" >0</td>\n",
              "      <td id=\"T_9106b_row0_col5\" class=\"data row0 col5\" >0</td>\n",
              "      <td id=\"T_9106b_row0_col6\" class=\"data row0 col6\" >0</td>\n",
              "      <td id=\"T_9106b_row0_col7\" class=\"data row0 col7\" >0</td>\n",
              "      <td id=\"T_9106b_row0_col8\" class=\"data row0 col8\" >0</td>\n",
              "      <td id=\"T_9106b_row0_col9\" class=\"data row0 col9\" >0</td>\n",
              "      <td id=\"T_9106b_row0_col10\" class=\"data row0 col10\" >0</td>\n",
              "      <td id=\"T_9106b_row0_col11\" class=\"data row0 col11\" >0</td>\n",
              "      <td id=\"T_9106b_row0_col12\" class=\"data row0 col12\" >0</td>\n",
              "      <td id=\"T_9106b_row0_col13\" class=\"data row0 col13\" >0</td>\n",
              "      <td id=\"T_9106b_row0_col14\" class=\"data row0 col14\" >0</td>\n",
              "      <td id=\"T_9106b_row0_col15\" class=\"data row0 col15\" >0</td>\n",
              "      <td id=\"T_9106b_row0_col16\" class=\"data row0 col16\" >0</td>\n",
              "      <td id=\"T_9106b_row0_col17\" class=\"data row0 col17\" >0</td>\n",
              "    </tr>\n",
              "    <tr>\n",
              "      <th id=\"T_9106b_level0_row1\" class=\"row_heading level0 row1\" >1</th>\n",
              "      <td id=\"T_9106b_row1_col0\" class=\"data row1 col0\" >0</td>\n",
              "      <td id=\"T_9106b_row1_col1\" class=\"data row1 col1\" >0</td>\n",
              "      <td id=\"T_9106b_row1_col2\" class=\"data row1 col2\" >0</td>\n",
              "      <td id=\"T_9106b_row1_col3\" class=\"data row1 col3\" >0</td>\n",
              "      <td id=\"T_9106b_row1_col4\" class=\"data row1 col4\" >0</td>\n",
              "      <td id=\"T_9106b_row1_col5\" class=\"data row1 col5\" >29</td>\n",
              "      <td id=\"T_9106b_row1_col6\" class=\"data row1 col6\" >150</td>\n",
              "      <td id=\"T_9106b_row1_col7\" class=\"data row1 col7\" >195</td>\n",
              "      <td id=\"T_9106b_row1_col8\" class=\"data row1 col8\" >254</td>\n",
              "      <td id=\"T_9106b_row1_col9\" class=\"data row1 col9\" >255</td>\n",
              "      <td id=\"T_9106b_row1_col10\" class=\"data row1 col10\" >254</td>\n",
              "      <td id=\"T_9106b_row1_col11\" class=\"data row1 col11\" >176</td>\n",
              "      <td id=\"T_9106b_row1_col12\" class=\"data row1 col12\" >193</td>\n",
              "      <td id=\"T_9106b_row1_col13\" class=\"data row1 col13\" >150</td>\n",
              "      <td id=\"T_9106b_row1_col14\" class=\"data row1 col14\" >96</td>\n",
              "      <td id=\"T_9106b_row1_col15\" class=\"data row1 col15\" >0</td>\n",
              "      <td id=\"T_9106b_row1_col16\" class=\"data row1 col16\" >0</td>\n",
              "      <td id=\"T_9106b_row1_col17\" class=\"data row1 col17\" >0</td>\n",
              "    </tr>\n",
              "    <tr>\n",
              "      <th id=\"T_9106b_level0_row2\" class=\"row_heading level0 row2\" >2</th>\n",
              "      <td id=\"T_9106b_row2_col0\" class=\"data row2 col0\" >0</td>\n",
              "      <td id=\"T_9106b_row2_col1\" class=\"data row2 col1\" >0</td>\n",
              "      <td id=\"T_9106b_row2_col2\" class=\"data row2 col2\" >0</td>\n",
              "      <td id=\"T_9106b_row2_col3\" class=\"data row2 col3\" >48</td>\n",
              "      <td id=\"T_9106b_row2_col4\" class=\"data row2 col4\" >166</td>\n",
              "      <td id=\"T_9106b_row2_col5\" class=\"data row2 col5\" >224</td>\n",
              "      <td id=\"T_9106b_row2_col6\" class=\"data row2 col6\" >253</td>\n",
              "      <td id=\"T_9106b_row2_col7\" class=\"data row2 col7\" >253</td>\n",
              "      <td id=\"T_9106b_row2_col8\" class=\"data row2 col8\" >234</td>\n",
              "      <td id=\"T_9106b_row2_col9\" class=\"data row2 col9\" >196</td>\n",
              "      <td id=\"T_9106b_row2_col10\" class=\"data row2 col10\" >253</td>\n",
              "      <td id=\"T_9106b_row2_col11\" class=\"data row2 col11\" >253</td>\n",
              "      <td id=\"T_9106b_row2_col12\" class=\"data row2 col12\" >253</td>\n",
              "      <td id=\"T_9106b_row2_col13\" class=\"data row2 col13\" >253</td>\n",
              "      <td id=\"T_9106b_row2_col14\" class=\"data row2 col14\" >233</td>\n",
              "      <td id=\"T_9106b_row2_col15\" class=\"data row2 col15\" >0</td>\n",
              "      <td id=\"T_9106b_row2_col16\" class=\"data row2 col16\" >0</td>\n",
              "      <td id=\"T_9106b_row2_col17\" class=\"data row2 col17\" >0</td>\n",
              "    </tr>\n",
              "    <tr>\n",
              "      <th id=\"T_9106b_level0_row3\" class=\"row_heading level0 row3\" >3</th>\n",
              "      <td id=\"T_9106b_row3_col0\" class=\"data row3 col0\" >0</td>\n",
              "      <td id=\"T_9106b_row3_col1\" class=\"data row3 col1\" >93</td>\n",
              "      <td id=\"T_9106b_row3_col2\" class=\"data row3 col2\" >244</td>\n",
              "      <td id=\"T_9106b_row3_col3\" class=\"data row3 col3\" >249</td>\n",
              "      <td id=\"T_9106b_row3_col4\" class=\"data row3 col4\" >253</td>\n",
              "      <td id=\"T_9106b_row3_col5\" class=\"data row3 col5\" >187</td>\n",
              "      <td id=\"T_9106b_row3_col6\" class=\"data row3 col6\" >46</td>\n",
              "      <td id=\"T_9106b_row3_col7\" class=\"data row3 col7\" >10</td>\n",
              "      <td id=\"T_9106b_row3_col8\" class=\"data row3 col8\" >8</td>\n",
              "      <td id=\"T_9106b_row3_col9\" class=\"data row3 col9\" >4</td>\n",
              "      <td id=\"T_9106b_row3_col10\" class=\"data row3 col10\" >10</td>\n",
              "      <td id=\"T_9106b_row3_col11\" class=\"data row3 col11\" >194</td>\n",
              "      <td id=\"T_9106b_row3_col12\" class=\"data row3 col12\" >253</td>\n",
              "      <td id=\"T_9106b_row3_col13\" class=\"data row3 col13\" >253</td>\n",
              "      <td id=\"T_9106b_row3_col14\" class=\"data row3 col14\" >233</td>\n",
              "      <td id=\"T_9106b_row3_col15\" class=\"data row3 col15\" >0</td>\n",
              "      <td id=\"T_9106b_row3_col16\" class=\"data row3 col16\" >0</td>\n",
              "      <td id=\"T_9106b_row3_col17\" class=\"data row3 col17\" >0</td>\n",
              "    </tr>\n",
              "    <tr>\n",
              "      <th id=\"T_9106b_level0_row4\" class=\"row_heading level0 row4\" >4</th>\n",
              "      <td id=\"T_9106b_row4_col0\" class=\"data row4 col0\" >0</td>\n",
              "      <td id=\"T_9106b_row4_col1\" class=\"data row4 col1\" >107</td>\n",
              "      <td id=\"T_9106b_row4_col2\" class=\"data row4 col2\" >253</td>\n",
              "      <td id=\"T_9106b_row4_col3\" class=\"data row4 col3\" >253</td>\n",
              "      <td id=\"T_9106b_row4_col4\" class=\"data row4 col4\" >230</td>\n",
              "      <td id=\"T_9106b_row4_col5\" class=\"data row4 col5\" >48</td>\n",
              "      <td id=\"T_9106b_row4_col6\" class=\"data row4 col6\" >0</td>\n",
              "      <td id=\"T_9106b_row4_col7\" class=\"data row4 col7\" >0</td>\n",
              "      <td id=\"T_9106b_row4_col8\" class=\"data row4 col8\" >0</td>\n",
              "      <td id=\"T_9106b_row4_col9\" class=\"data row4 col9\" >0</td>\n",
              "      <td id=\"T_9106b_row4_col10\" class=\"data row4 col10\" >0</td>\n",
              "      <td id=\"T_9106b_row4_col11\" class=\"data row4 col11\" >192</td>\n",
              "      <td id=\"T_9106b_row4_col12\" class=\"data row4 col12\" >253</td>\n",
              "      <td id=\"T_9106b_row4_col13\" class=\"data row4 col13\" >253</td>\n",
              "      <td id=\"T_9106b_row4_col14\" class=\"data row4 col14\" >156</td>\n",
              "      <td id=\"T_9106b_row4_col15\" class=\"data row4 col15\" >0</td>\n",
              "      <td id=\"T_9106b_row4_col16\" class=\"data row4 col16\" >0</td>\n",
              "      <td id=\"T_9106b_row4_col17\" class=\"data row4 col17\" >0</td>\n",
              "    </tr>\n",
              "    <tr>\n",
              "      <th id=\"T_9106b_level0_row5\" class=\"row_heading level0 row5\" >5</th>\n",
              "      <td id=\"T_9106b_row5_col0\" class=\"data row5 col0\" >0</td>\n",
              "      <td id=\"T_9106b_row5_col1\" class=\"data row5 col1\" >3</td>\n",
              "      <td id=\"T_9106b_row5_col2\" class=\"data row5 col2\" >20</td>\n",
              "      <td id=\"T_9106b_row5_col3\" class=\"data row5 col3\" >20</td>\n",
              "      <td id=\"T_9106b_row5_col4\" class=\"data row5 col4\" >15</td>\n",
              "      <td id=\"T_9106b_row5_col5\" class=\"data row5 col5\" >0</td>\n",
              "      <td id=\"T_9106b_row5_col6\" class=\"data row5 col6\" >0</td>\n",
              "      <td id=\"T_9106b_row5_col7\" class=\"data row5 col7\" >0</td>\n",
              "      <td id=\"T_9106b_row5_col8\" class=\"data row5 col8\" >0</td>\n",
              "      <td id=\"T_9106b_row5_col9\" class=\"data row5 col9\" >0</td>\n",
              "      <td id=\"T_9106b_row5_col10\" class=\"data row5 col10\" >43</td>\n",
              "      <td id=\"T_9106b_row5_col11\" class=\"data row5 col11\" >224</td>\n",
              "      <td id=\"T_9106b_row5_col12\" class=\"data row5 col12\" >253</td>\n",
              "      <td id=\"T_9106b_row5_col13\" class=\"data row5 col13\" >245</td>\n",
              "      <td id=\"T_9106b_row5_col14\" class=\"data row5 col14\" >74</td>\n",
              "      <td id=\"T_9106b_row5_col15\" class=\"data row5 col15\" >0</td>\n",
              "      <td id=\"T_9106b_row5_col16\" class=\"data row5 col16\" >0</td>\n",
              "      <td id=\"T_9106b_row5_col17\" class=\"data row5 col17\" >0</td>\n",
              "    </tr>\n",
              "    <tr>\n",
              "      <th id=\"T_9106b_level0_row6\" class=\"row_heading level0 row6\" >6</th>\n",
              "      <td id=\"T_9106b_row6_col0\" class=\"data row6 col0\" >0</td>\n",
              "      <td id=\"T_9106b_row6_col1\" class=\"data row6 col1\" >0</td>\n",
              "      <td id=\"T_9106b_row6_col2\" class=\"data row6 col2\" >0</td>\n",
              "      <td id=\"T_9106b_row6_col3\" class=\"data row6 col3\" >0</td>\n",
              "      <td id=\"T_9106b_row6_col4\" class=\"data row6 col4\" >0</td>\n",
              "      <td id=\"T_9106b_row6_col5\" class=\"data row6 col5\" >0</td>\n",
              "      <td id=\"T_9106b_row6_col6\" class=\"data row6 col6\" >0</td>\n",
              "      <td id=\"T_9106b_row6_col7\" class=\"data row6 col7\" >0</td>\n",
              "      <td id=\"T_9106b_row6_col8\" class=\"data row6 col8\" >0</td>\n",
              "      <td id=\"T_9106b_row6_col9\" class=\"data row6 col9\" >0</td>\n",
              "      <td id=\"T_9106b_row6_col10\" class=\"data row6 col10\" >249</td>\n",
              "      <td id=\"T_9106b_row6_col11\" class=\"data row6 col11\" >253</td>\n",
              "      <td id=\"T_9106b_row6_col12\" class=\"data row6 col12\" >245</td>\n",
              "      <td id=\"T_9106b_row6_col13\" class=\"data row6 col13\" >126</td>\n",
              "      <td id=\"T_9106b_row6_col14\" class=\"data row6 col14\" >0</td>\n",
              "      <td id=\"T_9106b_row6_col15\" class=\"data row6 col15\" >0</td>\n",
              "      <td id=\"T_9106b_row6_col16\" class=\"data row6 col16\" >0</td>\n",
              "      <td id=\"T_9106b_row6_col17\" class=\"data row6 col17\" >0</td>\n",
              "    </tr>\n",
              "    <tr>\n",
              "      <th id=\"T_9106b_level0_row7\" class=\"row_heading level0 row7\" >7</th>\n",
              "      <td id=\"T_9106b_row7_col0\" class=\"data row7 col0\" >0</td>\n",
              "      <td id=\"T_9106b_row7_col1\" class=\"data row7 col1\" >0</td>\n",
              "      <td id=\"T_9106b_row7_col2\" class=\"data row7 col2\" >0</td>\n",
              "      <td id=\"T_9106b_row7_col3\" class=\"data row7 col3\" >0</td>\n",
              "      <td id=\"T_9106b_row7_col4\" class=\"data row7 col4\" >0</td>\n",
              "      <td id=\"T_9106b_row7_col5\" class=\"data row7 col5\" >0</td>\n",
              "      <td id=\"T_9106b_row7_col6\" class=\"data row7 col6\" >0</td>\n",
              "      <td id=\"T_9106b_row7_col7\" class=\"data row7 col7\" >14</td>\n",
              "      <td id=\"T_9106b_row7_col8\" class=\"data row7 col8\" >101</td>\n",
              "      <td id=\"T_9106b_row7_col9\" class=\"data row7 col9\" >223</td>\n",
              "      <td id=\"T_9106b_row7_col10\" class=\"data row7 col10\" >253</td>\n",
              "      <td id=\"T_9106b_row7_col11\" class=\"data row7 col11\" >248</td>\n",
              "      <td id=\"T_9106b_row7_col12\" class=\"data row7 col12\" >124</td>\n",
              "      <td id=\"T_9106b_row7_col13\" class=\"data row7 col13\" >0</td>\n",
              "      <td id=\"T_9106b_row7_col14\" class=\"data row7 col14\" >0</td>\n",
              "      <td id=\"T_9106b_row7_col15\" class=\"data row7 col15\" >0</td>\n",
              "      <td id=\"T_9106b_row7_col16\" class=\"data row7 col16\" >0</td>\n",
              "      <td id=\"T_9106b_row7_col17\" class=\"data row7 col17\" >0</td>\n",
              "    </tr>\n",
              "    <tr>\n",
              "      <th id=\"T_9106b_level0_row8\" class=\"row_heading level0 row8\" >8</th>\n",
              "      <td id=\"T_9106b_row8_col0\" class=\"data row8 col0\" >0</td>\n",
              "      <td id=\"T_9106b_row8_col1\" class=\"data row8 col1\" >0</td>\n",
              "      <td id=\"T_9106b_row8_col2\" class=\"data row8 col2\" >0</td>\n",
              "      <td id=\"T_9106b_row8_col3\" class=\"data row8 col3\" >0</td>\n",
              "      <td id=\"T_9106b_row8_col4\" class=\"data row8 col4\" >0</td>\n",
              "      <td id=\"T_9106b_row8_col5\" class=\"data row8 col5\" >11</td>\n",
              "      <td id=\"T_9106b_row8_col6\" class=\"data row8 col6\" >166</td>\n",
              "      <td id=\"T_9106b_row8_col7\" class=\"data row8 col7\" >239</td>\n",
              "      <td id=\"T_9106b_row8_col8\" class=\"data row8 col8\" >253</td>\n",
              "      <td id=\"T_9106b_row8_col9\" class=\"data row8 col9\" >253</td>\n",
              "      <td id=\"T_9106b_row8_col10\" class=\"data row8 col10\" >253</td>\n",
              "      <td id=\"T_9106b_row8_col11\" class=\"data row8 col11\" >187</td>\n",
              "      <td id=\"T_9106b_row8_col12\" class=\"data row8 col12\" >30</td>\n",
              "      <td id=\"T_9106b_row8_col13\" class=\"data row8 col13\" >0</td>\n",
              "      <td id=\"T_9106b_row8_col14\" class=\"data row8 col14\" >0</td>\n",
              "      <td id=\"T_9106b_row8_col15\" class=\"data row8 col15\" >0</td>\n",
              "      <td id=\"T_9106b_row8_col16\" class=\"data row8 col16\" >0</td>\n",
              "      <td id=\"T_9106b_row8_col17\" class=\"data row8 col17\" >0</td>\n",
              "    </tr>\n",
              "    <tr>\n",
              "      <th id=\"T_9106b_level0_row9\" class=\"row_heading level0 row9\" >9</th>\n",
              "      <td id=\"T_9106b_row9_col0\" class=\"data row9 col0\" >0</td>\n",
              "      <td id=\"T_9106b_row9_col1\" class=\"data row9 col1\" >0</td>\n",
              "      <td id=\"T_9106b_row9_col2\" class=\"data row9 col2\" >0</td>\n",
              "      <td id=\"T_9106b_row9_col3\" class=\"data row9 col3\" >0</td>\n",
              "      <td id=\"T_9106b_row9_col4\" class=\"data row9 col4\" >0</td>\n",
              "      <td id=\"T_9106b_row9_col5\" class=\"data row9 col5\" >16</td>\n",
              "      <td id=\"T_9106b_row9_col6\" class=\"data row9 col6\" >248</td>\n",
              "      <td id=\"T_9106b_row9_col7\" class=\"data row9 col7\" >250</td>\n",
              "      <td id=\"T_9106b_row9_col8\" class=\"data row9 col8\" >253</td>\n",
              "      <td id=\"T_9106b_row9_col9\" class=\"data row9 col9\" >253</td>\n",
              "      <td id=\"T_9106b_row9_col10\" class=\"data row9 col10\" >253</td>\n",
              "      <td id=\"T_9106b_row9_col11\" class=\"data row9 col11\" >253</td>\n",
              "      <td id=\"T_9106b_row9_col12\" class=\"data row9 col12\" >232</td>\n",
              "      <td id=\"T_9106b_row9_col13\" class=\"data row9 col13\" >213</td>\n",
              "      <td id=\"T_9106b_row9_col14\" class=\"data row9 col14\" >111</td>\n",
              "      <td id=\"T_9106b_row9_col15\" class=\"data row9 col15\" >2</td>\n",
              "      <td id=\"T_9106b_row9_col16\" class=\"data row9 col16\" >0</td>\n",
              "      <td id=\"T_9106b_row9_col17\" class=\"data row9 col17\" >0</td>\n",
              "    </tr>\n",
              "    <tr>\n",
              "      <th id=\"T_9106b_level0_row10\" class=\"row_heading level0 row10\" >10</th>\n",
              "      <td id=\"T_9106b_row10_col0\" class=\"data row10 col0\" >0</td>\n",
              "      <td id=\"T_9106b_row10_col1\" class=\"data row10 col1\" >0</td>\n",
              "      <td id=\"T_9106b_row10_col2\" class=\"data row10 col2\" >0</td>\n",
              "      <td id=\"T_9106b_row10_col3\" class=\"data row10 col3\" >0</td>\n",
              "      <td id=\"T_9106b_row10_col4\" class=\"data row10 col4\" >0</td>\n",
              "      <td id=\"T_9106b_row10_col5\" class=\"data row10 col5\" >0</td>\n",
              "      <td id=\"T_9106b_row10_col6\" class=\"data row10 col6\" >0</td>\n",
              "      <td id=\"T_9106b_row10_col7\" class=\"data row10 col7\" >43</td>\n",
              "      <td id=\"T_9106b_row10_col8\" class=\"data row10 col8\" >98</td>\n",
              "      <td id=\"T_9106b_row10_col9\" class=\"data row10 col9\" >98</td>\n",
              "      <td id=\"T_9106b_row10_col10\" class=\"data row10 col10\" >208</td>\n",
              "      <td id=\"T_9106b_row10_col11\" class=\"data row10 col11\" >253</td>\n",
              "      <td id=\"T_9106b_row10_col12\" class=\"data row10 col12\" >253</td>\n",
              "      <td id=\"T_9106b_row10_col13\" class=\"data row10 col13\" >253</td>\n",
              "      <td id=\"T_9106b_row10_col14\" class=\"data row10 col14\" >253</td>\n",
              "      <td id=\"T_9106b_row10_col15\" class=\"data row10 col15\" >187</td>\n",
              "      <td id=\"T_9106b_row10_col16\" class=\"data row10 col16\" >22</td>\n",
              "      <td id=\"T_9106b_row10_col17\" class=\"data row10 col17\" >0</td>\n",
              "    </tr>\n",
              "  </tbody>\n",
              "</table>\n"
            ],
            "text/plain": [
              "<pandas.io.formats.style.Styler at 0x78654d0dfd00>"
            ]
          },
          "execution_count": 7,
          "metadata": {},
          "output_type": "execute_result"
        }
      ],
      "source": [
        "# slice data to obtain the top part of the number and color code data to show digit outline\n",
        "# slice data rows: 4(included)-15(excluded)\n",
        "# slice data columns: 4(included)-22(excluded)\n",
        "im3_t = tensor(im3)\n",
        "df = pd.DataFrame(im3_t[4:15,4:22])\n",
        "df.style.set_properties(**{'font-size':'6pt'}).background_gradient('Greys')"
      ]
    },
    {
      "cell_type": "markdown",
      "metadata": {
        "id": "E0sXeWP6Zoe7"
      },
      "source": [
        "## Baseline Model: Pixel Similarity"
      ]
    },
    {
      "cell_type": "markdown",
      "metadata": {
        "id": "765KtA434ktJ"
      },
      "source": [
        "The problem we're trying to solve is the following: How do we write a computer program to be able to distinguish between images of handwritten 3 and 7 digits.\n",
        "\n",
        "The first approach we try is **Pixel Similarity**. The FASTAI book authors define this as the following:\n",
        "\n",
        "1. Take the average pixel value for every pixel of the 3 images and do the same for the 7 images. These averages will produce a baseline image 3 and image 7.\n",
        "2. Go through every image in the 3 and 7 images and compare them to the baseline images to see which digit they are most similar to"
      ]
    },
    {
      "cell_type": "code",
      "execution_count": 8,
      "metadata": {
        "colab": {
          "base_uri": "https://localhost:8080/",
          "height": 298
        },
        "id": "9TwC4fO9Z7P3",
        "outputId": "1156cf26-8173-43f4-89fc-b67b82f55da9"
      },
      "outputs": [
        {
          "name": "stdout",
          "output_type": "stream",
          "text": [
            "Number of images in threes: 6131\n",
            "Number of images in three tensors: 6131\n",
            "Number of images in sevens: 6265\n",
            "Number of images in seven tensors: 6265\n"
          ]
        },
        {
          "data": {
            "text/plain": [
              "<Axes: >"
            ]
          },
          "execution_count": 8,
          "metadata": {},
          "output_type": "execute_result"
        },
        {
          "data": {
            "image/png": "[encoded data removed]",
            "text/plain": [
              "<Figure size 100x100 with 1 Axes>"
            ]
          },
          "metadata": {},
          "output_type": "display_data"
        },
        {
          "data": {
            "image/png": "[encoded data removed]",
            "text/plain": [
              "<Figure size 100x100 with 1 Axes>"
            ]
          },
          "metadata": {},
          "output_type": "display_data"
        }
      ],
      "source": [
        "# Create a list of tensors for each image in 3 and 7 directories\n",
        "three_tensors = [tensor(Image.open(o)) for o in threes]\n",
        "seven_tensors = [tensor(Image.open(o)) for o in sevens]\n",
        "\n",
        "print(f\"Number of images in threes: {len(threes)}\")\n",
        "print(f\"Number of images in three tensors: {len(three_tensors)}\")\n",
        "print(f\"Number of images in sevens: {len(sevens)}\")\n",
        "print(f\"Number of images in seven tensors: {len(seven_tensors)}\")\n",
        "\n",
        "# verify images\n",
        "show_image(three_tensors[1])\n",
        "show_image(seven_tensors[1])"
      ]
    },
    {
      "cell_type": "markdown",
      "metadata": {
        "id": "mtSOz8fR4ktJ"
      },
      "source": [
        "The way I understand tensors is that they are data structures for storing information. The way I understand the stack operation is storing all the images into a pile of images that we then then can average all the pixel values for each pixel index in the image."
      ]
    },
    {
      "cell_type": "code",
      "execution_count": 9,
      "metadata": {
        "colab": {
          "base_uri": "https://localhost:8080/"
        },
        "id": "ffZHUp7MpQdG",
        "outputId": "62223bfa-8fcf-4be2-9d5b-aa8e6ffeb049"
      },
      "outputs": [
        {
          "name": "stdout",
          "output_type": "stream",
          "text": [
            "stacked_sevens shape: torch.Size([6265, 28, 28])\n",
            "stacked_sevens tensor rank: 3\n",
            "stacked_threes shape: torch.Size([6131, 28, 28])\n",
            "stacked_threes tensor rank: 3\n"
          ]
        }
      ],
      "source": [
        "# Compute the average intensity of each pixel across all images for 3 and 7\n",
        "stacked_sevens = torch.stack(seven_tensors).float() / 255\n",
        "stacked_threes = torch.stack(three_tensors).float() / 255\n",
        "\n",
        "print(f\"stacked_sevens shape: {stacked_sevens.shape}\")\n",
        "print(f\"stacked_sevens tensor rank: {len(stacked_sevens.shape)}\")\n",
        "print(f\"stacked_threes shape: {stacked_threes.shape}\")\n",
        "print(f\"stacked_threes tensor rank: {len(stacked_threes.shape)}\")"
      ]
    },
    {
      "cell_type": "markdown",
      "metadata": {
        "id": "IdNUPlNE4ktK"
      },
      "source": [
        "In this step, we take the list of tensor images and condense them down into a new image where each pixel index in this new image is the average of all the values at a particular index."
      ]
    },
    {
      "cell_type": "code",
      "execution_count": 10,
      "metadata": {
        "colab": {
          "base_uri": "https://localhost:8080/",
          "height": 298
        },
        "id": "_uI1rt6dqT1D",
        "outputId": "c38f69b1-dc75-40e6-9618-fb47fc032ffd"
      },
      "outputs": [
        {
          "name": "stdout",
          "output_type": "stream",
          "text": [
            "mean3 shape: torch.Size([28, 28])\n",
            "mean3 tensor rank: 2\n",
            "mean7 shape: torch.Size([28, 28])\n",
            "mean7 tensor rank: 2\n"
          ]
        },
        {
          "data": {
            "text/plain": [
              "<Axes: >"
            ]
          },
          "execution_count": 10,
          "metadata": {},
          "output_type": "execute_result"
        },
        {
          "data": {
            "image/png": "[encoded data removed]",
            "text/plain": [
              "<Figure size 100x100 with 1 Axes>"
            ]
          },
          "metadata": {},
          "output_type": "display_data"
        },
        {
          "data": {
            "image/png": "[encoded data removed]",
            "text/plain": [
              "<Figure size 100x100 with 1 Axes>"
            ]
          },
          "metadata": {},
          "output_type": "display_data"
        }
      ],
      "source": [
        " # Average of all image tensors by taking mean along the 0 dimension (collapse all the rows into a single row) of stacked 3 rank tensors\n",
        "mean3 = stacked_threes.mean(0)\n",
        "mean7 = stacked_sevens.mean(0)\n",
        "print(f\"mean3 shape: {mean3.shape}\")\n",
        "print(f\"mean3 tensor rank: {len(mean3.shape)}\")\n",
        "print(f\"mean7 shape: {mean7.shape}\")\n",
        "print(f\"mean7 tensor rank: {len(mean7.shape)}\")\n",
        "show_image(mean3)\n",
        "show_image(mean7)"
      ]
    },
    {
      "cell_type": "markdown",
      "metadata": {
        "id": "YONdjxUir6z3"
      },
      "source": [
        "## Measuring Distance"
      ]
    },
    {
      "cell_type": "markdown",
      "metadata": {
        "id": "8juaqatg4ktL"
      },
      "source": [
        "To compare the baseline image with a randomly chosen image from one of the datasets we need to measure the difference between pixels such that we have a standardized form so that the differences accurately reflect what pixels are dark and light when comparing the two images."
      ]
    },
    {
      "cell_type": "code",
      "execution_count": 11,
      "metadata": {
        "colab": {
          "base_uri": "https://localhost:8080/"
        },
        "id": "0sTWSZ_3tlWl",
        "outputId": "52fd0c5e-f103-4346-d91e-40d21d32553e"
      },
      "outputs": [
        {
          "name": "stdout",
          "output_type": "stream",
          "text": [
            "Mean Absolute Difference between 3 image and ideal 3 image: 0.11143654584884644\n",
            "Mean Absolute Difference between 7 image and ideal 7 image: 0.13037648797035217\n",
            "Mean Absolute Difference between 3 image and ideal 7 image: 0.15861910581588745\n"
          ]
        }
      ],
      "source": [
        "# Mean Absolute Difference (L1 Norm)\n",
        "a_3 = stacked_threes[1]\n",
        "a_7 = stacked_sevens[1]\n",
        "\n",
        "dist_3_abs = (a_3 - mean3).abs().mean()\n",
        "dist_7_abs = (a_7 - mean7).abs().mean()\n",
        "\n",
        "print(f\"Mean Absolute Difference between 3 image and ideal 3 image: {dist_3_abs}\")\n",
        "print(f\"Mean Absolute Difference between 7 image and ideal 7 image: {dist_7_abs}\")\n",
        "\n",
        "# see how close 3 is to ideal 7\n",
        "dist_test_abs = (a_3 - mean7).abs().mean()\n",
        "print(f\"Mean Absolute Difference between 3 image and ideal 7 image: {dist_test_abs}\")"
      ]
    },
    {
      "cell_type": "code",
      "execution_count": 12,
      "metadata": {
        "colab": {
          "base_uri": "https://localhost:8080/"
        },
        "id": "CcA5skXXtpzR",
        "outputId": "91b584b0-7ea6-489c-b48b-1f460fcb90b9"
      },
      "outputs": [
        {
          "name": "stdout",
          "output_type": "stream",
          "text": [
            "Root Mean Squared Difference between 3 image and ideal 3 image: 0.20208320021629333\n",
            "Root Mean Squared Difference between 7 image and ideal 7 image: 0.2584923207759857\n",
            "Root Mean Squared Difference between 3 image and ideal 7 image: 0.30210891366004944\n"
          ]
        }
      ],
      "source": [
        "# Root Mean Squared Error (L2 Norm)\n",
        "a_3 = stacked_threes[1]\n",
        "a_7 = stacked_sevens[1]\n",
        "\n",
        "dist_3_sqr = ((a_3 - mean3)**2).mean().sqrt()\n",
        "dist_7_sqr = ((a_7 - mean7)**2).mean().sqrt()\n",
        "dist_test_sqr = ((a_3 - mean7)**2).mean().sqrt()\n",
        "print(f\"Root Mean Squared Difference between 3 image and ideal 3 image: {dist_3_sqr}\")\n",
        "print(f\"Root Mean Squared Difference between 7 image and ideal 7 image: {dist_7_sqr}\")\n",
        "\n",
        "# see how close 3 is to ideal 7\n",
        "print(f\"Root Mean Squared Difference between 3 image and ideal 7 image: {dist_test_sqr}\")"
      ]
    },
    {
      "cell_type": "code",
      "execution_count": 13,
      "metadata": {
        "colab": {
          "base_uri": "https://localhost:8080/"
        },
        "id": "JHePpZuau0Gq",
        "outputId": "19a15a6c-7739-4a1d-e4ab-fe5bcbbebcbf"
      },
      "outputs": [
        {
          "name": "stdout",
          "output_type": "stream",
          "text": [
            "Pytorch Mean Absolute Value Loss between 3 image and ideal 7 image: 0.15861910581588745\n",
            "Pytorch Mean Squared Error Loss between 3 image and ideal 7 image: 0.30210891366004944\n"
          ]
        }
      ],
      "source": [
        "# Pytorch Mean Squared Error and Mean Absolute Value Loss\n",
        "print(f\"Pytorch Mean Absolute Value Loss between 3 image and ideal 7 image: {F.l1_loss(a_3.float(), mean7)}\")\n",
        "print(f\"Pytorch Mean Squared Error Loss between 3 image and ideal 7 image: {F.mse_loss(a_3, mean7).sqrt()}\")"
      ]
    },
    {
      "cell_type": "markdown",
      "metadata": {
        "id": "1iH81mRSwwOn"
      },
      "source": [
        "## Pytorch + Numpy"
      ]
    },
    {
      "cell_type": "markdown",
      "metadata": {
        "id": "HlB5Zlww4ktM"
      },
      "source": [
        "The main difference between pytorch and numpy is that pytorch supports using the GPU and calculating gradients which numpy does not."
      ]
    },
    {
      "cell_type": "code",
      "execution_count": 14,
      "metadata": {
        "colab": {
          "base_uri": "https://localhost:8080/"
        },
        "id": "ljUfV1IXxlkW",
        "outputId": "653bbebd-adcb-4289-8d35-f343804b2ccc"
      },
      "outputs": [
        {
          "name": "stdout",
          "output_type": "stream",
          "text": [
            "select the second row of tensor: tensor([4, 5, 6])\n",
            "select the second column of tensor: tensor([[1, 2, 3]])\n",
            "select slice of tensor: tensor([5, 6])\n",
            "Addition with tensors: tensor([[2, 3, 4],\n",
            "        [5, 6, 7]])\n",
            "tensor type: torch.LongTensor\n",
            "changing tensor type from int to float: tensor([[1.5000, 3.0000, 4.5000],\n",
            "        [6.0000, 7.5000, 9.0000]])\n"
          ]
        }
      ],
      "source": [
        "data = [[1, 2, 3], [4, 5, 6]]\n",
        "# numpy array\n",
        "arr = array(data)\n",
        "# tensor\n",
        "tns = tensor(data)\n",
        "\n",
        "# select a row\n",
        "print(f\"select the second row of tensor: {tns[1]}\")\n",
        "\n",
        "# select a column\n",
        "print(f\"select the second column of tensor: {tns[:1]}\")\n",
        "\n",
        "# slicing\n",
        "print(f\"select slice of tensor: {tns[1, 1:3]}\")\n",
        "\n",
        "# addition\n",
        "print(f\"Addition with tensors: {tns + 1}\")\n",
        "\n",
        "# types\n",
        "print(f\"tensor type: {tns.type()}\")\n",
        "\n",
        "# scale and update tensor type\n",
        "print(f\"changing tensor type from int to float: {tns * 1.5}\")"
      ]
    },
    {
      "cell_type": "markdown",
      "metadata": {
        "id": "6SP9Wo4Myew4"
      },
      "source": [
        "## Computing Metrics"
      ]
    },
    {
      "cell_type": "markdown",
      "metadata": {
        "id": "1Tt7slQ94ktM"
      },
      "source": [
        "A metric is a number that is calculated based on the predictions of the model and the correct labels and inform us how good the model is. For classification models, **accuracy** is a popular metric."
      ]
    },
    {
      "cell_type": "code",
      "execution_count": 15,
      "metadata": {
        "colab": {
          "base_uri": "https://localhost:8080/"
        },
        "id": "bs4ByUZQyoQu",
        "outputId": "9a15b9eb-b26f-4ae5-a667-ababb24c8a28"
      },
      "outputs": [
        {
          "name": "stdout",
          "output_type": "stream",
          "text": [
            "3 validation set shape: torch.Size([1010, 28, 28])\n",
            "3 validation set tensor rank: 3\n",
            "7 validation set shape: torch.Size([1028, 28, 28])\n",
            "7 validation set tensor rank: 3\n"
          ]
        }
      ],
      "source": [
        "# create validation data set\n",
        "valid_3_tens = torch.stack([tensor(Image.open(o))\n",
        "                            for o in (path/'valid'/'3').ls()])\n",
        "valid_3_tens = valid_3_tens.float() / 255\n",
        "valid_7_tens = torch.stack([tensor(Image.open(o))\n",
        "                            for o in (path/'valid'/'7').ls()])\n",
        "valid_7_tens = valid_7_tens.float() / 255\n",
        "\n",
        "print(f\"3 validation set shape: {valid_3_tens.shape}\")\n",
        "print(f\"3 validation set tensor rank: {len(valid_3_tens.shape)}\")\n",
        "print(f\"7 validation set shape: {valid_7_tens.shape}\")\n",
        "print(f\"7 validation set tensor rank: {len(valid_7_tens.shape)}\")"
      ]
    },
    {
      "cell_type": "code",
      "execution_count": 16,
      "metadata": {
        "colab": {
          "base_uri": "https://localhost:8080/"
        },
        "id": "_h4Cw9DbzN4A",
        "outputId": "0e1aff34-5d3a-47ee-f234-ae842ef21c00"
      },
      "outputs": [
        {
          "name": "stdout",
          "output_type": "stream",
          "text": [
            "Distance function measuring the distance between 3 image and ideal 3 image: 0.11143654584884644\n",
            "Distance between validation set 3 image and ideal training data set 3 image: tensor([0.1163, 0.1464, 0.1188,  ..., 0.1508, 0.1018, 0.1285])\n",
            "Valid 3 distance tensor shape: torch.Size([1010])\n",
            "Valid 3 distance tensor rank: 1\n"
          ]
        }
      ],
      "source": [
        "# MNIST Data Distance Function\n",
        "def mnist_distance(a, b):\n",
        "  # (-1, -2) represent a range of axes. Tell Pytorch to take the mean ranging over the values\n",
        "  # indexed by the last two axes of the tensor (horizontal and vertical dimensions of the image)\n",
        "  # leaves only the first tensor axis which indexes over images and the final size -> averaged the intensity of all the pixels\n",
        "  # in the image\n",
        "  return (a - b).abs().mean((-1,-2))\n",
        "print(f\"Distance function measuring the distance between 3 image and ideal 3 image: {mnist_distance(a_3, mean3)}\")\n",
        "\n",
        "# measure distance between validation set 3 and ideal 3 tensor\n",
        "valid_3_dist = mnist_distance(valid_3_tens, mean3)\n",
        "print(f\"Distance between validation set 3 image and ideal training data set 3 image: {valid_3_dist}\")\n",
        "print(f\"Valid 3 distance tensor shape: {valid_3_dist.shape}\")\n",
        "print(f\"Valid 3 distance tensor rank: {len(valid_3_dist.shape)}\")"
      ]
    },
    {
      "cell_type": "code",
      "execution_count": 17,
      "metadata": {
        "colab": {
          "base_uri": "https://localhost:8080/"
        },
        "id": "84mJjR3Zz1dz",
        "outputId": "b5bb6c3a-40b1-469f-ad56-eb35923adc41"
      },
      "outputs": [
        {
          "name": "stdout",
          "output_type": "stream",
          "text": [
            "Check if 3 image is actually a 3 image as a boolean: True\n",
            "Check if 3 image is actually a 3 image as a float: 1.0\n",
            "check if all 3 images in validation set are 3 images: tensor([True, True, True,  ..., True, True, True])\n"
          ]
        }
      ],
      "source": [
        "# check if image is a 3\n",
        "def is_3(x):\n",
        "  return mnist_distance(x, mean3) < mnist_distance(x, mean7)\n",
        "\n",
        "print(f\"Check if 3 image is actually a 3 image as a boolean: {is_3(a_3)}\")\n",
        "# 1.0 - true\n",
        "# 0.0 - false\n",
        "print(f\"Check if 3 image is actually a 3 image as a float: {is_3(a_3).float()}\")\n",
        "\n",
        "# check all 3 images\n",
        "print(f\"check if all 3 images in validation set are 3 images: {is_3(valid_3_tens)}\")"
      ]
    },
    {
      "cell_type": "code",
      "execution_count": 18,
      "metadata": {
        "colab": {
          "base_uri": "https://localhost:8080/"
        },
        "id": "48AK8A_s5nMG",
        "outputId": "8400652a-47dd-4950-db4d-742c8a1ee57a"
      },
      "outputs": [
        {
          "name": "stdout",
          "output_type": "stream",
          "text": [
            "Model accuracy for classifying 3 images: 0.9168316721916199\n",
            "Model accuracy for classifying 7 images: 0.9854085445404053\n",
            "Average model accuracy for classifying 3 and 7 images: 0.951120138168335\n"
          ]
        }
      ],
      "source": [
        "# Compute Accuracy of 3 and 7 Images\n",
        "accuracy_3s = is_3(valid_3_tens).float() .mean()\n",
        "accuracy_7s = (1 - is_3(valid_7_tens).float()).mean()\n",
        "\n",
        "print(f\"Model accuracy for classifying 3 images: {accuracy_3s}\")\n",
        "print(f\"Model accuracy for classifying 7 images: {accuracy_7s}\")\n",
        "print(f\"Average model accuracy for classifying 3 and 7 images: {(accuracy_3s+accuracy_7s)/2}\")"
      ]
    },
    {
      "cell_type": "markdown",
      "metadata": {
        "id": "OWjkthV76peu"
      },
      "source": [
        "## Stochastic Gradient Descent"
      ]
    },
    {
      "cell_type": "markdown",
      "metadata": {
        "id": "zPd9XH6x4ktS"
      },
      "source": [
        "In the **Pixel Similarity** approach from above, we don't have a way for the model to learn and improve its accuracy. Instead of trying to compare an image with an ideal image, we can use **Stochastic Gradient Descent (SGD)** to look at each individual pixel and come up with a set of weights with large weights associated with pixels that are the most black for a particular label (ie. digit in MNIST data) using Arthur Samuel's definition of machine learning"
      ]
    },
    {
      "cell_type": "markdown",
      "metadata": {
        "id": "mH7Jm2KB4ktS"
      },
      "source": [
        "### Stochastic Gradient Descent Steps for an Image Classifier\n",
        "1. initialize weights\n",
        "2. Calculate Predictions\n",
        "3. Based on the predictions, calculate how good the model is (its loss)\n",
        "4. Calculate the gradient which measures for each weight, how changing that weight would change the loss\n",
        "5. Step (change) all the weights based on Step 4\n",
        "6. Go back to Step 2 and repeat the process\n",
        "7. Iterate until you decide to stop the training process until you decide the model is good enough for your problem"
      ]
    },
    {
      "cell_type": "markdown",
      "metadata": {
        "id": "Ti0TOp3r4ktS"
      },
      "source": [
        "The problem below is an example from the FastAI Book simulating a roller coaster and trying to find a function that best fits the data to understand how speed changes over time"
      ]
    },
    {
      "cell_type": "code",
      "execution_count": 19,
      "metadata": {
        "colab": {
          "base_uri": "https://localhost:8080/",
          "height": 1000
        },
        "id": "iaiCFk5j_KSo",
        "outputId": "2590d8af-3f36-4b49-dbfc-21c45d18f101"
      },
      "outputs": [
        {
          "name": "stdout",
          "output_type": "stream",
          "text": [
            "The parameter values after initialization: tensor([ 0.2816,  0.9605, -1.2062], requires_grad=True)\n",
            "The original parameters: tensor([ 0.2816,  0.9605, -1.2062], grad_fn=<CloneBackward0>)\n",
            "Loss value: 1770.0677490234375\n",
            "Gradient values for each argument: tensor([11310.8789,   742.4634,    34.8602])\n",
            "Test a new gradient with a learning rate of 1e^-5: tensor([0.1131, 0.0074, 0.0003])\n",
            "Parameter values after computing the gradient: tensor([ 0.2816,  0.9605, -1.2062], requires_grad=True)\n",
            "Loss Value: 848.1575927734375\n",
            "Loss Value: 673.7000732421875\n",
            "Loss Value: 640.683349609375\n",
            "Loss Value: 634.4315795898438\n",
            "Loss Value: 633.2445068359375\n",
            "Loss Value: 633.0159301757812\n",
            "Loss Value: 632.9686279296875\n",
            "Loss Value: 632.9556884765625\n",
            "Loss Value: 632.94921875\n",
            "Loss Value: 632.9440307617188\n"
          ]
        },
        {
          "data": {
            "image/png": "[encoded data removed]",
            "text/plain": [
              "<Figure size 640x480 with 1 Axes>"
            ]
          },
          "metadata": {},
          "output_type": "display_data"
        },
        {
          "data": {
            "image/png": "[encoded data removed]",
            "text/plain": [
              "<Figure size 640x480 with 1 Axes>"
            ]
          },
          "metadata": {},
          "output_type": "display_data"
        },
        {
          "data": {
            "image/png": "[encoded data removed]",
            "text/plain": [
              "<Figure size 640x480 with 1 Axes>"
            ]
          },
          "metadata": {},
          "output_type": "display_data"
        },
        {
          "data": {
            "image/png": "[encoded data removed]",
            "text/plain": [
              "<Figure size 1200x300 with 4 Axes>"
            ]
          },
          "metadata": {},
          "output_type": "display_data"
        }
      ],
      "source": [
        "# Roller Coaster Problem with Stochastic Gradient Descent\n",
        "# generate data\n",
        "time = torch.arange(0,20).float()\n",
        "speed = torch.randn(20) * 3 + 0.75 * (time - 9.5)**2 + 1\n",
        "plt.scatter(time,speed)\n",
        "\n",
        "# use SGD to find a function that fits the data for the rollercoaster data\n",
        "# t - the time when we are measuring the rollercoaster speed\n",
        "# params - the values that define which quadratic we're trying\n",
        "def f(t, params):\n",
        "    a,b,c = params\n",
        "    return a * (t**2) + (b * t) + c\n",
        "\n",
        "# Define a loss function - returns a value based on a prediction and a target\n",
        "# where lower values of the functions correspond to better predictions. Need\n",
        "#  loss function to return lower values when predictions are more accurate, as\n",
        "#  SGD is trying to minimize this loss. For continuous data, Mean Square Error is\n",
        "#  frequently used\n",
        "def mse(preds, targets):\n",
        "  return ((preds-targets)**2).mean()\n",
        "\n",
        "# SGD Process\n",
        "# function for visualizing how close our predictions are to targets\n",
        "def show_preds(preds, ax=None):\n",
        "    if ax is None: ax=plt.subplots()[1]\n",
        "    ax.scatter(time, speed)\n",
        "    ax.scatter(time, to_np(preds), color='red')\n",
        "    ax.set_ylim(-300,100)\n",
        "\n",
        "# 1. initialize weights\n",
        "params = torch.randn(3).requires_grad_()\n",
        "print(f\"The parameter values after initialization: {params}\")\n",
        "orig_params = params.clone()\n",
        "print(f\"The original parameters: {orig_params}\")\n",
        "\n",
        "# 2. Calculate Predictions\n",
        "preds = f(time, params)\n",
        "show_preds(preds)\n",
        "\n",
        "# 3. Based on the predictions, calculate how good the model is (its loss)\n",
        "loss = mse(preds, speed)\n",
        "print(f\"Loss value: {loss}\")\n",
        "\n",
        "# 4. Calculate the gradient which measures for each weight, how changing that weight would change the loss\n",
        "loss.backward()\n",
        "print(f\"Gradient values for each argument: {params.grad}\")\n",
        "# Calculate approximation of how parameters need to change\n",
        "print(f\"Test a new gradient with a learning rate of 1e^-5: {params.grad * 1e-5}\")\n",
        "print(f\"Parameter values after computing the gradient: {params}\")\n",
        "\n",
        "# 5. Step (change) all the weights based on Step 4\n",
        "learning_rate = 1e-5\n",
        "params.data -= learning_rate * params.grad.data\n",
        "params.grad = None\n",
        "# Check if loss has improved\n",
        "preds = f(time, params)\n",
        "mse(preds, speed)\n",
        "show_preds(preds)\n",
        "\n",
        "# 6. Go back to Step 2 and repeat the process\n",
        "def apply_step(params, prn=True):\n",
        "    preds = f(time, params)\n",
        "    loss = mse(preds, speed)\n",
        "    loss.backward()\n",
        "    params.data -= learning_rate * params.grad.data\n",
        "    params.grad = None\n",
        "    if prn:\n",
        "      print(f\"Loss Value: {loss.item()}\")\n",
        "    return preds\n",
        "\n",
        "for i in range(10):\n",
        "  apply_step(params)\n",
        "params = orig_params.detach().requires_grad_()\n",
        "\n",
        "# 7. Iterate until you decide to stop the training process until you decide the model is good enough for your problem\n",
        "_,axs = plt.subplots(1,4,figsize=(12,3))\n",
        "for ax in axs: show_preds(apply_step(params, False), ax)\n",
        "plt.tight_layout()"
      ]
    },
    {
      "cell_type": "markdown",
      "metadata": {
        "id": "8YAQFDae_sMb"
      },
      "source": [
        "## Building the MNIST Image Classifier"
      ]
    },
    {
      "cell_type": "markdown",
      "metadata": {
        "id": "jai_69X_4ktT"
      },
      "source": [
        "### Training Dataset"
      ]
    },
    {
      "cell_type": "code",
      "execution_count": 20,
      "metadata": {
        "colab": {
          "base_uri": "https://localhost:8080/"
        },
        "id": "JmZEeUzPRyCX",
        "outputId": "16886eb9-59cb-480a-d302-5fa530f81a79"
      },
      "outputs": [
        {
          "name": "stdout",
          "output_type": "stream",
          "text": [
            "train_x data shape: torch.Size([12396, 784])\n",
            "train_x data tensor rank: 2\n",
            "train_y data shape: torch.Size([12396, 1])\n",
            "train_y data tensor rank: 2\n"
          ]
        }
      ],
      "source": [
        "# Build Training Dataset\n",
        "# -1 view function -> make this axis as big as necessary to fit all the data\n",
        "train_x = torch.cat([stacked_threes, stacked_sevens]).view(-1, 28*28)\n",
        "train_y = tensor([1]*len(threes) + [0]*len(sevens)).unsqueeze(1)\n",
        "\n",
        "print(f\"train_x data shape: {train_x.shape}\")\n",
        "print(f\"train_x data tensor rank: {len(train_x.shape)}\")\n",
        "print(f\"train_y data shape: {train_y.shape}\")\n",
        "print(f\"train_y data tensor rank: {len(train_y.shape)}\")"
      ]
    },
    {
      "cell_type": "markdown",
      "metadata": {
        "id": "OcXPNERI4ktT"
      },
      "source": [
        "### Validation Dataset"
      ]
    },
    {
      "cell_type": "code",
      "execution_count": 21,
      "metadata": {
        "colab": {
          "base_uri": "https://localhost:8080/"
        },
        "id": "XnaftbOgS-QS",
        "outputId": "72211316-50d2-4c75-e735-beaeb05285ea"
      },
      "outputs": [
        {
          "name": "stdout",
          "output_type": "stream",
          "text": [
            "valid_x data shape: torch.Size([2038, 784])\n",
            "valid_x data tensor rank: 2\n",
            "valid_y data shape: torch.Size([2038, 1])\n",
            "valid_y data tensor rank: 2\n"
          ]
        }
      ],
      "source": [
        "# Build Validation Dataset\n",
        "valid_x = torch.cat([valid_3_tens, valid_7_tens]).view(-1, 28*28)\n",
        "valid_y = tensor([1]*len(valid_3_tens) + [0]*len(valid_7_tens)).unsqueeze(1)\n",
        "print(f\"valid_x data shape: {valid_x.shape}\")\n",
        "print(f\"valid_x data tensor rank: {len(valid_x.shape)}\")\n",
        "print(f\"valid_y data shape: {valid_y.shape}\")\n",
        "print(f\"valid_y data tensor rank: {len(valid_y.shape)}\")"
      ]
    },
    {
      "cell_type": "code",
      "execution_count": 22,
      "metadata": {
        "colab": {
          "base_uri": "https://localhost:8080/"
        },
        "id": "jkFpNnQGR8Sz",
        "outputId": "b880852e-786e-4af3-b64e-7535d64846ce"
      },
      "outputs": [
        {
          "name": "stdout",
          "output_type": "stream",
          "text": [
            "datset x shape: torch.Size([784])\n",
            "dataset x tensor rank: 1\n",
            "datset y shape: torch.Size([1])\n",
            "dataset y tensor rank: 1\n"
          ]
        }
      ],
      "source": [
        "# Build a Dataset object(training data) for PyTorch\n",
        "# Dataset is required to return a tuple of (x, y) when indexed\n",
        "dset = list(zip(train_x,train_y))\n",
        "x,y = dset[0]\n",
        "print(f\"datset x shape: {x.shape}\")\n",
        "print(f\"dataset x tensor rank: {len(x.shape)}\")\n",
        "print(f\"datset y shape: {y.shape}\")\n",
        "print(f\"dataset y tensor rank: {len(y.shape)}\")"
      ]
    },
    {
      "cell_type": "code",
      "execution_count": 23,
      "metadata": {
        "id": "qpnztYSYS13x"
      },
      "outputs": [],
      "source": [
        "# Build a Dataset object(validation data) for PyTorch\n",
        "# Dataset is required to return a tuple of (x, y) when indexed\n",
        "valid_dset = list(zip(valid_x,valid_y))"
      ]
    },
    {
      "cell_type": "markdown",
      "metadata": {
        "id": "AK57z8kS4ktU"
      },
      "source": [
        "### Initialize Model Weights"
      ]
    },
    {
      "cell_type": "code",
      "execution_count": 24,
      "metadata": {
        "id": "N_q_IuQ8Td66"
      },
      "outputs": [],
      "source": [
        "# Initialize model weights\n",
        "def init_params(size, std=1.0):\n",
        "  return (torch.randn(size)*std).requires_grad_()\n",
        "\n",
        "weights = init_params((28 * 28,1))\n",
        "\n",
        "# Initialize a Bias Value\n",
        "# need a bias to ensure its not 0 when the pixels are 0\n",
        "bias = init_params(1)"
      ]
    },
    {
      "cell_type": "code",
      "execution_count": 25,
      "metadata": {
        "colab": {
          "base_uri": "https://localhost:8080/"
        },
        "id": "Wh1K9a15Tt3u",
        "outputId": "88248cc1-5ed1-4ac4-b218-aea35c1113ad"
      },
      "outputs": [
        {
          "name": "stdout",
          "output_type": "stream",
          "text": [
            "Prediction for a single image from training data: tensor([-4.6132], grad_fn=<AddBackward0>)\n"
          ]
        }
      ],
      "source": [
        "# Calculate a prediction for one image\n",
        "print(f\"Prediction for a single image from training data: {(train_x[0]*weights.T).sum() + bias}\")"
      ]
    },
    {
      "cell_type": "markdown",
      "metadata": {
        "id": "nszHM7S04ktV"
      },
      "source": [
        "### Linear Classifier"
      ]
    },
    {
      "cell_type": "code",
      "execution_count": 26,
      "metadata": {
        "colab": {
          "base_uri": "https://localhost:8080/"
        },
        "id": "NcAb_EymUHd-",
        "outputId": "0b5d74ce-8cbd-45ef-d00a-4312f0daf815"
      },
      "outputs": [
        {
          "name": "stdout",
          "output_type": "stream",
          "text": [
            "Predictions\n",
            "tensor([[-4.6132],\n",
            "        [-8.5214],\n",
            "        [-6.7243],\n",
            "        ...,\n",
            "        [-6.6400],\n",
            "        [ 3.2664],\n",
            "        [-6.1007]], grad_fn=<AddBackward0>)\n",
            "Prediction shape: torch.Size([12396, 1])\n",
            "Prediction tensor rank: 2\n"
          ]
        }
      ],
      "source": [
        "# Matrix Multiplication\n",
        "#  Create a linear combination for the prediction values\n",
        "# compute predictions for all the images in the training data\n",
        "def linear1(xb):\n",
        "  return xb@weights + bias\n",
        "preds = linear1(train_x)\n",
        "print(f\"Predictions\")\n",
        "print(preds)\n",
        "print(f\"Prediction shape: {preds.shape}\")\n",
        "print(f\"Prediction tensor rank: {len(preds.shape)}\")"
      ]
    },
    {
      "cell_type": "code",
      "execution_count": 27,
      "metadata": {
        "colab": {
          "base_uri": "https://localhost:8080/"
        },
        "id": "lxaohpD_W2h5",
        "outputId": "fc87adf4-1273-408f-ec1b-a95430ff67fb"
      },
      "outputs": [
        {
          "name": "stdout",
          "output_type": "stream",
          "text": [
            "Accuracy of Predictions: tensor([[False],\n",
            "        [False],\n",
            "        [False],\n",
            "        ...,\n",
            "        [ True],\n",
            "        [False],\n",
            "        [ True]])\n",
            "Average accuracy of all predictions: 0.36156824231147766\n"
          ]
        }
      ],
      "source": [
        "# Check accuracy of prediction\n",
        "corrects = (preds>0.0).float() == train_y\n",
        "print(f\"Accuracy of Predictions: {corrects}\")\n",
        "print(f\"Average accuracy of all predictions: {corrects.float().mean().item()}\")"
      ]
    },
    {
      "cell_type": "code",
      "execution_count": 28,
      "metadata": {
        "colab": {
          "base_uri": "https://localhost:8080/"
        },
        "id": "iE9nSsR7XGeq",
        "outputId": "d902f296-7257-4deb-92bf-e0e34ae9fd34"
      },
      "outputs": [
        {
          "name": "stdout",
          "output_type": "stream",
          "text": [
            "Average accuracy after updating the weights: 0.36156824231147766\n"
          ]
        }
      ],
      "source": [
        "# Improve Accuracy\n",
        "# test to see if we can improve accuracy with a small change\n",
        "with torch.no_grad():\n",
        "  weights[0] *= 1.0001\n",
        "preds = linear1(train_x)\n",
        "print(f\"Average accuracy after updating the weights: {((preds>0.0).float() == train_y).float().mean().item()}\")\n",
        "\n",
        "# there is no change because the change in weights is so small that (y_new - y_old) is very close to 0 ie.\n",
        "# the gradient is almost 0 everywhere\n",
        "\n",
        "# need to find a loss function which when our weights result in slightly better predictions produces a slightly better loss"
      ]
    },
    {
      "cell_type": "markdown",
      "metadata": {
        "id": "XkEqczhb4ktV"
      },
      "source": [
        "### Loss Function"
      ]
    },
    {
      "cell_type": "code",
      "execution_count": 29,
      "metadata": {
        "colab": {
          "base_uri": "https://localhost:8080/"
        },
        "id": "d4KvYbp3X6EJ",
        "outputId": "c87dd300-dc32-4dcd-f1ce-a9caea5a65eb"
      },
      "outputs": [
        {
          "name": "stdout",
          "output_type": "stream",
          "text": [
            "Test loss function: 0.43333330750465393\n",
            "Test loss function with sigmoid: 0.44596806168556213\n"
          ]
        }
      ],
      "source": [
        "# Build a Loss Function\n",
        "# loss function receive predictions from the model about the images\n",
        "# the purpose of the loss function is to measure the difference between predicted values and true values ie the labels\n",
        "trgts  = tensor([1,0,1])\n",
        "prds   = tensor([0.9, 0.4, 0.2])\n",
        "\n",
        "# first attempt at a loss function\n",
        "def mnist_loss(predictions, targets):\n",
        "  # measures how distant each predictions is from 1 if it should be 1, how distant it is from 0 if it should be 0\n",
        "  # and takes the mean of all the distances\n",
        "    return torch.where(targets==1, 1-predictions, predictions).mean()\n",
        "\n",
        "# need a scalar for the final loss -> the lower the loss value the better\n",
        "# indicates accurate predictions are more confident and when inaccurate predictions are less confident\n",
        "print(f\"Test loss function: {mnist_loss(prds,trgts)}\")\n",
        "\n",
        "# issue with this loss function is that it assumes all predictions are between 0 and 1\n",
        "# sigmoid function always outputs a number between 0 and 1\n",
        "def sigmoid(x):\n",
        "  return 1/(1+torch.exp(-x))\n",
        "\n",
        "# second attempt at a loss function using sigmoid\n",
        "def mnist_loss_sigmoid(predictions, targets):\n",
        "    predictions = predictions.sigmoid()\n",
        "    return torch.where(targets==1, 1-predictions, predictions).mean()\n",
        "\n",
        "print(f\"Test loss function with sigmoid: {mnist_loss_sigmoid(prds,trgts)}\")\n"
      ]
    },
    {
      "cell_type": "markdown",
      "metadata": {
        "id": "MIcnd3Jr4ktW"
      },
      "source": [
        "### SGD + Mini Batches"
      ]
    },
    {
      "cell_type": "code",
      "execution_count": 30,
      "metadata": {
        "colab": {
          "base_uri": "https://localhost:8080/"
        },
        "id": "2myZoxp3ZO7D",
        "outputId": "494b372f-6865-4898-a28e-9e1d995d3e6d"
      },
      "outputs": [
        {
          "name": "stdout",
          "output_type": "stream",
          "text": [
            "Example of randomly generated mini-batch of batch size 5: [tensor([12,  0,  7,  6,  9]), tensor([ 2, 13,  3, 14, 11]), tensor([ 4,  5,  1,  8, 10])]\n"
          ]
        }
      ],
      "source": [
        "# SGD + Mini Batches\n",
        "# Optimization Step - updating the weights based on gradients\n",
        "# need to calculate loss over one or more data items\n",
        "# Solution: Calculate the average loss for a data items at a time (mini-batch)\n",
        "# Batch Size - number of items in mini batch\n",
        "\n",
        "# use fastai to build a dataloader object to shuffle data\n",
        "# randomly shuffle data on every epoch before creating mini batches\n",
        "coll = range(15)\n",
        "dl = DataLoader(coll, batch_size=5, shuffle=True)\n",
        "print(f\"Example of randomly generated mini-batch of batch size 5: {list(dl)}\")"
      ]
    },
    {
      "cell_type": "markdown",
      "metadata": {
        "id": "nFp3oV8z4ktW"
      },
      "source": [
        "### MNIST Model Training Loop using SGD"
      ]
    },
    {
      "cell_type": "code",
      "execution_count": 31,
      "metadata": {
        "colab": {
          "base_uri": "https://localhost:8080/"
        },
        "id": "ujMBVwY3cKEW",
        "outputId": "15cf0e9d-018e-4ba1-8b38-5edf7c8e0864"
      },
      "outputs": [
        {
          "name": "stdout",
          "output_type": "stream",
          "text": [
            "xb shape: torch.Size([256, 784])\n",
            "xb tensor rank: 2\n",
            "yb shape: torch.Size([256, 1])\n",
            "yb tensor rank: 2\n",
            "batch shape: torch.Size([4, 784])\n",
            "batch tensor rank: 2\n",
            "Test calculating gradients: None\n",
            "Average of weight gradients: -0.15112045407295227\n",
            "bias gradient: tensor([-1.])\n",
            "Testing batch accuracy: 0.25\n",
            "Test validation epoch: 0.5065\n",
            "check if accuracy has improved from earlier: 0.946\n",
            "0.9534 0.9539 0.9534 0.9534 0.9529 0.9534 0.9534 0.9534 0.9534 0.9534 0.9534 0.9534 0.9534 0.9534 0.9534 0.9539 0.9534 0.9534 0.9534 0.9534 "
          ]
        }
      ],
      "source": [
        "# Build a training loop for a model\n",
        "# Initialize weights and bias randomly\n",
        "weights = init_params((28*28,1))\n",
        "bias = init_params(1)\n",
        "\n",
        "# Create DataLoader for the training data\n",
        "dl = DataLoader(dset, batch_size=256)\n",
        "xb,yb = first(dl)\n",
        "print(f\"xb shape: {xb.shape}\")\n",
        "print(f\"xb tensor rank: {len(xb.shape)}\")\n",
        "print(f\"yb shape: {yb.shape}\")\n",
        "print(f\"yb tensor rank: {len(yb.shape)}\")\n",
        "\n",
        "# Create DataLoader for the validation data\n",
        "valid_dl = DataLoader(valid_dset, batch_size=256)\n",
        "\n",
        "# Create a Mini-Batch of batch size 4 for testing\n",
        "batch = train_x[:4]\n",
        "print(f\"batch shape: {batch.shape}\")\n",
        "print(f\"batch tensor rank: {len(batch.shape)}\")\n",
        "\n",
        "# Create Predictions\n",
        "# preds = linear1(batch)\n",
        "# print(f\"predictions: {preds}\")\n",
        "\n",
        "# Measure loss\n",
        "# loss = mnist_loss_sigmoid(preds, train_y[:4])\n",
        "# print(f\"Loss: {loss}\")\n",
        "\n",
        "# Compute Gradients\n",
        "# loss.backward()\n",
        "# print(f\"weights gradient shape: {weights.grad.shape}\")\n",
        "# print(f\"Average of weight gradients: {weights.grad.mean()}\")\n",
        "# print(f\"bias gradient: {bias.grad}\")\n",
        "\n",
        "# function for calculating gradient\n",
        "def calc_grad(xb, yb, model):\n",
        "    preds = model(xb)\n",
        "    loss = mnist_loss(preds, yb)\n",
        "    loss.backward()\n",
        "\n",
        "print(f\"Test calculating gradients: {calc_grad(batch, train_y[:4], linear1)}\")\n",
        "print(f\"Average of weight gradients: {weights.grad.mean()}\")\n",
        "print(f\"bias gradient: {bias.grad}\")\n",
        "\n",
        "# loss.backward adds the gradients of loss to any gradients that are currently stored\n",
        "# so have to set the current gradients to 0 first\n",
        "\n",
        "# training loop for an epoch\n",
        "def train_epoch(model, lr, params):\n",
        "    for xb,yb in dl:\n",
        "        calc_grad(xb, yb, model)\n",
        "        for p in params:\n",
        "            p.data -= p.grad*lr\n",
        "            p.grad.zero_()\n",
        "\n",
        "# check accuracy at this point\n",
        "# print(f\"Check Accuracy at this point: {(preds>0.0).float() == train_y[:4]}\")\n",
        "\n",
        "# function for calculating validation accuracy\n",
        "def batch_accuracy(xb, yb):\n",
        "    preds = xb.sigmoid()\n",
        "    correct = (preds>0.5) == yb\n",
        "    return correct.float().mean()\n",
        "\n",
        "print(f\"Testing batch accuracy: {batch_accuracy(linear1(batch), train_y[:4])}\")\n",
        "\n",
        "# put batches together to create a validation epoch\n",
        "def validate_epoch(model):\n",
        "    accs = [batch_accuracy(model(xb), yb) for xb,yb in valid_dl]\n",
        "    return round(torch.stack(accs).mean().item(), 4)\n",
        "\n",
        "print(f\"Test validation epoch: {validate_epoch(linear1)}\")\n",
        "\n",
        "# train for 1 epoch and see if things improve\n",
        "lr = 1.\n",
        "params = weights, bias\n",
        "train_epoch(linear1, lr, params)\n",
        "print(f\"check if accuracy has improved from earlier: {validate_epoch(linear1)}\")\n",
        "\n",
        "# train for a few epochs\n",
        "for i in range(20):\n",
        "    train_epoch(linear1, lr, params)\n",
        "    print(validate_epoch(linear1), end=' ')"
      ]
    },
    {
      "cell_type": "markdown",
      "metadata": {
        "id": "qroZIQvO4ktW"
      },
      "source": [
        "## PyTorch setup for SGD + Pytorch Optimizer"
      ]
    },
    {
      "cell_type": "code",
      "execution_count": 32,
      "metadata": {
        "colab": {
          "base_uri": "https://localhost:8080/"
        },
        "id": "UTRTK-HAhDhG",
        "outputId": "f08774d3-0414-4c07-e675-83e6e6513c31"
      },
      "outputs": [
        {
          "name": "stdout",
          "output_type": "stream",
          "text": [
            "weights shape: torch.Size([1, 784])\n",
            "weight tensor rank: 2\n",
            "bias shape: torch.Size([1])\n",
            "bias tensor rank: 1\n"
          ]
        }
      ],
      "source": [
        "# Build SGD Functionality - PyTorch Optimizer\n",
        "\n",
        "# intialize weights and biases in a single pytorch class\n",
        "linear_model = nn.Linear(28 * 28,1)\n",
        "w,b = linear_model.parameters()\n",
        "print(f\"weights shape: {w.shape}\")\n",
        "print(f\"weight tensor rank: {len(w.shape)}\")\n",
        "print(f\"bias shape: {b.shape}\")\n",
        "print(f\"bias tensor rank: {len(b.shape)}\")\n",
        "\n",
        "# Pytorch Optimizer Setup\n",
        "class BasicOptim:\n",
        "    def __init__(self,params,lr): self.params,self.lr = list(params),lr\n",
        "\n",
        "    def step(self, *args, **kwargs):\n",
        "        for p in self.params: p.data -= p.grad.data * self.lr\n",
        "\n",
        "    def zero_grad(self, *args, **kwargs):\n",
        "        for p in self.params: p.grad = None"
      ]
    },
    {
      "cell_type": "code",
      "execution_count": 33,
      "metadata": {
        "colab": {
          "base_uri": "https://localhost:8080/"
        },
        "id": "MKFkZRvflb1p",
        "outputId": "06966400-c2fc-4de4-a460-f6db33871213"
      },
      "outputs": [
        {
          "name": "stdout",
          "output_type": "stream",
          "text": [
            "Check accuracy after adding SGD: 0.5413\n",
            "0.9534 0.9534 0.9534 0.9534 0.9534 0.9534 0.9534 0.9534 0.9534 0.9534 0.9534 0.9534 0.9534 0.9534 0.9534 0.9534 0.9534 0.9534 0.9534 0.9534 Test training model: None\n"
          ]
        }
      ],
      "source": [
        "# define training epoch function that use SGD\n",
        "opt = BasicOptim(linear_model.parameters(), lr)\n",
        "\n",
        "def train_epoch(model):\n",
        "    for xb,yb in dl:\n",
        "        calc_grad(xb, yb, model)\n",
        "        opt.step()\n",
        "        opt.zero_grad()\n",
        "\n",
        "# check validation epoch\n",
        "print(f\"Check accuracy after adding SGD: {validate_epoch(linear_model)}\")\n",
        "\n",
        "# Update Model Training\n",
        "def train_model(model, epochs):\n",
        "    for i in range(epochs):\n",
        "        train_epoch(model)\n",
        "        print(validate_epoch(model), end=' ')\n",
        "\n",
        "print(f\"Test training model: {train_model(linear_model, 20)}\")"
      ]
    },
    {
      "cell_type": "markdown",
      "metadata": {
        "id": "VVPpcEwj4ktX"
      },
      "source": [
        "## Train MNIST Model using FastAI Library"
      ]
    },
    {
      "cell_type": "code",
      "execution_count": 34,
      "metadata": {
        "colab": {
          "base_uri": "https://localhost:8080/",
          "height": 363
        },
        "id": "OIIkeBPollvL",
        "outputId": "36245e95-aa93-4563-c133-29fe20271845"
      },
      "outputs": [
        {
          "data": {
            "text/html": [
              "\n",
              "<style>\n",
              "    /* Turns off some styling */\n",
              "    progress {\n",
              "        /* gets rid of default border in Firefox and Opera. */\n",
              "        border: none;\n",
              "        /* Needs to be in here for Safari polyfill so background images work as expected. */\n",
              "        background-size: auto;\n",
              "    }\n",
              "    progress:not([value]), progress:not([value])::-webkit-progress-bar {\n",
              "        background: repeating-linear-gradient(45deg, #7e7e7e, #7e7e7e 10px, #5c5c5c 10px, #5c5c5c 20px);\n",
              "    }\n",
              "    .progress-bar-interrupted, .progress-bar-interrupted::-webkit-progress-bar {\n",
              "        background: #F44336;\n",
              "    }\n",
              "</style>\n"
            ],
            "text/plain": [
              "<IPython.core.display.HTML object>"
            ]
          },
          "metadata": {},
          "output_type": "display_data"
        },
        {
          "data": {
            "text/html": [
              "<table border=\"1\" class=\"dataframe\">\n",
              "  <thead>\n",
              "    <tr style=\"text-align: left;\">\n",
              "      <th>epoch</th>\n",
              "      <th>train_loss</th>\n",
              "      <th>valid_loss</th>\n",
              "      <th>batch_accuracy</th>\n",
              "      <th>time</th>\n",
              "    </tr>\n",
              "  </thead>\n",
              "  <tbody>\n",
              "    <tr>\n",
              "      <td>0</td>\n",
              "      <td>0.636952</td>\n",
              "      <td>0.503232</td>\n",
              "      <td>0.495584</td>\n",
              "      <td>00:00</td>\n",
              "    </tr>\n",
              "    <tr>\n",
              "      <td>1</td>\n",
              "      <td>0.440637</td>\n",
              "      <td>0.235429</td>\n",
              "      <td>0.791462</td>\n",
              "      <td>00:00</td>\n",
              "    </tr>\n",
              "    <tr>\n",
              "      <td>2</td>\n",
              "      <td>0.164770</td>\n",
              "      <td>0.166296</td>\n",
              "      <td>0.850834</td>\n",
              "      <td>00:00</td>\n",
              "    </tr>\n",
              "    <tr>\n",
              "      <td>3</td>\n",
              "      <td>0.073948</td>\n",
              "      <td>0.102109</td>\n",
              "      <td>0.915604</td>\n",
              "      <td>00:00</td>\n",
              "    </tr>\n",
              "    <tr>\n",
              "      <td>4</td>\n",
              "      <td>0.040399</td>\n",
              "      <td>0.075625</td>\n",
              "      <td>0.933268</td>\n",
              "      <td>00:00</td>\n",
              "    </tr>\n",
              "    <tr>\n",
              "      <td>5</td>\n",
              "      <td>0.027231</td>\n",
              "      <td>0.061010</td>\n",
              "      <td>0.948479</td>\n",
              "      <td>00:00</td>\n",
              "    </tr>\n",
              "    <tr>\n",
              "      <td>6</td>\n",
              "      <td>0.021780</td>\n",
              "      <td>0.051817</td>\n",
              "      <td>0.955839</td>\n",
              "      <td>00:00</td>\n",
              "    </tr>\n",
              "    <tr>\n",
              "      <td>7</td>\n",
              "      <td>0.019325</td>\n",
              "      <td>0.045666</td>\n",
              "      <td>0.962709</td>\n",
              "      <td>00:00</td>\n",
              "    </tr>\n",
              "    <tr>\n",
              "      <td>8</td>\n",
              "      <td>0.018058</td>\n",
              "      <td>0.041325</td>\n",
              "      <td>0.965162</td>\n",
              "      <td>00:00</td>\n",
              "    </tr>\n",
              "    <tr>\n",
              "      <td>9</td>\n",
              "      <td>0.017283</td>\n",
              "      <td>0.038114</td>\n",
              "      <td>0.967615</td>\n",
              "      <td>00:00</td>\n",
              "    </tr>\n",
              "  </tbody>\n",
              "</table>"
            ],
            "text/plain": [
              "<IPython.core.display.HTML object>"
            ]
          },
          "metadata": {},
          "output_type": "display_data"
        }
      ],
      "source": [
        "# Modify Model Training Code with FastAI\n",
        "\n",
        "# define model information that uses SGD\n",
        "# linear_model = nn.Linear(28 * 28,1)\n",
        "# opt = SGD(linear_model.parameters(), lr)\n",
        "# train_model(linear_model, 20)\n",
        "\n",
        "# Define new DataLoaders\n",
        "dls = DataLoaders(dl, valid_dl)\n",
        "\n",
        "# Define a general purpose Learner class\n",
        "learn = Learner(dls, nn.Linear(28*28,1), opt_func=SGD,\n",
        "                loss_func=mnist_loss_sigmoid, metrics=batch_accuracy)\n",
        "\n",
        "# Train Model with Learner.fit\n",
        "learn.fit(10, lr=lr)"
      ]
    },
    {
      "cell_type": "markdown",
      "metadata": {
        "id": "iGF_VhAgmNM-"
      },
      "source": [
        "## Neural Networks"
      ]
    },
    {
      "cell_type": "markdown",
      "metadata": {
        "id": "HosuvhzE4ktX"
      },
      "source": [
        "Linear classifiers are limited in what they can do. To handle more complex functions we need to add a nonlinear function between two linear classifiers. This is what defines a **neural network**."
      ]
    },
    {
      "cell_type": "code",
      "execution_count": 35,
      "metadata": {
        "id": "FHTUm8H7nBgS"
      },
      "outputs": [],
      "source": [
        "# define a simple neural network\n",
        "\n",
        "# randomly intialize weights and biases\n",
        "w1 = init_params((28 * 28,30))\n",
        "b1 = init_params(30)\n",
        "w2 = init_params((30,1))\n",
        "b2 = init_params(1)\n",
        "\n",
        "# def simple_net(xb):\n",
        "#     res = xb@w1 + b1\n",
        "#     # Rectified Linear Unit - RELU -> replaces every negative number with 0\n",
        "#     res = res.max(tensor(0.0))\n",
        "#     res = res@w2 + b2\n",
        "#     return res"
      ]
    },
    {
      "cell_type": "code",
      "execution_count": 36,
      "metadata": {
        "id": "N4w5_dzIoSRu"
      },
      "outputs": [],
      "source": [
        "# Pytorch version of a simple neural network\n",
        "simple_net = nn.Sequential(\n",
        "    nn.Linear(28 * 28,30),\n",
        "    nn.ReLU(),\n",
        "    nn.Linear(30,1)\n",
        ")"
      ]
    },
    {
      "cell_type": "code",
      "execution_count": 37,
      "metadata": {
        "colab": {
          "base_uri": "https://localhost:8080/",
          "height": 1000
        },
        "id": "6tJIW9eSqvUl",
        "outputId": "ccdb4868-7db1-4e1f-e3a9-644e8a801d48"
      },
      "outputs": [
        {
          "data": {
            "text/html": [
              "\n",
              "<style>\n",
              "    /* Turns off some styling */\n",
              "    progress {\n",
              "        /* gets rid of default border in Firefox and Opera. */\n",
              "        border: none;\n",
              "        /* Needs to be in here for Safari polyfill so background images work as expected. */\n",
              "        background-size: auto;\n",
              "    }\n",
              "    progress:not([value]), progress:not([value])::-webkit-progress-bar {\n",
              "        background: repeating-linear-gradient(45deg, #7e7e7e, #7e7e7e 10px, #5c5c5c 10px, #5c5c5c 20px);\n",
              "    }\n",
              "    .progress-bar-interrupted, .progress-bar-interrupted::-webkit-progress-bar {\n",
              "        background: #F44336;\n",
              "    }\n",
              "</style>\n"
            ],
            "text/plain": [
              "<IPython.core.display.HTML object>"
            ]
          },
          "metadata": {},
          "output_type": "display_data"
        },
        {
          "data": {
            "text/html": [
              "<table border=\"1\" class=\"dataframe\">\n",
              "  <thead>\n",
              "    <tr style=\"text-align: left;\">\n",
              "      <th>epoch</th>\n",
              "      <th>train_loss</th>\n",
              "      <th>valid_loss</th>\n",
              "      <th>batch_accuracy</th>\n",
              "      <th>time</th>\n",
              "    </tr>\n",
              "  </thead>\n",
              "  <tbody>\n",
              "    <tr>\n",
              "      <td>0</td>\n",
              "      <td>0.282393</td>\n",
              "      <td>0.406792</td>\n",
              "      <td>0.505888</td>\n",
              "      <td>00:00</td>\n",
              "    </tr>\n",
              "    <tr>\n",
              "      <td>1</td>\n",
              "      <td>0.134344</td>\n",
              "      <td>0.215805</td>\n",
              "      <td>0.817959</td>\n",
              "      <td>00:00</td>\n",
              "    </tr>\n",
              "    <tr>\n",
              "      <td>2</td>\n",
              "      <td>0.076003</td>\n",
              "      <td>0.111737</td>\n",
              "      <td>0.918057</td>\n",
              "      <td>00:00</td>\n",
              "    </tr>\n",
              "    <tr>\n",
              "      <td>3</td>\n",
              "      <td>0.051048</td>\n",
              "      <td>0.076866</td>\n",
              "      <td>0.940628</td>\n",
              "      <td>00:01</td>\n",
              "    </tr>\n",
              "    <tr>\n",
              "      <td>4</td>\n",
              "      <td>0.039343</td>\n",
              "      <td>0.060505</td>\n",
              "      <td>0.956330</td>\n",
              "      <td>00:00</td>\n",
              "    </tr>\n",
              "    <tr>\n",
              "      <td>5</td>\n",
              "      <td>0.033269</td>\n",
              "      <td>0.051137</td>\n",
              "      <td>0.962709</td>\n",
              "      <td>00:00</td>\n",
              "    </tr>\n",
              "    <tr>\n",
              "      <td>6</td>\n",
              "      <td>0.029718</td>\n",
              "      <td>0.045164</td>\n",
              "      <td>0.965653</td>\n",
              "      <td>00:00</td>\n",
              "    </tr>\n",
              "    <tr>\n",
              "      <td>7</td>\n",
              "      <td>0.027371</td>\n",
              "      <td>0.041064</td>\n",
              "      <td>0.966634</td>\n",
              "      <td>00:00</td>\n",
              "    </tr>\n",
              "    <tr>\n",
              "      <td>8</td>\n",
              "      <td>0.025655</td>\n",
              "      <td>0.038072</td>\n",
              "      <td>0.969087</td>\n",
              "      <td>00:00</td>\n",
              "    </tr>\n",
              "    <tr>\n",
              "      <td>9</td>\n",
              "      <td>0.024313</td>\n",
              "      <td>0.035779</td>\n",
              "      <td>0.970069</td>\n",
              "      <td>00:00</td>\n",
              "    </tr>\n",
              "    <tr>\n",
              "      <td>10</td>\n",
              "      <td>0.023219</td>\n",
              "      <td>0.033955</td>\n",
              "      <td>0.972522</td>\n",
              "      <td>00:00</td>\n",
              "    </tr>\n",
              "    <tr>\n",
              "      <td>11</td>\n",
              "      <td>0.022301</td>\n",
              "      <td>0.032461</td>\n",
              "      <td>0.973503</td>\n",
              "      <td>00:00</td>\n",
              "    </tr>\n",
              "    <tr>\n",
              "      <td>12</td>\n",
              "      <td>0.021518</td>\n",
              "      <td>0.031202</td>\n",
              "      <td>0.976448</td>\n",
              "      <td>00:00</td>\n",
              "    </tr>\n",
              "    <tr>\n",
              "      <td>13</td>\n",
              "      <td>0.020838</td>\n",
              "      <td>0.030122</td>\n",
              "      <td>0.976448</td>\n",
              "      <td>00:00</td>\n",
              "    </tr>\n",
              "    <tr>\n",
              "      <td>14</td>\n",
              "      <td>0.020241</td>\n",
              "      <td>0.029180</td>\n",
              "      <td>0.976938</td>\n",
              "      <td>00:00</td>\n",
              "    </tr>\n",
              "    <tr>\n",
              "      <td>15</td>\n",
              "      <td>0.019713</td>\n",
              "      <td>0.028348</td>\n",
              "      <td>0.977429</td>\n",
              "      <td>00:00</td>\n",
              "    </tr>\n",
              "    <tr>\n",
              "      <td>16</td>\n",
              "      <td>0.019239</td>\n",
              "      <td>0.027608</td>\n",
              "      <td>0.977429</td>\n",
              "      <td>00:00</td>\n",
              "    </tr>\n",
              "    <tr>\n",
              "      <td>17</td>\n",
              "      <td>0.018811</td>\n",
              "      <td>0.026943</td>\n",
              "      <td>0.978410</td>\n",
              "      <td>00:00</td>\n",
              "    </tr>\n",
              "    <tr>\n",
              "      <td>18</td>\n",
              "      <td>0.018422</td>\n",
              "      <td>0.026343</td>\n",
              "      <td>0.978410</td>\n",
              "      <td>00:00</td>\n",
              "    </tr>\n",
              "    <tr>\n",
              "      <td>19</td>\n",
              "      <td>0.018066</td>\n",
              "      <td>0.025798</td>\n",
              "      <td>0.978901</td>\n",
              "      <td>00:00</td>\n",
              "    </tr>\n",
              "    <tr>\n",
              "      <td>20</td>\n",
              "      <td>0.017739</td>\n",
              "      <td>0.025301</td>\n",
              "      <td>0.978901</td>\n",
              "      <td>00:00</td>\n",
              "    </tr>\n",
              "    <tr>\n",
              "      <td>21</td>\n",
              "      <td>0.017437</td>\n",
              "      <td>0.024845</td>\n",
              "      <td>0.979392</td>\n",
              "      <td>00:00</td>\n",
              "    </tr>\n",
              "    <tr>\n",
              "      <td>22</td>\n",
              "      <td>0.017155</td>\n",
              "      <td>0.024425</td>\n",
              "      <td>0.979392</td>\n",
              "      <td>00:00</td>\n",
              "    </tr>\n",
              "    <tr>\n",
              "      <td>23</td>\n",
              "      <td>0.016893</td>\n",
              "      <td>0.024038</td>\n",
              "      <td>0.979882</td>\n",
              "      <td>00:00</td>\n",
              "    </tr>\n",
              "    <tr>\n",
              "      <td>24</td>\n",
              "      <td>0.016647</td>\n",
              "      <td>0.023680</td>\n",
              "      <td>0.980373</td>\n",
              "      <td>00:00</td>\n",
              "    </tr>\n",
              "    <tr>\n",
              "      <td>25</td>\n",
              "      <td>0.016416</td>\n",
              "      <td>0.023348</td>\n",
              "      <td>0.980373</td>\n",
              "      <td>00:00</td>\n",
              "    </tr>\n",
              "    <tr>\n",
              "      <td>26</td>\n",
              "      <td>0.016198</td>\n",
              "      <td>0.023040</td>\n",
              "      <td>0.980373</td>\n",
              "      <td>00:00</td>\n",
              "    </tr>\n",
              "    <tr>\n",
              "      <td>27</td>\n",
              "      <td>0.015992</td>\n",
              "      <td>0.022753</td>\n",
              "      <td>0.980864</td>\n",
              "      <td>00:00</td>\n",
              "    </tr>\n",
              "    <tr>\n",
              "      <td>28</td>\n",
              "      <td>0.015797</td>\n",
              "      <td>0.022486</td>\n",
              "      <td>0.981845</td>\n",
              "      <td>00:00</td>\n",
              "    </tr>\n",
              "    <tr>\n",
              "      <td>29</td>\n",
              "      <td>0.015612</td>\n",
              "      <td>0.022237</td>\n",
              "      <td>0.982826</td>\n",
              "      <td>00:00</td>\n",
              "    </tr>\n",
              "    <tr>\n",
              "      <td>30</td>\n",
              "      <td>0.015436</td>\n",
              "      <td>0.022004</td>\n",
              "      <td>0.982826</td>\n",
              "      <td>00:00</td>\n",
              "    </tr>\n",
              "    <tr>\n",
              "      <td>31</td>\n",
              "      <td>0.015268</td>\n",
              "      <td>0.021786</td>\n",
              "      <td>0.982826</td>\n",
              "      <td>00:00</td>\n",
              "    </tr>\n",
              "    <tr>\n",
              "      <td>32</td>\n",
              "      <td>0.015107</td>\n",
              "      <td>0.021581</td>\n",
              "      <td>0.983317</td>\n",
              "      <td>00:00</td>\n",
              "    </tr>\n",
              "    <tr>\n",
              "      <td>33</td>\n",
              "      <td>0.014954</td>\n",
              "      <td>0.021390</td>\n",
              "      <td>0.982826</td>\n",
              "      <td>00:00</td>\n",
              "    </tr>\n",
              "    <tr>\n",
              "      <td>34</td>\n",
              "      <td>0.014807</td>\n",
              "      <td>0.021209</td>\n",
              "      <td>0.982826</td>\n",
              "      <td>00:00</td>\n",
              "    </tr>\n",
              "    <tr>\n",
              "      <td>35</td>\n",
              "      <td>0.014666</td>\n",
              "      <td>0.021039</td>\n",
              "      <td>0.982826</td>\n",
              "      <td>00:00</td>\n",
              "    </tr>\n",
              "    <tr>\n",
              "      <td>36</td>\n",
              "      <td>0.014531</td>\n",
              "      <td>0.020879</td>\n",
              "      <td>0.982826</td>\n",
              "      <td>00:00</td>\n",
              "    </tr>\n",
              "    <tr>\n",
              "      <td>37</td>\n",
              "      <td>0.014401</td>\n",
              "      <td>0.020728</td>\n",
              "      <td>0.982826</td>\n",
              "      <td>00:00</td>\n",
              "    </tr>\n",
              "    <tr>\n",
              "      <td>38</td>\n",
              "      <td>0.014276</td>\n",
              "      <td>0.020584</td>\n",
              "      <td>0.982826</td>\n",
              "      <td>00:00</td>\n",
              "    </tr>\n",
              "    <tr>\n",
              "      <td>39</td>\n",
              "      <td>0.014155</td>\n",
              "      <td>0.020448</td>\n",
              "      <td>0.982826</td>\n",
              "      <td>00:00</td>\n",
              "    </tr>\n",
              "  </tbody>\n",
              "</table>"
            ],
            "text/plain": [
              "<IPython.core.display.HTML object>"
            ]
          },
          "metadata": {},
          "output_type": "display_data"
        }
      ],
      "source": [
        "# Apply Simplenet to MNIST data\n",
        "learn = Learner(dls, simple_net, opt_func=SGD,\n",
        "                loss_func=mnist_loss_sigmoid, metrics=batch_accuracy)\n",
        "\n",
        "learn.fit(40, 0.1)"
      ]
    },
    {
      "cell_type": "code",
      "execution_count": 38,
      "metadata": {
        "colab": {
          "base_uri": "https://localhost:8080/",
          "height": 430
        },
        "id": "NnHkeprTq1I_",
        "outputId": "d466d41a-189a-4b8d-e00a-300732272778"
      },
      "outputs": [
        {
          "data": {
            "image/png": "[encoded data removed]",
            "text/plain": [
              "<Figure size 640x480 with 1 Axes>"
            ]
          },
          "metadata": {},
          "output_type": "display_data"
        }
      ],
      "source": [
        "# visualize the accuracy of model using simplenet\n",
        "# y axis - accuracy\n",
        "# x-axis number of epochs\n",
        "plt.plot(L(learn.recorder.values).itemgot(2));"
      ]
    },
    {
      "cell_type": "code",
      "execution_count": 39,
      "metadata": {
        "colab": {
          "base_uri": "https://localhost:8080/"
        },
        "id": "LZGaMSZtrLKk",
        "outputId": "fd9f4109-2049-4b32-8885-44f7318974aa"
      },
      "outputs": [
        {
          "name": "stdout",
          "output_type": "stream",
          "text": [
            "Final Accuracy of model on the MNIST dataset: 0.982826292514801\n"
          ]
        }
      ],
      "source": [
        "print(f\"Final Accuracy of model on the MNIST dataset: {learn.recorder.values[-1][2]}\")"
      ]
    },
    {
      "cell_type": "markdown",
      "metadata": {
        "id": "PkYsZVvf4ktZ"
      },
      "source": [
        "## Going Deeper into Deep Learning + Neural Networks"
      ]
    },
    {
      "cell_type": "markdown",
      "metadata": {
        "id": "u9HGCSEY4ktZ"
      },
      "source": [
        "The following code below is an 18 layer resnet model with nearly 100% accuracy on the MNIST data. The above code was a simple neural network with 2 layers so the results of resnet-18 on this data show that accuracy improves as we add more layers. One thing to consider are the trade off's mentioned by Jeremy in the lecture video"
      ]
    },
    {
      "cell_type": "code",
      "execution_count": 40,
      "metadata": {
        "colab": {
          "base_uri": "https://localhost:8080/",
          "height": 81
        },
        "id": "3-69d8ljrajo",
        "outputId": "e461ee6e-5eee-4ba5-f9fe-f8243e0b4036"
      },
      "outputs": [
        {
          "data": {
            "text/html": [
              "\n",
              "<style>\n",
              "    /* Turns off some styling */\n",
              "    progress {\n",
              "        /* gets rid of default border in Firefox and Opera. */\n",
              "        border: none;\n",
              "        /* Needs to be in here for Safari polyfill so background images work as expected. */\n",
              "        background-size: auto;\n",
              "    }\n",
              "    progress:not([value]), progress:not([value])::-webkit-progress-bar {\n",
              "        background: repeating-linear-gradient(45deg, #7e7e7e, #7e7e7e 10px, #5c5c5c 10px, #5c5c5c 20px);\n",
              "    }\n",
              "    .progress-bar-interrupted, .progress-bar-interrupted::-webkit-progress-bar {\n",
              "        background: #F44336;\n",
              "    }\n",
              "</style>\n"
            ],
            "text/plain": [
              "<IPython.core.display.HTML object>"
            ]
          },
          "metadata": {},
          "output_type": "display_data"
        },
        {
          "data": {
            "text/html": [
              "<table border=\"1\" class=\"dataframe\">\n",
              "  <thead>\n",
              "    <tr style=\"text-align: left;\">\n",
              "      <th>epoch</th>\n",
              "      <th>train_loss</th>\n",
              "      <th>valid_loss</th>\n",
              "      <th>accuracy</th>\n",
              "      <th>time</th>\n",
              "    </tr>\n",
              "  </thead>\n",
              "  <tbody>\n",
              "    <tr>\n",
              "      <td>0</td>\n",
              "      <td>0.089190</td>\n",
              "      <td>0.011672</td>\n",
              "      <td>0.998037</td>\n",
              "      <td>00:18</td>\n",
              "    </tr>\n",
              "  </tbody>\n",
              "</table>"
            ],
            "text/plain": [
              "<IPython.core.display.HTML object>"
            ]
          },
          "metadata": {},
          "output_type": "display_data"
        }
      ],
      "source": [
        "# Going Deeper into Deep Learning + Neural Networks\n",
        "dls = ImageDataLoaders.from_folder(path)\n",
        "learn = vision_learner(dls, resnet18, pretrained=False,\n",
        "                    loss_func=F.cross_entropy, metrics=accuracy)\n",
        "learn.fit_one_cycle(1, 0.1)"
      ]
    },
    {
      "cell_type": "markdown",
      "metadata": {
        "id": "0RQN-LsKrjIJ"
      },
      "source": [
        "## Terminology"
      ]
    },
    {
      "cell_type": "markdown",
      "metadata": {
        "id": "HKHcwdY_4ktZ"
      },
      "source": [
        "**Activations(Neural Network)** - Numbers that are calculated (both by linear and non-linear layers)\n",
        "\n",
        "**Parameters(Neural Network)** - Numbers that are randomly initialized, and optimized (that is, the numbers that define the model)\n",
        "\n",
        "**Axis(Numpy), Dimensions(PyTorch Tensors)** - For a matrix, the rows and columns define the axis\n",
        "\n",
        "**Tensor Rank** - The number of dimensions in a tensor\n",
        "\n",
        "**Rank Zero Tensor** - Scalar\n",
        "\n",
        "**Rank One Tensor** - Vector\n",
        "\n",
        "**Rank Two Tensor** - Matrix\n",
        "\n",
        "**Nonlinearity (Activation Function)** - one type of layer in a neural network. Typically a neural network alternates between a linear layer and non-linear layer. Occasionally people refer to a single layer = linear layer + nonlinearity\n",
        "\n",
        "**Relu** - Function that returns 0 for negative numbers and doesn't change positive numbers\n",
        "\n",
        "**Mini-Batch** - A small group of inputs and labels gathered together in two arrays. A gradient desccent step is updated on this batch rather than a whole epoch\n",
        "\n",
        "**Forward Pass** - Applying the model to some input and computing the predictions\n",
        "\n",
        "**Loss** - A value that represents how well (or bad) the model is doing\n",
        "**Gradient** - The derivative(slope) of the loss with respect to some parameter of the model\n",
        "\n",
        "**Backward Pass** - Computing the gradients of the loss with respect to all model parameters\n",
        "\n",
        "**Gradient Descent** - Taking a step in the directions opposite to the gradients to make the model parameters a little bit better\n",
        "\n",
        "**Learning Rate** - The size of the step we take when applying SGD to update the parameters of the model. Usually a very tiny model"
      ]
    },
    {
      "cell_type": "markdown",
      "metadata": {
        "id": "iiOLP_dC4ktZ"
      },
      "source": [
        "## Resources"
      ]
    },
    {
      "cell_type": "markdown",
      "metadata": {
        "id": "5SMgd7MY4ktZ"
      },
      "source": [
        "1. [FastAI Lesson 3](https://www.youtube.com/watch?v=hBBOjCiFcuo)\n",
        "2. [FastAI Chapter 4, MNIST Basics](https://colab.research.google.com/github/fastai/fastbook/blob/master/04_mnist_basics.ipynb#scrollTo=0rEdjkeOSJbJ)\n",
        "3. [How Does a Neural Net Really Work](https://www.kaggle.com/code/jhoward/how-does-a-neural-net-really-work)\n",
        "4. [Which Image Models are Best ](https://www.kaggle.com/code/jhoward/which-image-models-are-best/)\n",
        "5. [3Blue1Brown Neural Networks](https://youtu.be/aircAruvnKk?feature=shared)\n",
        "6. [Andrej Karpathy Neural Networks Zero to Hero](https://karpathy.ai/zero-to-hero.html)\n",
        "7. [Understanding Dimensions in PyTorch](https://towardsdatascience.com/understanding-dimensions-in-pytorch-6edf9972d3be)\n",
        "8. [Understanding Numpy Axis](https://medium.com/intuitionmath/numpy-sum-axis-intuition-6eb94926a5d1)\n",
        "9. [Pytorch Documentation](https://pytorch.org/docs/stable/index.html)\n",
        "10. [fastai Documentation](https://docs.fast.ai/)"
      ]
    },
    {
      "cell_type": "code",
      "execution_count": 40,
      "metadata": {
        "id": "sqHVihxI4kta"
      },
      "outputs": [],
      "source": []
    }
  ],
  "metadata": {
    "accelerator": "GPU",
    "colab": {
      "gpuType": "T4",
      "provenance": []
    },
    "kernelspec": {
      "display_name": "Python 3 (ipykernel)",
      "language": "python",
      "name": "python3"
    },
    "language_info": {
      "codemirror_mode": {
        "name": "ipython",
        "version": 3
      },
      "file_extension": ".py",
      "mimetype": "text/x-python",
      "name": "python",
      "nbconvert_exporter": "python",
      "pygments_lexer": "ipython3",
      "version": "3.10.12"
    }
  },
  "nbformat": 4,
  "nbformat_minor": 0
}
