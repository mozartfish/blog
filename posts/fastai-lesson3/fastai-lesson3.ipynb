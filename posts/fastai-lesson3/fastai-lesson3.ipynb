{
 "cells": [
  {
   "cell_type": "raw",
   "metadata": {
    "id": "QqUOOwlxVLZR"
   },
   "source": [
    "---\n",
    "title: \"FastAI Lesson 3: Neural Network Foundations\"\n",
    "description: FastAI Lesson 3 Notes\n",
    "date: 2023-12-18\n",
    "author: Pranav Rajan\n",
    "categories: [learning, fastai, deep learning]\n",
    "toc: true\n",
    "jupyter: python3\n",
    "---"
   ]
  },
  {
   "cell_type": "markdown",
   "metadata": {
    "id": "AOQ_Z2Q74ks7"
   },
   "source": [
    "## Announcements"
   ]
  },
  {
   "cell_type": "markdown",
   "metadata": {
    "id": "ClHMxvKK4ks-"
   },
   "source": [
    "Finally back after a long hiatus. I took a break from posting and FASTAI to try Advent of Code and get back to interview prep but I’m back. Normally I only write a single summary for a blog post but this time I'm writing two summaries because Chapter 4 of the book goes deeper into the foundations of neural networks than the lesson video."
   ]
  },
  {
   "cell_type": "markdown",
   "metadata": {
    "id": "uM7qkw944ks_"
   },
   "source": [
    "## Acknowledgements"
   ]
  },
  {
   "cell_type": "markdown",
   "metadata": {
    "id": "grm691STVXEf"
   },
   "source": [
    "All of this code was written by Jeremy Howard and the authors of the FastAI book. My modification to their code was adding print statements and comments to understand what each line of code was doing."
   ]
  },
  {
   "cell_type": "markdown",
   "metadata": {
    "id": "saBfA2NUlXFX"
   },
   "source": [
    "## Summary"
   ]
  },
  {
   "cell_type": "markdown",
   "metadata": {
    "id": "ZWh0Xu_t4ktA"
   },
   "source": [
    "### Summary: FastAI Lesson 3 Video"
   ]
  },
  {
   "cell_type": "markdown",
   "metadata": {
    "id": "ex2TW99j4ktB"
   },
   "source": [
    "In this lesson, Jeremy gives a high level overview of pytorch, gradient descent and the evolution of models. Most of the video focuses on approximating a quadratic equation and building the intuition towards how a neural network works. Towards the end of the video, Jeremy introduces the Titanic dataset and how to do some basic modeling with excel."
   ]
  },
  {
   "cell_type": "markdown",
   "metadata": {
    "id": "VSso7-fnVYSe"
   },
   "source": [
    "### Summary: FastAI Chapter 4\n"
   ]
  },
  {
   "cell_type": "markdown",
   "metadata": {
    "id": "hZ8nqt064ktE"
   },
   "source": [
    "The MNIST dataset was used as the case study to understand how pytorch and the fastai library work under the hood. I found this chapter to be a mind bender because I struggled to wrap my head around the concept of a tensor and tensor operations. I struggled with the meaning of rank and dimension of tensors because they do not have the same meaning as rank and dimension from linear algebra and calculus. By the end of this chapter, I understood the following concepts:\n",
    "\n",
    "- what a tensor represents and performing operations on a tensor\n",
    "- how to set up a classifier using pytorch\n",
    "- how a training loop, optimizer, batch work in pytorch and fastai\n",
    "- the operations and functions that fastai provides a wrapper on top of\n",
    "\n",
    "I do agree with Jeremy that this book chapter might scare people away because of the technical and mathematical jargon. It's definitely worth spending a few days to go over because it makes it much easier to understand how things work in the subsequent lessons."
   ]
  },
  {
   "cell_type": "markdown",
   "metadata": {
    "id": "v7-VJky9VZxb"
   },
   "source": [
    "## Jeremy Howard's Advice"
   ]
  },
  {
   "cell_type": "markdown",
   "metadata": {
    "id": "_h4U3WeF4ktF"
   },
   "source": [
    "Jeremy provides some really good insights and advice in the lecture video not captured in the book or kaggle notebooks. This is my summary of the advice:\n",
    "\n",
    "- Model: Mathematical function consisting of a Matrix Multiply operation + nonlinearity (RELU, Sigmoid etc)\n",
    "\n",
    "- Things to thing about when picking a class of model for a problem we're trying to solve:\n",
    "  1. How fast is the model\n",
    "  2. How much memory does it consume\n",
    "  3. How accurate is it\n",
    "\n",
    "- Models fit functions to data and try to recognize patterns in data that we give it"
   ]
  },
  {
   "cell_type": "markdown",
   "metadata": {
    "id": "Gq9ySbNCqXr0"
   },
   "source": [
    "## Terminology"
   ]
  },
  {
   "cell_type": "markdown",
   "metadata": {
    "id": "4fbZLaIlqaQW"
   },
   "source": [
    "**Activations(Neural Network)** - Numbers that are calculated (both by linear and non-linear layers)\n",
    "\n",
    "**Parameters(Neural Network)** - Numbers that are randomly initialized, and optimized (that is, the numbers that define the model)\n",
    "\n",
    "**Axis(Numpy), Dimensions(PyTorch Tensors)** - For a matrix, the rows and columns define the axis\n",
    "\n",
    "**Tensor Rank** - The number of dimensions in a tensor\n",
    "\n",
    "**Rank Zero Tensor** - Scalar\n",
    "\n",
    "**Rank One Tensor** - Vector\n",
    "\n",
    "**Rank Two Tensor** - Matrix\n",
    "\n",
    "**Nonlinearity (Activation Function)** - one type of layer in a neural network. Typically a neural network alternates between a linear layer and non-linear layer. Occasionally people refer to a single layer = linear layer + nonlinearity\n",
    "\n",
    "**Relu** - Function that returns 0 for negative numbers and doesn't change positive numbers\n",
    "\n",
    "**Mini-Batch** - A small group of inputs and labels gathered together in two arrays. A gradient desccent step is updated on this batch rather than a whole epoch\n",
    "\n",
    "**Forward Pass** - Applying the model to some input and computing the predictions\n",
    "\n",
    "**Loss** - A value that represents how well (or bad) the model is doing\n",
    "**Gradient** - The derivative(slope) of the loss with respect to some parameter of the model\n",
    "\n",
    "**Backward Pass** - Computing the gradients of the loss with respect to all model parameters\n",
    "\n",
    "**Gradient Descent** - Taking a step in the directions opposite to the gradients to make the model parameters a little bit better\n",
    "\n",
    "**Learning Rate** - The size of the step we take when applying SGD to update the parameters of the model. Usually a very tiny model"
   ]
  },
  {
   "cell_type": "markdown",
   "metadata": {
    "id": "na6JlS9dVxC-"
   },
   "source": [
    "## MNIST Dataset"
   ]
  },
  {
   "cell_type": "markdown",
   "metadata": {
    "id": "lsfMACfZ4ktH"
   },
   "source": [
    "[MNIST](https://en.wikipedia.org/wiki/MNIST_database) is a dataset containing handwritten digits collected by NIST (National Institute of Standards and Technology) and turned into dataset by Yann Lecun and his colleagues. More information about the dataset can be found in [Chapter 4](https://nbviewer.org/github/fastai/fastbook/blob/master/04_mnist_basics.ipynb) and [MNIST Kaggle Competition](https://www.kaggle.com/datasets/hojjatk/mnist-dataset).\n",
    "\n",
    "The MNIST dataset follows traditional machine learning dataset layouts: Training Data and Validation Data each containing images associated with a particular digit between 0-9."
   ]
  },
  {
   "cell_type": "markdown",
   "metadata": {},
   "source": [
    "## Load Data and Libraries"
   ]
  },
  {
   "cell_type": "code",
   "execution_count": 68,
   "metadata": {
    "id": "wercApx3VeEy"
   },
   "outputs": [],
   "source": [
    "# load libraries and imports\n",
    "!pip install -Uqq fastai duckduckgo_search\n",
    "import numpy as np\n",
    "import matplotlib.pyplot as plt\n",
    "import pandas as pd\n",
    "import torch\n",
    "from PIL import Image\n",
    "from functools import partial\n",
    "\n",
    "# import fastai libraries\n",
    "from fastai.vision.all import *\n",
    "\n",
    "# update grayscale colormap for matplotlib\n",
    "matplotlib.rc('image', cmap='Greys')"
   ]
  },
  {
   "cell_type": "code",
   "execution_count": 69,
   "metadata": {
    "colab": {
     "base_uri": "https://localhost:8080/",
     "height": 97
    },
    "id": "3mosL1vNV1P8",
    "outputId": "7205a8ed-25fb-463b-f784-18310196dd89"
   },
   "outputs": [
    {
     "name": "stdout",
     "output_type": "stream",
     "text": [
      "Contents of MNIST DATA: [Path('valid'), Path('labels.csv'), Path('train')]\n",
      "MNIST Training Data Directory Contents: [Path('train/3'), Path('train/7')]\n",
      "Test Image of 3 from 3 training data set\n"
     ]
    },
    {
     "data": {
      "image/png": "[encoded data removed]",
      "text/plain": [
       "<PIL.PngImagePlugin.PngImageFile image mode=L size=28x28>"
      ]
     },
     "execution_count": 69,
     "metadata": {},
     "output_type": "execute_result"
    }
   ],
   "source": [
    "# LOAD MNIST DATA\n",
    "path = untar_data(URLs.MNIST_SAMPLE)\n",
    "Path.BASE_PATH = path\n",
    "print(f\"Contents of MNIST DATA: {path.ls()}\")\n",
    "\n",
    "# MNIST Training Data\n",
    "print(f\"MNIST Training Data Directory Contents: {(path/'train').ls()}\")\n",
    "\n",
    "# MNIST Training Data for 3s and 7s in sorted order\n",
    "threes = (path/'train'/'3').ls().sorted()\n",
    "sevens = (path/'train'/'7').ls().sorted()\n",
    "# print(f\"Sorted Training Data for 3: {threes}\")\n",
    "\n",
    "# Training Data Example\n",
    "im3_path = threes[1]\n",
    "im3 = Image.open(im3_path)\n",
    "print(f\"Test Image of 3 from 3 training data set\")\n",
    "im3\n"
   ]
  },
  {
   "cell_type": "markdown",
   "metadata": {
    "id": "3DZp2hrrlvrY"
   },
   "source": [
    "## Data Processing"
   ]
  },
  {
   "cell_type": "markdown",
   "metadata": {
    "id": "QyNm3lBH4ktH"
   },
   "source": [
    "### Representing Images as Numbers"
   ]
  },
  {
   "cell_type": "markdown",
   "metadata": {
    "id": "b1Rhc7dn4ktH"
   },
   "source": [
    "Images are represented on computers as an array of pixels where each index contains a list of 3 numbers between 0-255 corresponding to a particular color according to RGB. Assembling all of these colors together we get an image.\n",
    "\n",
    "The MNIST images are represented differently: each index in the image array contains a number between 0-255 where 0 represents white and 255 black. All other values between 0-255 represent a different shade of gray. A unique digit image in the MNIST data is then defined by the black and gray pixels that together outline and define the digit. The size of an image in the MNIST data is 28 x 28 which is 784 pixels in the Image Array.\n",
    "\n",
    "In the following examples, [4:10, 4:10] means the following: request rows from index 4 (included) to 10(not included) and the same for the columns. Numpy and Pytorch index from top to bottom and left to right.\n",
    "\n",
    "In the  image slice below, we select a part of the digit with just the top part and then color code the slice based on the values in the slice with their mapping in the gray scale (0-255) where 0 represents white and 255 black.\n"
   ]
  },
  {
   "cell_type": "code",
   "execution_count": 70,
   "metadata": {
    "colab": {
     "base_uri": "https://localhost:8080/"
    },
    "id": "YrSUnhTsWGiR",
    "outputId": "40ddbfdd-69ec-41c5-c09d-b04d731c2695"
   },
   "outputs": [
    {
     "name": "stdout",
     "output_type": "stream",
     "text": [
      "im3 represented as an array of numbers using numpy array\n"
     ]
    },
    {
     "data": {
      "text/plain": [
       "array([[  0,   0,   0,   0,   0,   0,   0,   0,   0,   0,   0,   0,   0,\n",
       "          0,   0,   0,   0,   0,   0,   0,   0,   0,   0,   0,   0,   0,\n",
       "          0,   0],\n",
       "       [  0,   0,   0,   0,   0,   0,   0,   0,   0,   0,   0,   0,   0,\n",
       "          0,   0,   0,   0,   0,   0,   0,   0,   0,   0,   0,   0,   0,\n",
       "          0,   0],\n",
       "       [  0,   0,   0,   0,   0,   0,   0,   0,   0,   0,   0,   0,   0,\n",
       "          0,   0,   0,   0,   0,   0,   0,   0,   0,   0,   0,   0,   0,\n",
       "          0,   0],\n",
       "       [  0,   0,   0,   0,   0,   0,   0,   0,   0,   0,   0,   0,   0,\n",
       "          0,   0,   0,   0,   0,   0,   0,   0,   0,   0,   0,   0,   0,\n",
       "          0,   0],\n",
       "       [  0,   0,   0,   0,   0,   0,   0,   0,   0,   0,   0,   0,   0,\n",
       "          0,   0,   0,   0,   0,   0,   0,   0,   0,   0,   0,   0,   0,\n",
       "          0,   0],\n",
       "       [  0,   0,   0,   0,   0,   0,   0,   0,   0,  29, 150, 195, 254,\n",
       "        255, 254, 176, 193, 150,  96,   0,   0,   0,   0,   0,   0,   0,\n",
       "          0,   0],\n",
       "       [  0,   0,   0,   0,   0,   0,   0,  48, 166, 224, 253, 253, 234,\n",
       "        196, 253, 253, 253, 253, 233,   0,   0,   0,   0,   0,   0,   0,\n",
       "          0,   0],\n",
       "       [  0,   0,   0,   0,   0,  93, 244, 249, 253, 187,  46,  10,   8,\n",
       "          4,  10, 194, 253, 253, 233,   0,   0,   0,   0,   0,   0,   0,\n",
       "          0,   0],\n",
       "       [  0,   0,   0,   0,   0, 107, 253, 253, 230,  48,   0,   0,   0,\n",
       "          0,   0, 192, 253, 253, 156,   0,   0,   0,   0,   0,   0,   0,\n",
       "          0,   0],\n",
       "       [  0,   0,   0,   0,   0,   3,  20,  20,  15,   0,   0,   0,   0,\n",
       "          0,  43, 224, 253, 245,  74,   0,   0,   0,   0,   0,   0,   0,\n",
       "          0,   0],\n",
       "       [  0,   0,   0,   0,   0,   0,   0,   0,   0,   0,   0,   0,   0,\n",
       "          0, 249, 253, 245, 126,   0,   0,   0,   0,   0,   0,   0,   0,\n",
       "          0,   0],\n",
       "       [  0,   0,   0,   0,   0,   0,   0,   0,   0,   0,   0,  14, 101,\n",
       "        223, 253, 248, 124,   0,   0,   0,   0,   0,   0,   0,   0,   0,\n",
       "          0,   0],\n",
       "       [  0,   0,   0,   0,   0,   0,   0,   0,   0,  11, 166, 239, 253,\n",
       "        253, 253, 187,  30,   0,   0,   0,   0,   0,   0,   0,   0,   0,\n",
       "          0,   0],\n",
       "       [  0,   0,   0,   0,   0,   0,   0,   0,   0,  16, 248, 250, 253,\n",
       "        253, 253, 253, 232, 213, 111,   2,   0,   0,   0,   0,   0,   0,\n",
       "          0,   0],\n",
       "       [  0,   0,   0,   0,   0,   0,   0,   0,   0,   0,   0,  43,  98,\n",
       "         98, 208, 253, 253, 253, 253, 187,  22,   0,   0,   0,   0,   0,\n",
       "          0,   0],\n",
       "       [  0,   0,   0,   0,   0,   0,   0,   0,   0,   0,   0,   0,   0,\n",
       "          0,   9,  51, 119, 253, 253, 253,  76,   0,   0,   0,   0,   0,\n",
       "          0,   0],\n",
       "       [  0,   0,   0,   0,   0,   0,   0,   0,   0,   0,   0,   0,   0,\n",
       "          0,   0,   0,   1, 183, 253, 253, 139,   0,   0,   0,   0,   0,\n",
       "          0,   0],\n",
       "       [  0,   0,   0,   0,   0,   0,   0,   0,   0,   0,   0,   0,   0,\n",
       "          0,   0,   0,   0, 182, 253, 253, 104,   0,   0,   0,   0,   0,\n",
       "          0,   0],\n",
       "       [  0,   0,   0,   0,   0,   0,   0,   0,   0,   0,   0,   0,   0,\n",
       "          0,   0,   0,  85, 249, 253, 253,  36,   0,   0,   0,   0,   0,\n",
       "          0,   0],\n",
       "       [  0,   0,   0,   0,   0,   0,   0,   0,   0,   0,   0,   0,   0,\n",
       "          0,   0,  60, 214, 253, 253, 173,  11,   0,   0,   0,   0,   0,\n",
       "          0,   0],\n",
       "       [  0,   0,   0,   0,   0,   0,   0,   0,   0,   0,   0,   0,   0,\n",
       "          0,  98, 247, 253, 253, 226,   9,   0,   0,   0,   0,   0,   0,\n",
       "          0,   0],\n",
       "       [  0,   0,   0,   0,   0,   0,   0,   0,   0,   0,   0,   0,  42,\n",
       "        150, 252, 253, 253, 233,  53,   0,   0,   0,   0,   0,   0,   0,\n",
       "          0,   0],\n",
       "       [  0,   0,   0,   0,   0,   0,  42, 115,  42,  60, 115, 159, 240,\n",
       "        253, 253, 250, 175,  25,   0,   0,   0,   0,   0,   0,   0,   0,\n",
       "          0,   0],\n",
       "       [  0,   0,   0,   0,   0,   0, 187, 253, 253, 253, 253, 253, 253,\n",
       "        253, 197,  86,   0,   0,   0,   0,   0,   0,   0,   0,   0,   0,\n",
       "          0,   0],\n",
       "       [  0,   0,   0,   0,   0,   0, 103, 253, 253, 253, 253, 253, 232,\n",
       "         67,   1,   0,   0,   0,   0,   0,   0,   0,   0,   0,   0,   0,\n",
       "          0,   0],\n",
       "       [  0,   0,   0,   0,   0,   0,   0,   0,   0,   0,   0,   0,   0,\n",
       "          0,   0,   0,   0,   0,   0,   0,   0,   0,   0,   0,   0,   0,\n",
       "          0,   0],\n",
       "       [  0,   0,   0,   0,   0,   0,   0,   0,   0,   0,   0,   0,   0,\n",
       "          0,   0,   0,   0,   0,   0,   0,   0,   0,   0,   0,   0,   0,\n",
       "          0,   0],\n",
       "       [  0,   0,   0,   0,   0,   0,   0,   0,   0,   0,   0,   0,   0,\n",
       "          0,   0,   0,   0,   0,   0,   0,   0,   0,   0,   0,   0,   0,\n",
       "          0,   0]], dtype=uint8)"
      ]
     },
     "execution_count": 70,
     "metadata": {},
     "output_type": "execute_result"
    }
   ],
   "source": [
    "# MNIST image dimensions are 28 x 28 = 784 pixel array\n",
    "print(f\"im3 represented as an array of numbers using numpy array\")\n",
    "array(im3)"
   ]
  },
  {
   "cell_type": "code",
   "execution_count": 71,
   "metadata": {
    "colab": {
     "base_uri": "https://localhost:8080/"
    },
    "id": "jXradJj7X850",
    "outputId": "bacddb27-749b-4e47-dfc5-79b867f68e70"
   },
   "outputs": [
    {
     "data": {
      "text/plain": [
       "array([[  0,   0,   0,   0,   0,   0],\n",
       "       [  0,   0,   0,   0,   0,  29],\n",
       "       [  0,   0,   0,  48, 166, 224],\n",
       "       [  0,  93, 244, 249, 253, 187],\n",
       "       [  0, 107, 253, 253, 230,  48],\n",
       "       [  0,   3,  20,  20,  15,   0]], dtype=uint8)"
      ]
     },
     "execution_count": 71,
     "metadata": {},
     "output_type": "execute_result"
    }
   ],
   "source": [
    "# Slice of im3\n",
    "# [4:10, 4:10] - get rows and columns starting from 4(included) to 10 (excluded)\n",
    "# Numpy Array representation\n",
    "array(im3)[4:10,4:10]"
   ]
  },
  {
   "cell_type": "code",
   "execution_count": 72,
   "metadata": {
    "colab": {
     "base_uri": "https://localhost:8080/"
    },
    "id": "u9NiZZGdoGwj",
    "outputId": "0892887d-b80e-41a4-ab5a-6ea93d8ea908"
   },
   "outputs": [
    {
     "name": "stdout",
     "output_type": "stream",
     "text": [
      "im3 represented as an array of numbers using tensors\n"
     ]
    },
    {
     "data": {
      "text/plain": [
       "tensor([[  0,   0,   0,   0,   0,   0,   0,   0,   0,   0,   0,   0,   0,   0,\n",
       "           0,   0,   0,   0,   0,   0,   0,   0,   0,   0,   0,   0,   0,   0],\n",
       "        [  0,   0,   0,   0,   0,   0,   0,   0,   0,   0,   0,   0,   0,   0,\n",
       "           0,   0,   0,   0,   0,   0,   0,   0,   0,   0,   0,   0,   0,   0],\n",
       "        [  0,   0,   0,   0,   0,   0,   0,   0,   0,   0,   0,   0,   0,   0,\n",
       "           0,   0,   0,   0,   0,   0,   0,   0,   0,   0,   0,   0,   0,   0],\n",
       "        [  0,   0,   0,   0,   0,   0,   0,   0,   0,   0,   0,   0,   0,   0,\n",
       "           0,   0,   0,   0,   0,   0,   0,   0,   0,   0,   0,   0,   0,   0],\n",
       "        [  0,   0,   0,   0,   0,   0,   0,   0,   0,   0,   0,   0,   0,   0,\n",
       "           0,   0,   0,   0,   0,   0,   0,   0,   0,   0,   0,   0,   0,   0],\n",
       "        [  0,   0,   0,   0,   0,   0,   0,   0,   0,  29, 150, 195, 254, 255,\n",
       "         254, 176, 193, 150,  96,   0,   0,   0,   0,   0,   0,   0,   0,   0],\n",
       "        [  0,   0,   0,   0,   0,   0,   0,  48, 166, 224, 253, 253, 234, 196,\n",
       "         253, 253, 253, 253, 233,   0,   0,   0,   0,   0,   0,   0,   0,   0],\n",
       "        [  0,   0,   0,   0,   0,  93, 244, 249, 253, 187,  46,  10,   8,   4,\n",
       "          10, 194, 253, 253, 233,   0,   0,   0,   0,   0,   0,   0,   0,   0],\n",
       "        [  0,   0,   0,   0,   0, 107, 253, 253, 230,  48,   0,   0,   0,   0,\n",
       "           0, 192, 253, 253, 156,   0,   0,   0,   0,   0,   0,   0,   0,   0],\n",
       "        [  0,   0,   0,   0,   0,   3,  20,  20,  15,   0,   0,   0,   0,   0,\n",
       "          43, 224, 253, 245,  74,   0,   0,   0,   0,   0,   0,   0,   0,   0],\n",
       "        [  0,   0,   0,   0,   0,   0,   0,   0,   0,   0,   0,   0,   0,   0,\n",
       "         249, 253, 245, 126,   0,   0,   0,   0,   0,   0,   0,   0,   0,   0],\n",
       "        [  0,   0,   0,   0,   0,   0,   0,   0,   0,   0,   0,  14, 101, 223,\n",
       "         253, 248, 124,   0,   0,   0,   0,   0,   0,   0,   0,   0,   0,   0],\n",
       "        [  0,   0,   0,   0,   0,   0,   0,   0,   0,  11, 166, 239, 253, 253,\n",
       "         253, 187,  30,   0,   0,   0,   0,   0,   0,   0,   0,   0,   0,   0],\n",
       "        [  0,   0,   0,   0,   0,   0,   0,   0,   0,  16, 248, 250, 253, 253,\n",
       "         253, 253, 232, 213, 111,   2,   0,   0,   0,   0,   0,   0,   0,   0],\n",
       "        [  0,   0,   0,   0,   0,   0,   0,   0,   0,   0,   0,  43,  98,  98,\n",
       "         208, 253, 253, 253, 253, 187,  22,   0,   0,   0,   0,   0,   0,   0],\n",
       "        [  0,   0,   0,   0,   0,   0,   0,   0,   0,   0,   0,   0,   0,   0,\n",
       "           9,  51, 119, 253, 253, 253,  76,   0,   0,   0,   0,   0,   0,   0],\n",
       "        [  0,   0,   0,   0,   0,   0,   0,   0,   0,   0,   0,   0,   0,   0,\n",
       "           0,   0,   1, 183, 253, 253, 139,   0,   0,   0,   0,   0,   0,   0],\n",
       "        [  0,   0,   0,   0,   0,   0,   0,   0,   0,   0,   0,   0,   0,   0,\n",
       "           0,   0,   0, 182, 253, 253, 104,   0,   0,   0,   0,   0,   0,   0],\n",
       "        [  0,   0,   0,   0,   0,   0,   0,   0,   0,   0,   0,   0,   0,   0,\n",
       "           0,   0,  85, 249, 253, 253,  36,   0,   0,   0,   0,   0,   0,   0],\n",
       "        [  0,   0,   0,   0,   0,   0,   0,   0,   0,   0,   0,   0,   0,   0,\n",
       "           0,  60, 214, 253, 253, 173,  11,   0,   0,   0,   0,   0,   0,   0],\n",
       "        [  0,   0,   0,   0,   0,   0,   0,   0,   0,   0,   0,   0,   0,   0,\n",
       "          98, 247, 253, 253, 226,   9,   0,   0,   0,   0,   0,   0,   0,   0],\n",
       "        [  0,   0,   0,   0,   0,   0,   0,   0,   0,   0,   0,   0,  42, 150,\n",
       "         252, 253, 253, 233,  53,   0,   0,   0,   0,   0,   0,   0,   0,   0],\n",
       "        [  0,   0,   0,   0,   0,   0,  42, 115,  42,  60, 115, 159, 240, 253,\n",
       "         253, 250, 175,  25,   0,   0,   0,   0,   0,   0,   0,   0,   0,   0],\n",
       "        [  0,   0,   0,   0,   0,   0, 187, 253, 253, 253, 253, 253, 253, 253,\n",
       "         197,  86,   0,   0,   0,   0,   0,   0,   0,   0,   0,   0,   0,   0],\n",
       "        [  0,   0,   0,   0,   0,   0, 103, 253, 253, 253, 253, 253, 232,  67,\n",
       "           1,   0,   0,   0,   0,   0,   0,   0,   0,   0,   0,   0,   0,   0],\n",
       "        [  0,   0,   0,   0,   0,   0,   0,   0,   0,   0,   0,   0,   0,   0,\n",
       "           0,   0,   0,   0,   0,   0,   0,   0,   0,   0,   0,   0,   0,   0],\n",
       "        [  0,   0,   0,   0,   0,   0,   0,   0,   0,   0,   0,   0,   0,   0,\n",
       "           0,   0,   0,   0,   0,   0,   0,   0,   0,   0,   0,   0,   0,   0],\n",
       "        [  0,   0,   0,   0,   0,   0,   0,   0,   0,   0,   0,   0,   0,   0,\n",
       "           0,   0,   0,   0,   0,   0,   0,   0,   0,   0,   0,   0,   0,   0]],\n",
       "       dtype=torch.uint8)"
      ]
     },
     "execution_count": 72,
     "metadata": {},
     "output_type": "execute_result"
    }
   ],
   "source": [
    "# MNIST image dimensions are 28 x 28 = 784 pixel array\n",
    "print(f\"im3 represented as an array of numbers using tensors\")\n",
    "tensor(im3)"
   ]
  },
  {
   "cell_type": "code",
   "execution_count": 73,
   "metadata": {
    "colab": {
     "base_uri": "https://localhost:8080/"
    },
    "id": "tk3EqBh7ZSM9",
    "outputId": "afc3bf43-4f09-4e8d-d7dd-e86e443ddafe"
   },
   "outputs": [
    {
     "data": {
      "text/plain": [
       "tensor([[  0,   0,   0,   0,   0,   0],\n",
       "        [  0,   0,   0,   0,   0,  29],\n",
       "        [  0,   0,   0,  48, 166, 224],\n",
       "        [  0,  93, 244, 249, 253, 187],\n",
       "        [  0, 107, 253, 253, 230,  48],\n",
       "        [  0,   3,  20,  20,  15,   0]], dtype=torch.uint8)"
      ]
     },
     "execution_count": 73,
     "metadata": {},
     "output_type": "execute_result"
    }
   ],
   "source": [
    "# Slice of im3\n",
    "# [4:10, 4:10] - get rows and columns starting from 4(included) to 10 (excluded)\n",
    "# Tensor representation\n",
    "tensor(im3)[4:10, 4:10]"
   ]
  },
  {
   "cell_type": "code",
   "execution_count": 74,
   "metadata": {
    "colab": {
     "base_uri": "https://localhost:8080/",
     "height": 394
    },
    "id": "0IODr_X6ZeH2",
    "outputId": "27e262ee-21c3-403c-d39f-3320f0bcd30a"
   },
   "outputs": [
    {
     "data": {
      "text/html": [
       "<style type=\"text/css\">\n",
       "#T_f187e_row0_col0, #T_f187e_row0_col1, #T_f187e_row0_col2, #T_f187e_row0_col3, #T_f187e_row0_col4, #T_f187e_row0_col5, #T_f187e_row0_col6, #T_f187e_row0_col7, #T_f187e_row0_col8, #T_f187e_row0_col9, #T_f187e_row0_col10, #T_f187e_row0_col11, #T_f187e_row0_col12, #T_f187e_row0_col13, #T_f187e_row0_col14, #T_f187e_row0_col15, #T_f187e_row0_col16, #T_f187e_row0_col17, #T_f187e_row1_col0, #T_f187e_row1_col1, #T_f187e_row1_col2, #T_f187e_row1_col3, #T_f187e_row1_col4, #T_f187e_row1_col15, #T_f187e_row1_col16, #T_f187e_row1_col17, #T_f187e_row2_col0, #T_f187e_row2_col1, #T_f187e_row2_col2, #T_f187e_row2_col15, #T_f187e_row2_col16, #T_f187e_row2_col17, #T_f187e_row3_col0, #T_f187e_row3_col15, #T_f187e_row3_col16, #T_f187e_row3_col17, #T_f187e_row4_col0, #T_f187e_row4_col6, #T_f187e_row4_col7, #T_f187e_row4_col8, #T_f187e_row4_col9, #T_f187e_row4_col10, #T_f187e_row4_col15, #T_f187e_row4_col16, #T_f187e_row4_col17, #T_f187e_row5_col0, #T_f187e_row5_col5, #T_f187e_row5_col6, #T_f187e_row5_col7, #T_f187e_row5_col8, #T_f187e_row5_col9, #T_f187e_row5_col15, #T_f187e_row5_col16, #T_f187e_row5_col17, #T_f187e_row6_col0, #T_f187e_row6_col1, #T_f187e_row6_col2, #T_f187e_row6_col3, #T_f187e_row6_col4, #T_f187e_row6_col5, #T_f187e_row6_col6, #T_f187e_row6_col7, #T_f187e_row6_col8, #T_f187e_row6_col9, #T_f187e_row6_col14, #T_f187e_row6_col15, #T_f187e_row6_col16, #T_f187e_row6_col17, #T_f187e_row7_col0, #T_f187e_row7_col1, #T_f187e_row7_col2, #T_f187e_row7_col3, #T_f187e_row7_col4, #T_f187e_row7_col5, #T_f187e_row7_col6, #T_f187e_row7_col13, #T_f187e_row7_col14, #T_f187e_row7_col15, #T_f187e_row7_col16, #T_f187e_row7_col17, #T_f187e_row8_col0, #T_f187e_row8_col1, #T_f187e_row8_col2, #T_f187e_row8_col3, #T_f187e_row8_col4, #T_f187e_row8_col13, #T_f187e_row8_col14, #T_f187e_row8_col15, #T_f187e_row8_col16, #T_f187e_row8_col17, #T_f187e_row9_col0, #T_f187e_row9_col1, #T_f187e_row9_col2, #T_f187e_row9_col3, #T_f187e_row9_col4, #T_f187e_row9_col16, #T_f187e_row9_col17, #T_f187e_row10_col0, #T_f187e_row10_col1, #T_f187e_row10_col2, #T_f187e_row10_col3, #T_f187e_row10_col4, #T_f187e_row10_col5, #T_f187e_row10_col6, #T_f187e_row10_col17 {\n",
       "  font-size: 6pt;\n",
       "  background-color: #ffffff;\n",
       "  color: #000000;\n",
       "}\n",
       "#T_f187e_row1_col5 {\n",
       "  font-size: 6pt;\n",
       "  background-color: #efefef;\n",
       "  color: #000000;\n",
       "}\n",
       "#T_f187e_row1_col6, #T_f187e_row1_col13 {\n",
       "  font-size: 6pt;\n",
       "  background-color: #7c7c7c;\n",
       "  color: #f1f1f1;\n",
       "}\n",
       "#T_f187e_row1_col7 {\n",
       "  font-size: 6pt;\n",
       "  background-color: #4a4a4a;\n",
       "  color: #f1f1f1;\n",
       "}\n",
       "#T_f187e_row1_col8, #T_f187e_row1_col9, #T_f187e_row1_col10, #T_f187e_row2_col5, #T_f187e_row2_col6, #T_f187e_row2_col7, #T_f187e_row2_col11, #T_f187e_row2_col12, #T_f187e_row2_col13, #T_f187e_row3_col4, #T_f187e_row3_col12, #T_f187e_row3_col13, #T_f187e_row4_col1, #T_f187e_row4_col2, #T_f187e_row4_col3, #T_f187e_row4_col12, #T_f187e_row4_col13, #T_f187e_row5_col12, #T_f187e_row6_col11, #T_f187e_row9_col11, #T_f187e_row10_col11, #T_f187e_row10_col12, #T_f187e_row10_col13, #T_f187e_row10_col14, #T_f187e_row10_col15, #T_f187e_row10_col16 {\n",
       "  font-size: 6pt;\n",
       "  background-color: #000000;\n",
       "  color: #f1f1f1;\n",
       "}\n",
       "#T_f187e_row1_col11 {\n",
       "  font-size: 6pt;\n",
       "  background-color: #606060;\n",
       "  color: #f1f1f1;\n",
       "}\n",
       "#T_f187e_row1_col12 {\n",
       "  font-size: 6pt;\n",
       "  background-color: #4d4d4d;\n",
       "  color: #f1f1f1;\n",
       "}\n",
       "#T_f187e_row1_col14 {\n",
       "  font-size: 6pt;\n",
       "  background-color: #bbbbbb;\n",
       "  color: #000000;\n",
       "}\n",
       "#T_f187e_row2_col3 {\n",
       "  font-size: 6pt;\n",
       "  background-color: #e4e4e4;\n",
       "  color: #000000;\n",
       "}\n",
       "#T_f187e_row2_col4, #T_f187e_row8_col6 {\n",
       "  font-size: 6pt;\n",
       "  background-color: #6b6b6b;\n",
       "  color: #f1f1f1;\n",
       "}\n",
       "#T_f187e_row2_col8, #T_f187e_row2_col14, #T_f187e_row3_col14 {\n",
       "  font-size: 6pt;\n",
       "  background-color: #171717;\n",
       "  color: #f1f1f1;\n",
       "}\n",
       "#T_f187e_row2_col9, #T_f187e_row3_col11 {\n",
       "  font-size: 6pt;\n",
       "  background-color: #4b4b4b;\n",
       "  color: #f1f1f1;\n",
       "}\n",
       "#T_f187e_row2_col10, #T_f187e_row7_col10, #T_f187e_row8_col8, #T_f187e_row8_col10, #T_f187e_row9_col8, #T_f187e_row9_col10 {\n",
       "  font-size: 6pt;\n",
       "  background-color: #010101;\n",
       "  color: #f1f1f1;\n",
       "}\n",
       "#T_f187e_row3_col1 {\n",
       "  font-size: 6pt;\n",
       "  background-color: #272727;\n",
       "  color: #f1f1f1;\n",
       "}\n",
       "#T_f187e_row3_col2 {\n",
       "  font-size: 6pt;\n",
       "  background-color: #0a0a0a;\n",
       "  color: #f1f1f1;\n",
       "}\n",
       "#T_f187e_row3_col3 {\n",
       "  font-size: 6pt;\n",
       "  background-color: #050505;\n",
       "  color: #f1f1f1;\n",
       "}\n",
       "#T_f187e_row3_col5 {\n",
       "  font-size: 6pt;\n",
       "  background-color: #333333;\n",
       "  color: #f1f1f1;\n",
       "}\n",
       "#T_f187e_row3_col6 {\n",
       "  font-size: 6pt;\n",
       "  background-color: #e6e6e6;\n",
       "  color: #000000;\n",
       "}\n",
       "#T_f187e_row3_col7, #T_f187e_row3_col10 {\n",
       "  font-size: 6pt;\n",
       "  background-color: #fafafa;\n",
       "  color: #000000;\n",
       "}\n",
       "#T_f187e_row3_col8 {\n",
       "  font-size: 6pt;\n",
       "  background-color: #fbfbfb;\n",
       "  color: #000000;\n",
       "}\n",
       "#T_f187e_row3_col9 {\n",
       "  font-size: 6pt;\n",
       "  background-color: #fdfdfd;\n",
       "  color: #000000;\n",
       "}\n",
       "#T_f187e_row4_col4 {\n",
       "  font-size: 6pt;\n",
       "  background-color: #1b1b1b;\n",
       "  color: #f1f1f1;\n",
       "}\n",
       "#T_f187e_row4_col5 {\n",
       "  font-size: 6pt;\n",
       "  background-color: #e0e0e0;\n",
       "  color: #000000;\n",
       "}\n",
       "#T_f187e_row4_col11 {\n",
       "  font-size: 6pt;\n",
       "  background-color: #4e4e4e;\n",
       "  color: #f1f1f1;\n",
       "}\n",
       "#T_f187e_row4_col14 {\n",
       "  font-size: 6pt;\n",
       "  background-color: #767676;\n",
       "  color: #f1f1f1;\n",
       "}\n",
       "#T_f187e_row5_col1 {\n",
       "  font-size: 6pt;\n",
       "  background-color: #fcfcfc;\n",
       "  color: #000000;\n",
       "}\n",
       "#T_f187e_row5_col2, #T_f187e_row5_col3 {\n",
       "  font-size: 6pt;\n",
       "  background-color: #f6f6f6;\n",
       "  color: #000000;\n",
       "}\n",
       "#T_f187e_row5_col4, #T_f187e_row7_col7 {\n",
       "  font-size: 6pt;\n",
       "  background-color: #f8f8f8;\n",
       "  color: #000000;\n",
       "}\n",
       "#T_f187e_row5_col10, #T_f187e_row10_col7 {\n",
       "  font-size: 6pt;\n",
       "  background-color: #e8e8e8;\n",
       "  color: #000000;\n",
       "}\n",
       "#T_f187e_row5_col11 {\n",
       "  font-size: 6pt;\n",
       "  background-color: #222222;\n",
       "  color: #f1f1f1;\n",
       "}\n",
       "#T_f187e_row5_col13, #T_f187e_row6_col12 {\n",
       "  font-size: 6pt;\n",
       "  background-color: #090909;\n",
       "  color: #f1f1f1;\n",
       "}\n",
       "#T_f187e_row5_col14 {\n",
       "  font-size: 6pt;\n",
       "  background-color: #d0d0d0;\n",
       "  color: #000000;\n",
       "}\n",
       "#T_f187e_row6_col10, #T_f187e_row7_col11, #T_f187e_row9_col6 {\n",
       "  font-size: 6pt;\n",
       "  background-color: #060606;\n",
       "  color: #f1f1f1;\n",
       "}\n",
       "#T_f187e_row6_col13 {\n",
       "  font-size: 6pt;\n",
       "  background-color: #979797;\n",
       "  color: #f1f1f1;\n",
       "}\n",
       "#T_f187e_row7_col8 {\n",
       "  font-size: 6pt;\n",
       "  background-color: #b6b6b6;\n",
       "  color: #000000;\n",
       "}\n",
       "#T_f187e_row7_col9 {\n",
       "  font-size: 6pt;\n",
       "  background-color: #252525;\n",
       "  color: #f1f1f1;\n",
       "}\n",
       "#T_f187e_row7_col12 {\n",
       "  font-size: 6pt;\n",
       "  background-color: #999999;\n",
       "  color: #f1f1f1;\n",
       "}\n",
       "#T_f187e_row8_col5 {\n",
       "  font-size: 6pt;\n",
       "  background-color: #f9f9f9;\n",
       "  color: #000000;\n",
       "}\n",
       "#T_f187e_row8_col7 {\n",
       "  font-size: 6pt;\n",
       "  background-color: #101010;\n",
       "  color: #f1f1f1;\n",
       "}\n",
       "#T_f187e_row8_col9, #T_f187e_row9_col9 {\n",
       "  font-size: 6pt;\n",
       "  background-color: #020202;\n",
       "  color: #f1f1f1;\n",
       "}\n",
       "#T_f187e_row8_col11 {\n",
       "  font-size: 6pt;\n",
       "  background-color: #545454;\n",
       "  color: #f1f1f1;\n",
       "}\n",
       "#T_f187e_row8_col12 {\n",
       "  font-size: 6pt;\n",
       "  background-color: #f1f1f1;\n",
       "  color: #000000;\n",
       "}\n",
       "#T_f187e_row9_col5 {\n",
       "  font-size: 6pt;\n",
       "  background-color: #f7f7f7;\n",
       "  color: #000000;\n",
       "}\n",
       "#T_f187e_row9_col7 {\n",
       "  font-size: 6pt;\n",
       "  background-color: #030303;\n",
       "  color: #f1f1f1;\n",
       "}\n",
       "#T_f187e_row9_col12 {\n",
       "  font-size: 6pt;\n",
       "  background-color: #181818;\n",
       "  color: #f1f1f1;\n",
       "}\n",
       "#T_f187e_row9_col13 {\n",
       "  font-size: 6pt;\n",
       "  background-color: #303030;\n",
       "  color: #f1f1f1;\n",
       "}\n",
       "#T_f187e_row9_col14 {\n",
       "  font-size: 6pt;\n",
       "  background-color: #a9a9a9;\n",
       "  color: #f1f1f1;\n",
       "}\n",
       "#T_f187e_row9_col15 {\n",
       "  font-size: 6pt;\n",
       "  background-color: #fefefe;\n",
       "  color: #000000;\n",
       "}\n",
       "#T_f187e_row10_col8, #T_f187e_row10_col9 {\n",
       "  font-size: 6pt;\n",
       "  background-color: #bababa;\n",
       "  color: #000000;\n",
       "}\n",
       "#T_f187e_row10_col10 {\n",
       "  font-size: 6pt;\n",
       "  background-color: #393939;\n",
       "  color: #f1f1f1;\n",
       "}\n",
       "</style>\n",
       "<table id=\"T_f187e\" class=\"dataframe\">\n",
       "  <thead>\n",
       "    <tr>\n",
       "      <th class=\"blank level0\" >&nbsp;</th>\n",
       "      <th id=\"T_f187e_level0_col0\" class=\"col_heading level0 col0\" >0</th>\n",
       "      <th id=\"T_f187e_level0_col1\" class=\"col_heading level0 col1\" >1</th>\n",
       "      <th id=\"T_f187e_level0_col2\" class=\"col_heading level0 col2\" >2</th>\n",
       "      <th id=\"T_f187e_level0_col3\" class=\"col_heading level0 col3\" >3</th>\n",
       "      <th id=\"T_f187e_level0_col4\" class=\"col_heading level0 col4\" >4</th>\n",
       "      <th id=\"T_f187e_level0_col5\" class=\"col_heading level0 col5\" >5</th>\n",
       "      <th id=\"T_f187e_level0_col6\" class=\"col_heading level0 col6\" >6</th>\n",
       "      <th id=\"T_f187e_level0_col7\" class=\"col_heading level0 col7\" >7</th>\n",
       "      <th id=\"T_f187e_level0_col8\" class=\"col_heading level0 col8\" >8</th>\n",
       "      <th id=\"T_f187e_level0_col9\" class=\"col_heading level0 col9\" >9</th>\n",
       "      <th id=\"T_f187e_level0_col10\" class=\"col_heading level0 col10\" >10</th>\n",
       "      <th id=\"T_f187e_level0_col11\" class=\"col_heading level0 col11\" >11</th>\n",
       "      <th id=\"T_f187e_level0_col12\" class=\"col_heading level0 col12\" >12</th>\n",
       "      <th id=\"T_f187e_level0_col13\" class=\"col_heading level0 col13\" >13</th>\n",
       "      <th id=\"T_f187e_level0_col14\" class=\"col_heading level0 col14\" >14</th>\n",
       "      <th id=\"T_f187e_level0_col15\" class=\"col_heading level0 col15\" >15</th>\n",
       "      <th id=\"T_f187e_level0_col16\" class=\"col_heading level0 col16\" >16</th>\n",
       "      <th id=\"T_f187e_level0_col17\" class=\"col_heading level0 col17\" >17</th>\n",
       "    </tr>\n",
       "  </thead>\n",
       "  <tbody>\n",
       "    <tr>\n",
       "      <th id=\"T_f187e_level0_row0\" class=\"row_heading level0 row0\" >0</th>\n",
       "      <td id=\"T_f187e_row0_col0\" class=\"data row0 col0\" >0</td>\n",
       "      <td id=\"T_f187e_row0_col1\" class=\"data row0 col1\" >0</td>\n",
       "      <td id=\"T_f187e_row0_col2\" class=\"data row0 col2\" >0</td>\n",
       "      <td id=\"T_f187e_row0_col3\" class=\"data row0 col3\" >0</td>\n",
       "      <td id=\"T_f187e_row0_col4\" class=\"data row0 col4\" >0</td>\n",
       "      <td id=\"T_f187e_row0_col5\" class=\"data row0 col5\" >0</td>\n",
       "      <td id=\"T_f187e_row0_col6\" class=\"data row0 col6\" >0</td>\n",
       "      <td id=\"T_f187e_row0_col7\" class=\"data row0 col7\" >0</td>\n",
       "      <td id=\"T_f187e_row0_col8\" class=\"data row0 col8\" >0</td>\n",
       "      <td id=\"T_f187e_row0_col9\" class=\"data row0 col9\" >0</td>\n",
       "      <td id=\"T_f187e_row0_col10\" class=\"data row0 col10\" >0</td>\n",
       "      <td id=\"T_f187e_row0_col11\" class=\"data row0 col11\" >0</td>\n",
       "      <td id=\"T_f187e_row0_col12\" class=\"data row0 col12\" >0</td>\n",
       "      <td id=\"T_f187e_row0_col13\" class=\"data row0 col13\" >0</td>\n",
       "      <td id=\"T_f187e_row0_col14\" class=\"data row0 col14\" >0</td>\n",
       "      <td id=\"T_f187e_row0_col15\" class=\"data row0 col15\" >0</td>\n",
       "      <td id=\"T_f187e_row0_col16\" class=\"data row0 col16\" >0</td>\n",
       "      <td id=\"T_f187e_row0_col17\" class=\"data row0 col17\" >0</td>\n",
       "    </tr>\n",
       "    <tr>\n",
       "      <th id=\"T_f187e_level0_row1\" class=\"row_heading level0 row1\" >1</th>\n",
       "      <td id=\"T_f187e_row1_col0\" class=\"data row1 col0\" >0</td>\n",
       "      <td id=\"T_f187e_row1_col1\" class=\"data row1 col1\" >0</td>\n",
       "      <td id=\"T_f187e_row1_col2\" class=\"data row1 col2\" >0</td>\n",
       "      <td id=\"T_f187e_row1_col3\" class=\"data row1 col3\" >0</td>\n",
       "      <td id=\"T_f187e_row1_col4\" class=\"data row1 col4\" >0</td>\n",
       "      <td id=\"T_f187e_row1_col5\" class=\"data row1 col5\" >29</td>\n",
       "      <td id=\"T_f187e_row1_col6\" class=\"data row1 col6\" >150</td>\n",
       "      <td id=\"T_f187e_row1_col7\" class=\"data row1 col7\" >195</td>\n",
       "      <td id=\"T_f187e_row1_col8\" class=\"data row1 col8\" >254</td>\n",
       "      <td id=\"T_f187e_row1_col9\" class=\"data row1 col9\" >255</td>\n",
       "      <td id=\"T_f187e_row1_col10\" class=\"data row1 col10\" >254</td>\n",
       "      <td id=\"T_f187e_row1_col11\" class=\"data row1 col11\" >176</td>\n",
       "      <td id=\"T_f187e_row1_col12\" class=\"data row1 col12\" >193</td>\n",
       "      <td id=\"T_f187e_row1_col13\" class=\"data row1 col13\" >150</td>\n",
       "      <td id=\"T_f187e_row1_col14\" class=\"data row1 col14\" >96</td>\n",
       "      <td id=\"T_f187e_row1_col15\" class=\"data row1 col15\" >0</td>\n",
       "      <td id=\"T_f187e_row1_col16\" class=\"data row1 col16\" >0</td>\n",
       "      <td id=\"T_f187e_row1_col17\" class=\"data row1 col17\" >0</td>\n",
       "    </tr>\n",
       "    <tr>\n",
       "      <th id=\"T_f187e_level0_row2\" class=\"row_heading level0 row2\" >2</th>\n",
       "      <td id=\"T_f187e_row2_col0\" class=\"data row2 col0\" >0</td>\n",
       "      <td id=\"T_f187e_row2_col1\" class=\"data row2 col1\" >0</td>\n",
       "      <td id=\"T_f187e_row2_col2\" class=\"data row2 col2\" >0</td>\n",
       "      <td id=\"T_f187e_row2_col3\" class=\"data row2 col3\" >48</td>\n",
       "      <td id=\"T_f187e_row2_col4\" class=\"data row2 col4\" >166</td>\n",
       "      <td id=\"T_f187e_row2_col5\" class=\"data row2 col5\" >224</td>\n",
       "      <td id=\"T_f187e_row2_col6\" class=\"data row2 col6\" >253</td>\n",
       "      <td id=\"T_f187e_row2_col7\" class=\"data row2 col7\" >253</td>\n",
       "      <td id=\"T_f187e_row2_col8\" class=\"data row2 col8\" >234</td>\n",
       "      <td id=\"T_f187e_row2_col9\" class=\"data row2 col9\" >196</td>\n",
       "      <td id=\"T_f187e_row2_col10\" class=\"data row2 col10\" >253</td>\n",
       "      <td id=\"T_f187e_row2_col11\" class=\"data row2 col11\" >253</td>\n",
       "      <td id=\"T_f187e_row2_col12\" class=\"data row2 col12\" >253</td>\n",
       "      <td id=\"T_f187e_row2_col13\" class=\"data row2 col13\" >253</td>\n",
       "      <td id=\"T_f187e_row2_col14\" class=\"data row2 col14\" >233</td>\n",
       "      <td id=\"T_f187e_row2_col15\" class=\"data row2 col15\" >0</td>\n",
       "      <td id=\"T_f187e_row2_col16\" class=\"data row2 col16\" >0</td>\n",
       "      <td id=\"T_f187e_row2_col17\" class=\"data row2 col17\" >0</td>\n",
       "    </tr>\n",
       "    <tr>\n",
       "      <th id=\"T_f187e_level0_row3\" class=\"row_heading level0 row3\" >3</th>\n",
       "      <td id=\"T_f187e_row3_col0\" class=\"data row3 col0\" >0</td>\n",
       "      <td id=\"T_f187e_row3_col1\" class=\"data row3 col1\" >93</td>\n",
       "      <td id=\"T_f187e_row3_col2\" class=\"data row3 col2\" >244</td>\n",
       "      <td id=\"T_f187e_row3_col3\" class=\"data row3 col3\" >249</td>\n",
       "      <td id=\"T_f187e_row3_col4\" class=\"data row3 col4\" >253</td>\n",
       "      <td id=\"T_f187e_row3_col5\" class=\"data row3 col5\" >187</td>\n",
       "      <td id=\"T_f187e_row3_col6\" class=\"data row3 col6\" >46</td>\n",
       "      <td id=\"T_f187e_row3_col7\" class=\"data row3 col7\" >10</td>\n",
       "      <td id=\"T_f187e_row3_col8\" class=\"data row3 col8\" >8</td>\n",
       "      <td id=\"T_f187e_row3_col9\" class=\"data row3 col9\" >4</td>\n",
       "      <td id=\"T_f187e_row3_col10\" class=\"data row3 col10\" >10</td>\n",
       "      <td id=\"T_f187e_row3_col11\" class=\"data row3 col11\" >194</td>\n",
       "      <td id=\"T_f187e_row3_col12\" class=\"data row3 col12\" >253</td>\n",
       "      <td id=\"T_f187e_row3_col13\" class=\"data row3 col13\" >253</td>\n",
       "      <td id=\"T_f187e_row3_col14\" class=\"data row3 col14\" >233</td>\n",
       "      <td id=\"T_f187e_row3_col15\" class=\"data row3 col15\" >0</td>\n",
       "      <td id=\"T_f187e_row3_col16\" class=\"data row3 col16\" >0</td>\n",
       "      <td id=\"T_f187e_row3_col17\" class=\"data row3 col17\" >0</td>\n",
       "    </tr>\n",
       "    <tr>\n",
       "      <th id=\"T_f187e_level0_row4\" class=\"row_heading level0 row4\" >4</th>\n",
       "      <td id=\"T_f187e_row4_col0\" class=\"data row4 col0\" >0</td>\n",
       "      <td id=\"T_f187e_row4_col1\" class=\"data row4 col1\" >107</td>\n",
       "      <td id=\"T_f187e_row4_col2\" class=\"data row4 col2\" >253</td>\n",
       "      <td id=\"T_f187e_row4_col3\" class=\"data row4 col3\" >253</td>\n",
       "      <td id=\"T_f187e_row4_col4\" class=\"data row4 col4\" >230</td>\n",
       "      <td id=\"T_f187e_row4_col5\" class=\"data row4 col5\" >48</td>\n",
       "      <td id=\"T_f187e_row4_col6\" class=\"data row4 col6\" >0</td>\n",
       "      <td id=\"T_f187e_row4_col7\" class=\"data row4 col7\" >0</td>\n",
       "      <td id=\"T_f187e_row4_col8\" class=\"data row4 col8\" >0</td>\n",
       "      <td id=\"T_f187e_row4_col9\" class=\"data row4 col9\" >0</td>\n",
       "      <td id=\"T_f187e_row4_col10\" class=\"data row4 col10\" >0</td>\n",
       "      <td id=\"T_f187e_row4_col11\" class=\"data row4 col11\" >192</td>\n",
       "      <td id=\"T_f187e_row4_col12\" class=\"data row4 col12\" >253</td>\n",
       "      <td id=\"T_f187e_row4_col13\" class=\"data row4 col13\" >253</td>\n",
       "      <td id=\"T_f187e_row4_col14\" class=\"data row4 col14\" >156</td>\n",
       "      <td id=\"T_f187e_row4_col15\" class=\"data row4 col15\" >0</td>\n",
       "      <td id=\"T_f187e_row4_col16\" class=\"data row4 col16\" >0</td>\n",
       "      <td id=\"T_f187e_row4_col17\" class=\"data row4 col17\" >0</td>\n",
       "    </tr>\n",
       "    <tr>\n",
       "      <th id=\"T_f187e_level0_row5\" class=\"row_heading level0 row5\" >5</th>\n",
       "      <td id=\"T_f187e_row5_col0\" class=\"data row5 col0\" >0</td>\n",
       "      <td id=\"T_f187e_row5_col1\" class=\"data row5 col1\" >3</td>\n",
       "      <td id=\"T_f187e_row5_col2\" class=\"data row5 col2\" >20</td>\n",
       "      <td id=\"T_f187e_row5_col3\" class=\"data row5 col3\" >20</td>\n",
       "      <td id=\"T_f187e_row5_col4\" class=\"data row5 col4\" >15</td>\n",
       "      <td id=\"T_f187e_row5_col5\" class=\"data row5 col5\" >0</td>\n",
       "      <td id=\"T_f187e_row5_col6\" class=\"data row5 col6\" >0</td>\n",
       "      <td id=\"T_f187e_row5_col7\" class=\"data row5 col7\" >0</td>\n",
       "      <td id=\"T_f187e_row5_col8\" class=\"data row5 col8\" >0</td>\n",
       "      <td id=\"T_f187e_row5_col9\" class=\"data row5 col9\" >0</td>\n",
       "      <td id=\"T_f187e_row5_col10\" class=\"data row5 col10\" >43</td>\n",
       "      <td id=\"T_f187e_row5_col11\" class=\"data row5 col11\" >224</td>\n",
       "      <td id=\"T_f187e_row5_col12\" class=\"data row5 col12\" >253</td>\n",
       "      <td id=\"T_f187e_row5_col13\" class=\"data row5 col13\" >245</td>\n",
       "      <td id=\"T_f187e_row5_col14\" class=\"data row5 col14\" >74</td>\n",
       "      <td id=\"T_f187e_row5_col15\" class=\"data row5 col15\" >0</td>\n",
       "      <td id=\"T_f187e_row5_col16\" class=\"data row5 col16\" >0</td>\n",
       "      <td id=\"T_f187e_row5_col17\" class=\"data row5 col17\" >0</td>\n",
       "    </tr>\n",
       "    <tr>\n",
       "      <th id=\"T_f187e_level0_row6\" class=\"row_heading level0 row6\" >6</th>\n",
       "      <td id=\"T_f187e_row6_col0\" class=\"data row6 col0\" >0</td>\n",
       "      <td id=\"T_f187e_row6_col1\" class=\"data row6 col1\" >0</td>\n",
       "      <td id=\"T_f187e_row6_col2\" class=\"data row6 col2\" >0</td>\n",
       "      <td id=\"T_f187e_row6_col3\" class=\"data row6 col3\" >0</td>\n",
       "      <td id=\"T_f187e_row6_col4\" class=\"data row6 col4\" >0</td>\n",
       "      <td id=\"T_f187e_row6_col5\" class=\"data row6 col5\" >0</td>\n",
       "      <td id=\"T_f187e_row6_col6\" class=\"data row6 col6\" >0</td>\n",
       "      <td id=\"T_f187e_row6_col7\" class=\"data row6 col7\" >0</td>\n",
       "      <td id=\"T_f187e_row6_col8\" class=\"data row6 col8\" >0</td>\n",
       "      <td id=\"T_f187e_row6_col9\" class=\"data row6 col9\" >0</td>\n",
       "      <td id=\"T_f187e_row6_col10\" class=\"data row6 col10\" >249</td>\n",
       "      <td id=\"T_f187e_row6_col11\" class=\"data row6 col11\" >253</td>\n",
       "      <td id=\"T_f187e_row6_col12\" class=\"data row6 col12\" >245</td>\n",
       "      <td id=\"T_f187e_row6_col13\" class=\"data row6 col13\" >126</td>\n",
       "      <td id=\"T_f187e_row6_col14\" class=\"data row6 col14\" >0</td>\n",
       "      <td id=\"T_f187e_row6_col15\" class=\"data row6 col15\" >0</td>\n",
       "      <td id=\"T_f187e_row6_col16\" class=\"data row6 col16\" >0</td>\n",
       "      <td id=\"T_f187e_row6_col17\" class=\"data row6 col17\" >0</td>\n",
       "    </tr>\n",
       "    <tr>\n",
       "      <th id=\"T_f187e_level0_row7\" class=\"row_heading level0 row7\" >7</th>\n",
       "      <td id=\"T_f187e_row7_col0\" class=\"data row7 col0\" >0</td>\n",
       "      <td id=\"T_f187e_row7_col1\" class=\"data row7 col1\" >0</td>\n",
       "      <td id=\"T_f187e_row7_col2\" class=\"data row7 col2\" >0</td>\n",
       "      <td id=\"T_f187e_row7_col3\" class=\"data row7 col3\" >0</td>\n",
       "      <td id=\"T_f187e_row7_col4\" class=\"data row7 col4\" >0</td>\n",
       "      <td id=\"T_f187e_row7_col5\" class=\"data row7 col5\" >0</td>\n",
       "      <td id=\"T_f187e_row7_col6\" class=\"data row7 col6\" >0</td>\n",
       "      <td id=\"T_f187e_row7_col7\" class=\"data row7 col7\" >14</td>\n",
       "      <td id=\"T_f187e_row7_col8\" class=\"data row7 col8\" >101</td>\n",
       "      <td id=\"T_f187e_row7_col9\" class=\"data row7 col9\" >223</td>\n",
       "      <td id=\"T_f187e_row7_col10\" class=\"data row7 col10\" >253</td>\n",
       "      <td id=\"T_f187e_row7_col11\" class=\"data row7 col11\" >248</td>\n",
       "      <td id=\"T_f187e_row7_col12\" class=\"data row7 col12\" >124</td>\n",
       "      <td id=\"T_f187e_row7_col13\" class=\"data row7 col13\" >0</td>\n",
       "      <td id=\"T_f187e_row7_col14\" class=\"data row7 col14\" >0</td>\n",
       "      <td id=\"T_f187e_row7_col15\" class=\"data row7 col15\" >0</td>\n",
       "      <td id=\"T_f187e_row7_col16\" class=\"data row7 col16\" >0</td>\n",
       "      <td id=\"T_f187e_row7_col17\" class=\"data row7 col17\" >0</td>\n",
       "    </tr>\n",
       "    <tr>\n",
       "      <th id=\"T_f187e_level0_row8\" class=\"row_heading level0 row8\" >8</th>\n",
       "      <td id=\"T_f187e_row8_col0\" class=\"data row8 col0\" >0</td>\n",
       "      <td id=\"T_f187e_row8_col1\" class=\"data row8 col1\" >0</td>\n",
       "      <td id=\"T_f187e_row8_col2\" class=\"data row8 col2\" >0</td>\n",
       "      <td id=\"T_f187e_row8_col3\" class=\"data row8 col3\" >0</td>\n",
       "      <td id=\"T_f187e_row8_col4\" class=\"data row8 col4\" >0</td>\n",
       "      <td id=\"T_f187e_row8_col5\" class=\"data row8 col5\" >11</td>\n",
       "      <td id=\"T_f187e_row8_col6\" class=\"data row8 col6\" >166</td>\n",
       "      <td id=\"T_f187e_row8_col7\" class=\"data row8 col7\" >239</td>\n",
       "      <td id=\"T_f187e_row8_col8\" class=\"data row8 col8\" >253</td>\n",
       "      <td id=\"T_f187e_row8_col9\" class=\"data row8 col9\" >253</td>\n",
       "      <td id=\"T_f187e_row8_col10\" class=\"data row8 col10\" >253</td>\n",
       "      <td id=\"T_f187e_row8_col11\" class=\"data row8 col11\" >187</td>\n",
       "      <td id=\"T_f187e_row8_col12\" class=\"data row8 col12\" >30</td>\n",
       "      <td id=\"T_f187e_row8_col13\" class=\"data row8 col13\" >0</td>\n",
       "      <td id=\"T_f187e_row8_col14\" class=\"data row8 col14\" >0</td>\n",
       "      <td id=\"T_f187e_row8_col15\" class=\"data row8 col15\" >0</td>\n",
       "      <td id=\"T_f187e_row8_col16\" class=\"data row8 col16\" >0</td>\n",
       "      <td id=\"T_f187e_row8_col17\" class=\"data row8 col17\" >0</td>\n",
       "    </tr>\n",
       "    <tr>\n",
       "      <th id=\"T_f187e_level0_row9\" class=\"row_heading level0 row9\" >9</th>\n",
       "      <td id=\"T_f187e_row9_col0\" class=\"data row9 col0\" >0</td>\n",
       "      <td id=\"T_f187e_row9_col1\" class=\"data row9 col1\" >0</td>\n",
       "      <td id=\"T_f187e_row9_col2\" class=\"data row9 col2\" >0</td>\n",
       "      <td id=\"T_f187e_row9_col3\" class=\"data row9 col3\" >0</td>\n",
       "      <td id=\"T_f187e_row9_col4\" class=\"data row9 col4\" >0</td>\n",
       "      <td id=\"T_f187e_row9_col5\" class=\"data row9 col5\" >16</td>\n",
       "      <td id=\"T_f187e_row9_col6\" class=\"data row9 col6\" >248</td>\n",
       "      <td id=\"T_f187e_row9_col7\" class=\"data row9 col7\" >250</td>\n",
       "      <td id=\"T_f187e_row9_col8\" class=\"data row9 col8\" >253</td>\n",
       "      <td id=\"T_f187e_row9_col9\" class=\"data row9 col9\" >253</td>\n",
       "      <td id=\"T_f187e_row9_col10\" class=\"data row9 col10\" >253</td>\n",
       "      <td id=\"T_f187e_row9_col11\" class=\"data row9 col11\" >253</td>\n",
       "      <td id=\"T_f187e_row9_col12\" class=\"data row9 col12\" >232</td>\n",
       "      <td id=\"T_f187e_row9_col13\" class=\"data row9 col13\" >213</td>\n",
       "      <td id=\"T_f187e_row9_col14\" class=\"data row9 col14\" >111</td>\n",
       "      <td id=\"T_f187e_row9_col15\" class=\"data row9 col15\" >2</td>\n",
       "      <td id=\"T_f187e_row9_col16\" class=\"data row9 col16\" >0</td>\n",
       "      <td id=\"T_f187e_row9_col17\" class=\"data row9 col17\" >0</td>\n",
       "    </tr>\n",
       "    <tr>\n",
       "      <th id=\"T_f187e_level0_row10\" class=\"row_heading level0 row10\" >10</th>\n",
       "      <td id=\"T_f187e_row10_col0\" class=\"data row10 col0\" >0</td>\n",
       "      <td id=\"T_f187e_row10_col1\" class=\"data row10 col1\" >0</td>\n",
       "      <td id=\"T_f187e_row10_col2\" class=\"data row10 col2\" >0</td>\n",
       "      <td id=\"T_f187e_row10_col3\" class=\"data row10 col3\" >0</td>\n",
       "      <td id=\"T_f187e_row10_col4\" class=\"data row10 col4\" >0</td>\n",
       "      <td id=\"T_f187e_row10_col5\" class=\"data row10 col5\" >0</td>\n",
       "      <td id=\"T_f187e_row10_col6\" class=\"data row10 col6\" >0</td>\n",
       "      <td id=\"T_f187e_row10_col7\" class=\"data row10 col7\" >43</td>\n",
       "      <td id=\"T_f187e_row10_col8\" class=\"data row10 col8\" >98</td>\n",
       "      <td id=\"T_f187e_row10_col9\" class=\"data row10 col9\" >98</td>\n",
       "      <td id=\"T_f187e_row10_col10\" class=\"data row10 col10\" >208</td>\n",
       "      <td id=\"T_f187e_row10_col11\" class=\"data row10 col11\" >253</td>\n",
       "      <td id=\"T_f187e_row10_col12\" class=\"data row10 col12\" >253</td>\n",
       "      <td id=\"T_f187e_row10_col13\" class=\"data row10 col13\" >253</td>\n",
       "      <td id=\"T_f187e_row10_col14\" class=\"data row10 col14\" >253</td>\n",
       "      <td id=\"T_f187e_row10_col15\" class=\"data row10 col15\" >187</td>\n",
       "      <td id=\"T_f187e_row10_col16\" class=\"data row10 col16\" >22</td>\n",
       "      <td id=\"T_f187e_row10_col17\" class=\"data row10 col17\" >0</td>\n",
       "    </tr>\n",
       "  </tbody>\n",
       "</table>\n"
      ],
      "text/plain": [
       "<pandas.io.formats.style.Styler at 0x7c9d06fb6830>"
      ]
     },
     "execution_count": 74,
     "metadata": {},
     "output_type": "execute_result"
    }
   ],
   "source": [
    "# slice data to obtain the top part of the number and color code data to show digit outline\n",
    "# slice data rows: 4(included)-15(excluded)\n",
    "# slice data columns: 4(included)-22(excluded)\n",
    "im3_t = tensor(im3)\n",
    "df = pd.DataFrame(im3_t[4:15,4:22])\n",
    "df.style.set_properties(**{'font-size':'6pt'}).background_gradient('Greys')"
   ]
  },
  {
   "cell_type": "markdown",
   "metadata": {
    "id": "E0sXeWP6Zoe7"
   },
   "source": [
    "## Baseline Model: Pixel Similarity"
   ]
  },
  {
   "cell_type": "markdown",
   "metadata": {
    "id": "765KtA434ktJ"
   },
   "source": [
    "The problem we're trying to solve is the following: How do we write a computer program to be able to distinguish between images of handwritten 3 and 7 digits.\n",
    "\n",
    "The first approach we try is **Pixel Similarity**. The FASTAI book authors define this as the following:\n",
    "\n",
    "1. Take the average pixel value for every pixel of the 3 images and do the same for the 7 images. These averages will produce a baseline image 3 and image 7.\n",
    "2. Go through every image in the 3 and 7 images and compare them to the baseline images to see which digit they are most similar to"
   ]
  },
  {
   "cell_type": "code",
   "execution_count": 75,
   "metadata": {
    "colab": {
     "base_uri": "https://localhost:8080/",
     "height": 278
    },
    "id": "9TwC4fO9Z7P3",
    "outputId": "6cbbff26-cd16-430a-b7d7-69a8948d625e"
   },
   "outputs": [
    {
     "name": "stdout",
     "output_type": "stream",
     "text": [
      "Number of images in threes: 6131\n",
      "Number of images in three tensors: 6131\n",
      "Number of images in sevens: 6265\n",
      "Number of images in seven tensors: 6265\n"
     ]
    },
    {
     "data": {
      "text/plain": [
       "<Axes: >"
      ]
     },
     "execution_count": 75,
     "metadata": {},
     "output_type": "execute_result"
    },
    {
     "data": {
      "image/png": "[encoded data removed]",
      "text/plain": [
       "<Figure size 90x90 with 1 Axes>"
      ]
     },
     "metadata": {},
     "output_type": "display_data"
    },
    {
     "data": {
      "image/png": "[encoded data removed]",
      "text/plain": [
       "<Figure size 90x90 with 1 Axes>"
      ]
     },
     "metadata": {},
     "output_type": "display_data"
    }
   ],
   "source": [
    "# Create a list of tensors for each image in 3 and 7 directories\n",
    "three_tensors = [tensor(Image.open(o)) for o in threes]\n",
    "seven_tensors = [tensor(Image.open(o)) for o in sevens]\n",
    "\n",
    "print(f\"Number of images in threes: {len(threes)}\")\n",
    "print(f\"Number of images in three tensors: {len(three_tensors)}\")\n",
    "print(f\"Number of images in sevens: {len(sevens)}\")\n",
    "print(f\"Number of images in seven tensors: {len(seven_tensors)}\")\n",
    "\n",
    "# verify images\n",
    "show_image(three_tensors[1])\n",
    "show_image(seven_tensors[1])"
   ]
  },
  {
   "cell_type": "markdown",
   "metadata": {
    "id": "mtSOz8fR4ktJ"
   },
   "source": [
    "The way I understand tensors is that they are data structures for storing information. The way I understand the stack operation is storing all the images into a pile of images that we then then can average all the pixel values for each pixel index in the image."
   ]
  },
  {
   "cell_type": "code",
   "execution_count": 76,
   "metadata": {
    "colab": {
     "base_uri": "https://localhost:8080/"
    },
    "id": "ffZHUp7MpQdG",
    "outputId": "2f3fd75f-6cc4-4296-e7cc-8f4c345a3d68"
   },
   "outputs": [
    {
     "name": "stdout",
     "output_type": "stream",
     "text": [
      "stacked_sevens shape: torch.Size([6265, 28, 28])\n",
      "stacked_sevens tensor rank: 3\n",
      "stacked_threes shape: torch.Size([6131, 28, 28])\n",
      "stacked_threes tensor rank: 3\n"
     ]
    }
   ],
   "source": [
    "# Compute the average intensity of each pixel across all images for 3 and 7\n",
    "stacked_sevens = torch.stack(seven_tensors).float() / 255\n",
    "stacked_threes = torch.stack(three_tensors).float() / 255\n",
    "\n",
    "print(f\"stacked_sevens shape: {stacked_sevens.shape}\")\n",
    "print(f\"stacked_sevens tensor rank: {len(stacked_sevens.shape)}\")\n",
    "print(f\"stacked_threes shape: {stacked_threes.shape}\")\n",
    "print(f\"stacked_threes tensor rank: {len(stacked_threes.shape)}\")"
   ]
  },
  {
   "cell_type": "markdown",
   "metadata": {
    "id": "IdNUPlNE4ktK"
   },
   "source": [
    "In this step, we take the list of tensor images and condense them down into a new image where each pixel index in this new image is the average of all the values at a particular index."
   ]
  },
  {
   "cell_type": "code",
   "execution_count": 77,
   "metadata": {
    "colab": {
     "base_uri": "https://localhost:8080/",
     "height": 278
    },
    "id": "_uI1rt6dqT1D",
    "outputId": "8bbcc1c0-da44-423e-a505-74ce307bdc2e"
   },
   "outputs": [
    {
     "name": "stdout",
     "output_type": "stream",
     "text": [
      "mean3 shape: torch.Size([28, 28])\n",
      "mean3 tensor rank: 2\n",
      "mean7 shape: torch.Size([28, 28])\n",
      "mean7 tensor rank: 2\n"
     ]
    },
    {
     "data": {
      "text/plain": [
       "<Axes: >"
      ]
     },
     "execution_count": 77,
     "metadata": {},
     "output_type": "execute_result"
    },
    {
     "data": {
      "image/png": "[encoded data removed]",
      "text/plain": [
       "<Figure size 90x90 with 1 Axes>"
      ]
     },
     "metadata": {},
     "output_type": "display_data"
    },
    {
     "data": {
      "image/png": "[encoded data removed]",
      "text/plain": [
       "<Figure size 90x90 with 1 Axes>"
      ]
     },
     "metadata": {},
     "output_type": "display_data"
    }
   ],
   "source": [
    " # Average of all image tensors by taking mean along the 0 dimension (collapse all the rows into a single row) of stacked 3 rank tensors\n",
    "mean3 = stacked_threes.mean(0)\n",
    "mean7 = stacked_sevens.mean(0)\n",
    "print(f\"mean3 shape: {mean3.shape}\")\n",
    "print(f\"mean3 tensor rank: {len(mean3.shape)}\")\n",
    "print(f\"mean7 shape: {mean7.shape}\")\n",
    "print(f\"mean7 tensor rank: {len(mean7.shape)}\")\n",
    "show_image(mean3)\n",
    "show_image(mean7)"
   ]
  },
  {
   "cell_type": "markdown",
   "metadata": {
    "id": "YONdjxUir6z3"
   },
   "source": [
    "## Measuring Distance"
   ]
  },
  {
   "cell_type": "markdown",
   "metadata": {
    "id": "8juaqatg4ktL"
   },
   "source": [
    "To compare the baseline image with a randomly chosen image from one of the datasets we need to measure the difference between pixels such that we have a standardized form so that the differences accurately reflect what pixels are dark and light when comparing the two images."
   ]
  },
  {
   "cell_type": "code",
   "execution_count": 78,
   "metadata": {
    "colab": {
     "base_uri": "https://localhost:8080/"
    },
    "id": "0sTWSZ_3tlWl",
    "outputId": "52603ae6-eb04-4328-f679-606624b2de31"
   },
   "outputs": [
    {
     "name": "stdout",
     "output_type": "stream",
     "text": [
      "Mean Absolute Difference between 3 image and ideal 3 image: 0.11143654584884644\n",
      "Mean Absolute Difference between 7 image and ideal 7 image: 0.13037648797035217\n",
      "Mean Absolute Difference between 3 image and ideal 7 image: 0.15861910581588745\n"
     ]
    }
   ],
   "source": [
    "# Mean Absolute Difference (L1 Norm)\n",
    "a_3 = stacked_threes[1]\n",
    "a_7 = stacked_sevens[1]\n",
    "\n",
    "dist_3_abs = (a_3 - mean3).abs().mean()\n",
    "dist_7_abs = (a_7 - mean7).abs().mean()\n",
    "\n",
    "print(f\"Mean Absolute Difference between 3 image and ideal 3 image: {dist_3_abs}\")\n",
    "print(f\"Mean Absolute Difference between 7 image and ideal 7 image: {dist_7_abs}\")\n",
    "\n",
    "# see how close 3 is to ideal 7\n",
    "dist_test_abs = (a_3 - mean7).abs().mean()\n",
    "print(f\"Mean Absolute Difference between 3 image and ideal 7 image: {dist_test_abs}\")"
   ]
  },
  {
   "cell_type": "code",
   "execution_count": 79,
   "metadata": {
    "colab": {
     "base_uri": "https://localhost:8080/"
    },
    "id": "CcA5skXXtpzR",
    "outputId": "811442e9-101c-4d2f-8ddc-d7162b70b07d"
   },
   "outputs": [
    {
     "name": "stdout",
     "output_type": "stream",
     "text": [
      "Root Mean Squared Difference between 3 image and ideal 3 image: 0.20208320021629333\n",
      "Root Mean Squared Difference between 7 image and ideal 7 image: 0.2584923207759857\n",
      "Root Mean Squared Difference between 3 image and ideal 7 image: 0.30210891366004944\n"
     ]
    }
   ],
   "source": [
    "# Root Mean Squared Error (L2 Norm)\n",
    "a_3 = stacked_threes[1]\n",
    "a_7 = stacked_sevens[1]\n",
    "\n",
    "dist_3_sqr = ((a_3 - mean3)**2).mean().sqrt()\n",
    "dist_7_sqr = ((a_7 - mean7)**2).mean().sqrt()\n",
    "dist_test_sqr = ((a_3 - mean7)**2).mean().sqrt()\n",
    "print(f\"Root Mean Squared Difference between 3 image and ideal 3 image: {dist_3_sqr}\")\n",
    "print(f\"Root Mean Squared Difference between 7 image and ideal 7 image: {dist_7_sqr}\")\n",
    "\n",
    "# see how close 3 is to ideal 7\n",
    "print(f\"Root Mean Squared Difference between 3 image and ideal 7 image: {dist_test_sqr}\")"
   ]
  },
  {
   "cell_type": "code",
   "execution_count": 80,
   "metadata": {
    "colab": {
     "base_uri": "https://localhost:8080/"
    },
    "id": "JHePpZuau0Gq",
    "outputId": "9f5c1e37-7bb2-443d-87a6-a30d7554b531"
   },
   "outputs": [
    {
     "name": "stdout",
     "output_type": "stream",
     "text": [
      "Pytorch Mean Absolute Value Loss between 3 image and ideal 7 image: 0.15861910581588745\n",
      "Pytorch Mean Squared Error Loss between 3 image and ideal 7 image: 0.30210891366004944\n"
     ]
    }
   ],
   "source": [
    "# Pytorch Mean Squared Error and Mean Absolute Value Loss\n",
    "print(f\"Pytorch Mean Absolute Value Loss between 3 image and ideal 7 image: {F.l1_loss(a_3.float(), mean7)}\")\n",
    "print(f\"Pytorch Mean Squared Error Loss between 3 image and ideal 7 image: {F.mse_loss(a_3, mean7).sqrt()}\")"
   ]
  },
  {
   "cell_type": "markdown",
   "metadata": {
    "id": "1iH81mRSwwOn"
   },
   "source": [
    "## Pytorch + Numpy"
   ]
  },
  {
   "cell_type": "markdown",
   "metadata": {
    "id": "HlB5Zlww4ktM"
   },
   "source": [
    "The main difference between pytorch and numpy is that pytorch supports using the GPU and calculating gradients which numpy does not."
   ]
  },
  {
   "cell_type": "code",
   "execution_count": 81,
   "metadata": {
    "colab": {
     "base_uri": "https://localhost:8080/"
    },
    "id": "ljUfV1IXxlkW",
    "outputId": "444a9730-6cca-4d12-9ca2-f4d9b3d033c6"
   },
   "outputs": [
    {
     "name": "stdout",
     "output_type": "stream",
     "text": [
      "select the second row of tensor: tensor([4, 5, 6])\n",
      "select the second column of tensor: tensor([[1, 2, 3]])\n",
      "select slice of tensor: tensor([5, 6])\n",
      "Addition with tensors: tensor([[2, 3, 4],\n",
      "        [5, 6, 7]])\n",
      "tensor type: torch.LongTensor\n",
      "changing tensor type from int to float: tensor([[1.5000, 3.0000, 4.5000],\n",
      "        [6.0000, 7.5000, 9.0000]])\n"
     ]
    }
   ],
   "source": [
    "data = [[1, 2, 3], [4, 5, 6]]\n",
    "# numpy array\n",
    "arr = array(data)\n",
    "# tensor\n",
    "tns = tensor(data)\n",
    "\n",
    "# select a row\n",
    "print(f\"select the second row of tensor: {tns[1]}\")\n",
    "\n",
    "# select a column\n",
    "print(f\"select the second column of tensor: {tns[:1]}\")\n",
    "\n",
    "# slicing\n",
    "print(f\"select slice of tensor: {tns[1, 1:3]}\")\n",
    "\n",
    "# addition\n",
    "print(f\"Addition with tensors: {tns + 1}\")\n",
    "\n",
    "# types\n",
    "print(f\"tensor type: {tns.type()}\")\n",
    "\n",
    "# scale and update tensor type\n",
    "print(f\"changing tensor type from int to float: {tns * 1.5}\")"
   ]
  },
  {
   "cell_type": "markdown",
   "metadata": {
    "id": "6SP9Wo4Myew4"
   },
   "source": [
    "## Computing Metrics"
   ]
  },
  {
   "cell_type": "markdown",
   "metadata": {
    "id": "1Tt7slQ94ktM"
   },
   "source": [
    "A metric is a number that is calculated based on the predictions of the model and the correct labels and inform us how good the model is. For classification models, **accuracy** is a popular metric."
   ]
  },
  {
   "cell_type": "code",
   "execution_count": 82,
   "metadata": {
    "colab": {
     "base_uri": "https://localhost:8080/"
    },
    "id": "bs4ByUZQyoQu",
    "outputId": "f128eb6a-f341-44c1-d278-9f5b25815f51"
   },
   "outputs": [
    {
     "name": "stdout",
     "output_type": "stream",
     "text": [
      "3 validation set shape: torch.Size([1010, 28, 28])\n",
      "3 validation set tensor rank: 3\n",
      "7 validation set shape: torch.Size([1028, 28, 28])\n",
      "7 validation set tensor rank: 3\n"
     ]
    }
   ],
   "source": [
    "# create validation data set\n",
    "valid_3_tens = torch.stack([tensor(Image.open(o))\n",
    "                            for o in (path/'valid'/'3').ls()])\n",
    "valid_3_tens = valid_3_tens.float() / 255\n",
    "valid_7_tens = torch.stack([tensor(Image.open(o))\n",
    "                            for o in (path/'valid'/'7').ls()])\n",
    "valid_7_tens = valid_7_tens.float() / 255\n",
    "\n",
    "print(f\"3 validation set shape: {valid_3_tens.shape}\")\n",
    "print(f\"3 validation set tensor rank: {len(valid_3_tens.shape)}\")\n",
    "print(f\"7 validation set shape: {valid_7_tens.shape}\")\n",
    "print(f\"7 validation set tensor rank: {len(valid_7_tens.shape)}\")"
   ]
  },
  {
   "cell_type": "code",
   "execution_count": 83,
   "metadata": {
    "colab": {
     "base_uri": "https://localhost:8080/"
    },
    "id": "_h4Cw9DbzN4A",
    "outputId": "7e558fef-b29b-4b2e-c5ff-df91dd7bcc7d"
   },
   "outputs": [
    {
     "name": "stdout",
     "output_type": "stream",
     "text": [
      "Distance function measuring the distance between 3 image and ideal 3 image: 0.11143654584884644\n",
      "Distance between validation set 3 image and ideal training data set 3 image: tensor([0.1058, 0.1300, 0.1125,  ..., 0.1605, 0.1259, 0.1381])\n",
      "Valid 3 distance tensor shape: torch.Size([1010])\n",
      "Valid 3 distance tensor rank: 1\n"
     ]
    }
   ],
   "source": [
    "# MNIST Data Distance Function\n",
    "def mnist_distance(a, b):\n",
    "  # (-1, -2) represent a range of axes. Tell Pytorch to take the mean ranging over the values\n",
    "  # indexed by the last two axes of the tensor (horizontal and vertical dimensions of the image)\n",
    "  # leaves only the first tensor axis which indexes over images and the final size -> averaged the intensity of all the pixels\n",
    "  # in the image\n",
    "  return (a - b).abs().mean((-1,-2))\n",
    "print(f\"Distance function measuring the distance between 3 image and ideal 3 image: {mnist_distance(a_3, mean3)}\")\n",
    "\n",
    "# measure distance between validation set 3 and ideal 3 tensor\n",
    "valid_3_dist = mnist_distance(valid_3_tens, mean3)\n",
    "print(f\"Distance between validation set 3 image and ideal training data set 3 image: {valid_3_dist}\")\n",
    "print(f\"Valid 3 distance tensor shape: {valid_3_dist.shape}\")\n",
    "print(f\"Valid 3 distance tensor rank: {len(valid_3_dist.shape)}\")"
   ]
  },
  {
   "cell_type": "code",
   "execution_count": 84,
   "metadata": {
    "colab": {
     "base_uri": "https://localhost:8080/"
    },
    "id": "84mJjR3Zz1dz",
    "outputId": "3b8a1f4a-92dd-4c2c-fe0c-13256e3f5d46"
   },
   "outputs": [
    {
     "name": "stdout",
     "output_type": "stream",
     "text": [
      "Check if 3 image is actually a 3 image as a boolean: True\n",
      "Check if 3 image is actually a 3 image as a float: 1.0\n",
      "check if all 3 images in validation set are 3 images: tensor([ True,  True,  True,  ..., False, False,  True])\n"
     ]
    }
   ],
   "source": [
    "# check if image is a 3\n",
    "def is_3(x):\n",
    "  return mnist_distance(x, mean3) < mnist_distance(x, mean7)\n",
    "\n",
    "print(f\"Check if 3 image is actually a 3 image as a boolean: {is_3(a_3)}\")\n",
    "# 1.0 - true\n",
    "# 0.0 - false\n",
    "print(f\"Check if 3 image is actually a 3 image as a float: {is_3(a_3).float()}\")\n",
    "\n",
    "# check all 3 images\n",
    "print(f\"check if all 3 images in validation set are 3 images: {is_3(valid_3_tens)}\")"
   ]
  },
  {
   "cell_type": "code",
   "execution_count": 85,
   "metadata": {
    "colab": {
     "base_uri": "https://localhost:8080/"
    },
    "id": "48AK8A_s5nMG",
    "outputId": "35e1b348-1b4e-481c-88e7-a317e6b632d0"
   },
   "outputs": [
    {
     "name": "stdout",
     "output_type": "stream",
     "text": [
      "Model accuracy for classifying 3 images: 0.9168316721916199\n",
      "Model accuracy for classifying 7 images: 0.9854085445404053\n",
      "Average model accuracy for classifying 3 and 7 images: 0.951120138168335\n"
     ]
    }
   ],
   "source": [
    "# Compute Accuracy of 3 and 7 Images\n",
    "accuracy_3s = is_3(valid_3_tens).float() .mean()\n",
    "accuracy_7s = (1 - is_3(valid_7_tens).float()).mean()\n",
    "\n",
    "print(f\"Model accuracy for classifying 3 images: {accuracy_3s}\")\n",
    "print(f\"Model accuracy for classifying 7 images: {accuracy_7s}\")\n",
    "print(f\"Average model accuracy for classifying 3 and 7 images: {(accuracy_3s+accuracy_7s)/2}\")"
   ]
  },
  {
   "cell_type": "code",
   "execution_count": 86,
   "metadata": {
    "id": "_XtNsMHDmXup"
   },
   "outputs": [],
   "source": [
    "# function for plotting\n",
    "from ipywidgets import interact\n",
    "from fastai.basics import *\n",
    "\n",
    "plt.rc('figure', dpi=90)\n",
    "\n",
    "def plot_function(f, title=None, min=-2.1, max=2.1, color='r', ylim=None):\n",
    "    x = torch.linspace(min,max, 100)[:,None]\n",
    "    if ylim: plt.ylim(ylim)\n",
    "    plt.plot(x, f(x), color)\n",
    "    if title is not None: plt.title(title)"
   ]
  },
  {
   "cell_type": "markdown",
   "metadata": {
    "id": "EzLhZRtmmjoT"
   },
   "source": [
    "## Fit a Function with Gradient Descent"
   ]
  },
  {
   "cell_type": "markdown",
   "metadata": {
    "id": "zpcIQ_2HmX9v"
   },
   "source": [
    "- A neural network can be thought of as a mathematical function \n",
    "- A simple neural network does the following things: \n",
    "1. Multiplies each input by a number of values(parameters). \n",
    "2. Sums up results for each group values\n",
    "3. Replaces the negative numbers with zeroes\n",
    "\n",
    "- These steps define a single layer. The three steps are repeated using the outputs of the previous layer as inputs to the next layer. The initial parameters are selected randomly"
   ]
  },
  {
   "cell_type": "code",
   "execution_count": 88,
   "metadata": {
    "colab": {
     "base_uri": "https://localhost:8080/",
     "height": 412
    },
    "id": "DCgNxoeNmYBj",
    "outputId": "331905e1-c043-4229-edc4-a7f2f1ecc70d"
   },
   "outputs": [
    {
     "data": {
      "image/png": "[encoded data removed]",
      "text/plain": [
       "<Figure size 576x432 with 1 Axes>"
      ]
     },
     "metadata": {},
     "output_type": "display_data"
    }
   ],
   "source": [
    "# Quadratic Function\n",
    "# - The quadratic function below is the one we are trying to fit(approximate)\n",
    "\n",
    "def f(x):\n",
    "  return 3*x**2 + 2*x + 1\n",
    "plot_function(f, \"$3x^2 + 2x + 1$\")"
   ]
  },
  {
   "cell_type": "code",
   "execution_count": 89,
   "metadata": {
    "id": "8zQQnQ66mYEu"
   },
   "outputs": [],
   "source": [
    "# General Quadratic Function\n",
    "def quad(a, b, c, x):\n",
    "  return a*x**2 + b*x + c"
   ]
  },
  {
   "cell_type": "code",
   "execution_count": 90,
   "metadata": {
    "colab": {
     "base_uri": "https://localhost:8080/"
    },
    "id": "Qv6q8M8_mYIA",
    "outputId": "ac782cc4-061b-41a9-f65e-f5ab66af7e46"
   },
   "outputs": [
    {
     "name": "stdout",
     "output_type": "stream",
     "text": [
      "Quadtratic Function: f(10.5) = 352.75\n",
      "General Quadratic Function: f(10.5) = 352.75\n"
     ]
    }
   ],
   "source": [
    "# function to make quadratic functions\n",
    "\n",
    "# partial allows for fixing particular values\n",
    "from functools import partial\n",
    "\n",
    "def mk_quad(a, b, c):\n",
    "  return partial(quad, a, b, c)\n",
    "\n",
    "f2 = mk_quad(3, 2, 1)\n",
    "\n",
    "# test partial and quadratic\n",
    "print(f\"Quadtratic Function: f(10.5) = {f(10.5)}\")\n",
    "print(f\"General Quadratic Function: f(10.5) = {f2(10.5)}\")"
   ]
  },
  {
   "cell_type": "code",
   "execution_count": 91,
   "metadata": {
    "colab": {
     "base_uri": "https://localhost:8080/",
     "height": 389
    },
    "id": "lz6LyQonmYKv",
    "outputId": "db2abf14-449a-4c07-d203-076d9eff7694"
   },
   "outputs": [
    {
     "data": {
      "image/png": "[encoded data removed]",
      "text/plain": [
       "<Figure size 576x432 with 1 Axes>"
      ]
     },
     "metadata": {},
     "output_type": "display_data"
    }
   ],
   "source": [
    "# Test and plot quadratic function using make quad function\n",
    "f2 = mk_quad(3, 2, 1)\n",
    "plot_function(f2)"
   ]
  },
  {
   "cell_type": "code",
   "execution_count": 92,
   "metadata": {
    "id": "IrOmCiUAmYN3"
   },
   "outputs": [],
   "source": [
    "# Simulate noisy measurements of quadratic function f\n",
    "\n",
    "# noisy data generation functions\n",
    "def noise(x, scale):\n",
    "  return np.random.normal(scale=scale, size=x.shape)\n",
    "\n",
    "def add_noise(x, mult, add):\n",
    "  return x * (1 + noise(x, mult)) + noise(x,add)"
   ]
  },
  {
   "cell_type": "code",
   "execution_count": 93,
   "metadata": {
    "colab": {
     "base_uri": "https://localhost:8080/"
    },
    "id": "-PpYqnA7mYQr",
    "outputId": "5ab236cf-cd0d-4918-9718-6c6e06c7d71a"
   },
   "outputs": [
    {
     "name": "stdout",
     "output_type": "stream",
     "text": [
      "First 5 x values: tensor([[-2.0000],\n",
      "        [-1.7895],\n",
      "        [-1.5789],\n",
      "        [-1.3684],\n",
      "        [-1.1579]])\n",
      "First 5 y values: tensor([[11.8690],\n",
      "        [ 6.5433],\n",
      "        [ 5.9396],\n",
      "        [ 2.6304],\n",
      "        [ 1.7947]], dtype=torch.float64)\n"
     ]
    }
   ],
   "source": [
    "# Create noisy data based on the the quadratic function f(x)\n",
    "np.random.seed(42)\n",
    "\n",
    "x = torch.linspace(-2, 2, steps=20)[:,None]\n",
    "y = add_noise(f(x), 0.15, 1.5)\n",
    "\n",
    "print(f\"First 5 x values: {x[:5]}\")\n",
    "print(f\"First 5 y values: {y[:5]}\")"
   ]
  },
  {
   "cell_type": "code",
   "execution_count": 94,
   "metadata": {
    "colab": {
     "base_uri": "https://localhost:8080/",
     "height": 406
    },
    "id": "LhvKhcuLmYT4",
    "outputId": "15ce639b-6a22-4d12-f0c8-439521c754a4"
   },
   "outputs": [
    {
     "data": {
      "text/plain": [
       "<matplotlib.collections.PathCollection at 0x7c9d0f8a7dc0>"
      ]
     },
     "execution_count": 94,
     "metadata": {},
     "output_type": "execute_result"
    },
    {
     "data": {
      "image/png": "[encoded data removed]",
      "text/plain": [
       "<Figure size 576x432 with 1 Axes>"
      ]
     },
     "metadata": {},
     "output_type": "display_data"
    }
   ],
   "source": [
    "# plot noisy data\n",
    "plt.scatter(x, y)"
   ]
  },
  {
   "cell_type": "code",
   "execution_count": 95,
   "metadata": {
    "colab": {
     "base_uri": "https://localhost:8080/",
     "height": 485,
     "referenced_widgets": [
      "23535e77851b4a8cbeb564acc6ba01a4",
      "4f72e5bf437d43eaa44cfb6fe7dfc79c",
      "97f6029f53dd496a806574e4c7b922b3",
      "48d5d53948b247569a742679dea7ed8c",
      "34b6a7ccd4d142c891e305c3f440479e",
      "0e7bd0cff2a044b1925dc883f454d9f8",
      "013db424046b4012a7a59eb5556adb25",
      "31e501d8714d4f35842a384004525307",
      "b32a7c0d3ffe43d4a45e2150f59925ca",
      "01789bb787ed49c5b8bfe7cf876ba5a9",
      "0355db405246411d949b0a1167ca64d2",
      "d34e5dc8eb694fc4afb9338881eb57c7",
      "f954b1bd19b14b3591c2129a54e515ad"
     ]
    },
    "id": "CJxUEAf2mYW-",
    "outputId": "b8bc16eb-4b8f-4854-f70b-44f5f401087d"
   },
   "outputs": [
    {
     "data": {
      "application/vnd.jupyter.widget-view+json": {
       "model_id": "23535e77851b4a8cbeb564acc6ba01a4",
       "version_major": 2,
       "version_minor": 0
      },
      "text/plain": [
       "interactive(children=(FloatSlider(value=1.1, description='a', max=3.3000000000000003, min=-1.1), FloatSlider(v…"
      ]
     },
     "metadata": {},
     "output_type": "display_data"
    },
    {
     "data": {
      "image/png": "[encoded data removed]",
      "text/plain": [
       "<Figure size 576x432 with 1 Axes>"
      ]
     },
     "metadata": {},
     "output_type": "display_data"
    }
   ],
   "source": [
    "# Find a, b, c values that create a function that fits noisy data\n",
    "@interact(a=1.1, b=1.1, c=1.1)\n",
    "def plot_quad(a, b, c):\n",
    "  plt.scatter(x, y)\n",
    "  plot_function(mk_quad(a,b,c), ylim=(-3,13))"
   ]
  },
  {
   "cell_type": "markdown",
   "metadata": {},
   "source": [
    "### Metric (Loss Function)"
   ]
  },
  {
   "cell_type": "markdown",
   "metadata": {},
   "source": [
    "- numerical way of measuring whether function is fitting data better or worse \n",
    "- Mean Absolute Error (MAE) is a `metric` that measures the distance from each data point to the curve"
   ]
  },
  {
   "cell_type": "code",
   "execution_count": 96,
   "metadata": {
    "id": "52xvEUPwnfMT"
   },
   "outputs": [],
   "source": [
    "def mae(preds, acts):\n",
    "  return (torch.abs(preds - acts)).mean()"
   ]
  },
  {
   "cell_type": "code",
   "execution_count": 97,
   "metadata": {
    "colab": {
     "base_uri": "https://localhost:8080/",
     "height": 504,
     "referenced_widgets": [
      "d249cb9a26474d2581e78ecca502132f",
      "4138287d50184b6b81c796a13dfe6705",
      "950bb74fa1c0451286913ccd6eca32be",
      "1252e2c0d0794a66bcbc4af46b5123d9",
      "b05d252c47b64084b53cfe08a865dcaa",
      "fa1af72f191247fea1b2bdcf197afd1e",
      "faec5e52914c41189707d871e8e859e4",
      "9ff9c09a41a543499d826f24efa5be95",
      "6f12123f9342459a9a7e2913a9228592",
      "3bc24b996db14ed29a0d6f6a860b3844",
      "9e3529750872415ba10d27d3f660c920",
      "6083cd4ffe4f451d9b8446e67f7cbcb6",
      "efa3c9da37b64e388748a8c23eba907b"
     ]
    },
    "id": "m5np4Oc8nfRi",
    "outputId": "d3202f63-23b8-474b-bbf3-77bb3acf1bbe"
   },
   "outputs": [
    {
     "data": {
      "application/vnd.jupyter.widget-view+json": {
       "model_id": "d249cb9a26474d2581e78ecca502132f",
       "version_major": 2,
       "version_minor": 0
      },
      "text/plain": [
       "interactive(children=(FloatSlider(value=1.1, description='a', max=3.3000000000000003, min=-1.1), FloatSlider(v…"
      ]
     },
     "metadata": {},
     "output_type": "display_data"
    },
    {
     "data": {
      "image/png": "[encoded data removed]",
      "text/plain": [
       "<Figure size 576x432 with 1 Axes>"
      ]
     },
     "metadata": {},
     "output_type": "display_data"
    }
   ],
   "source": [
    "# Find a, b, c values that create a function that fits noisy data using metrics\n",
    "@interact(a=1.1, b=1.1, c=1.1)\n",
    "def plot_quad(a, b, c):\n",
    "    f = mk_quad(a,b,c)\n",
    "    plt.scatter(x,y)\n",
    "    loss = mae(f(x), y)\n",
    "    plot_function(f, ylim=(-3,12), title=f\"MAE: {loss:.2f}\")\n"
   ]
  },
  {
   "cell_type": "markdown",
   "metadata": {},
   "source": [
    "### Automating Gradient Descent"
   ]
  },
  {
   "cell_type": "markdown",
   "metadata": {
    "id": "0_A5e5zTnfUq"
   },
   "source": [
    "- Calculus can be used to determine how much each neural network paramter should be increased or decreased to fit the data using the derivative(gradient).\n",
    "\n",
    "- Given the gradient of the `mean absolute error` with respect to parameters `a`, `b`, `c` then we know how adjusting a parameters such as `a` will change the value of the `mean absolute error`\n",
    "\n",
    "- If a paramaeter has a *negative gradient* then `increasing` the parameter will `decrease` the `mean absolute error`\n",
    "\n",
    "- Goal is to `minimize` the value of the metric function we use for the `loss function`.\n",
    "\n",
    "**Steps**:\n",
    "1. Find the gradient of MAE for each parameter\n",
    "2. Adjust parameters a bit in the opposite direction to the sign of the gradient"
   ]
  },
  {
   "cell_type": "code",
   "execution_count": 99,
   "metadata": {
    "colab": {
     "base_uri": "https://localhost:8080/"
    },
    "id": "KJctnfKPnfX0",
    "outputId": "0c245447-73bb-4216-91ef-698c30a3ec0f"
   },
   "outputs": [
    {
     "data": {
      "text/plain": [
       "tensor(2.4219, dtype=torch.float64)"
      ]
     },
     "execution_count": 99,
     "metadata": {},
     "output_type": "execute_result"
    }
   ],
   "source": [
    "# Function for generating MAE for quadratic functions\n",
    "def quad_mae(params):\n",
    "  f = mk_quad(*params)\n",
    "  return mae(f(x), y)\n",
    "\n",
    "# test quad_mae\n",
    "quad_mae([1.1, 1.1, 1.1])"
   ]
  },
  {
   "cell_type": "code",
   "execution_count": 100,
   "metadata": {
    "id": "NJeM48oXnfbC"
   },
   "outputs": [],
   "source": [
    "# starting vector containing arbitrary position\n",
    "abc = torch.tensor([1.1, 1.1, 1.1])"
   ]
  },
  {
   "cell_type": "code",
   "execution_count": 101,
   "metadata": {
    "colab": {
     "base_uri": "https://localhost:8080/"
    },
    "id": "1HdA6p_Cnfd3",
    "outputId": "11ee8f6b-eb98-45f2-d588-24baeca2c925"
   },
   "outputs": [
    {
     "data": {
      "text/plain": [
       "tensor([1.1000, 1.1000, 1.1000], requires_grad=True)"
      ]
     },
     "execution_count": 101,
     "metadata": {},
     "output_type": "execute_result"
    }
   ],
   "source": [
    "# tell pytorch to calculate gradient for parameters\n",
    "abc.requires_grad_()"
   ]
  },
  {
   "cell_type": "code",
   "execution_count": 102,
   "metadata": {
    "colab": {
     "base_uri": "https://localhost:8080/"
    },
    "id": "CbfsbRn3nfhS",
    "outputId": "86990ec0-5aed-4f64-f40a-8c21c6cf87cb"
   },
   "outputs": [
    {
     "data": {
      "text/plain": [
       "tensor(2.4219, dtype=torch.float64, grad_fn=<MeanBackward0>)"
      ]
     },
     "execution_count": 102,
     "metadata": {},
     "output_type": "execute_result"
    }
   ],
   "source": [
    "# calculate MAE\n",
    "# - When doing gradient descent we are trying to minimize the metric which is called the loss\n",
    "loss = quad_mae(abc)\n",
    "loss"
   ]
  },
  {
   "cell_type": "code",
   "execution_count": 103,
   "metadata": {
    "id": "SrM4Yw55mYaK"
   },
   "outputs": [],
   "source": [
    "# calculate gradients\n",
    "loss.backward()"
   ]
  },
  {
   "cell_type": "code",
   "execution_count": 104,
   "metadata": {
    "colab": {
     "base_uri": "https://localhost:8080/"
    },
    "id": "ySVyURG9mYdS",
    "outputId": "ded0b2d1-6da2-4e46-ca45-08fd1aacfd39"
   },
   "outputs": [
    {
     "data": {
      "text/plain": [
       "tensor([-1.3529, -0.0316, -0.5000])"
      ]
     },
     "execution_count": 104,
     "metadata": {},
     "output_type": "execute_result"
    }
   ],
   "source": [
    "# gradients with respect to each parameter (a, b, c)\n",
    "abc.grad"
   ]
  },
  {
   "cell_type": "code",
   "execution_count": 105,
   "metadata": {
    "colab": {
     "base_uri": "https://localhost:8080/"
    },
    "id": "CsaMCo59n28L",
    "outputId": "cb191eeb-526d-4250-ffbd-993c85e39a20"
   },
   "outputs": [
    {
     "name": "stdout",
     "output_type": "stream",
     "text": [
      "loss=2.40\n"
     ]
    }
   ],
   "source": [
    "# - gradients are a bit low -> increase gradients a little bit will decrease loss\n",
    "# - update abc vector by decreasing it by gradient * learning rate\n",
    "# - torch.no_grad turns of gradient calculation when we update the vector since\n",
    "# abc -= abc.grad * learning rate is not part of quadtratic function model and we\n",
    "# do not want the derivatives to include that calculation\n",
    "with torch.no_grad():\n",
    "    abc -= abc.grad * 0.01\n",
    "    loss = quad_mae(abc)\n",
    "print(f'loss={loss:.2f}')"
   ]
  },
  {
   "cell_type": "code",
   "execution_count": 106,
   "metadata": {
    "colab": {
     "base_uri": "https://localhost:8080/"
    },
    "id": "06Po5n2Mn3BY",
    "outputId": "5da8b174-ae88-4445-8ea3-798d58eeffe5"
   },
   "outputs": [
    {
     "name": "stdout",
     "output_type": "stream",
     "text": [
      "step=0; loss=2.40\n",
      "step=1; loss=2.36\n",
      "step=2; loss=2.30\n",
      "step=3; loss=2.21\n",
      "step=4; loss=2.11\n",
      "step=5; loss=1.98\n",
      "step=6; loss=1.85\n",
      "step=7; loss=1.72\n",
      "step=8; loss=1.58\n",
      "step=9; loss=1.46\n"
     ]
    }
   ],
   "source": [
    "# compute loss for 10 iterations\n",
    "for i in range(10):\n",
    "    loss = quad_mae(abc)\n",
    "    loss.backward()\n",
    "    with torch.no_grad():\n",
    "      abc -= abc.grad*0.01\n",
    "    print(f'step={i}; loss={loss:.2f}')"
   ]
  },
  {
   "cell_type": "markdown",
   "metadata": {},
   "source": [
    "### Neural Network"
   ]
  },
  {
   "cell_type": "markdown",
   "metadata": {},
   "source": [
    "- Neural Networks can approximate any computable function given enough parameters\n",
    "- A comptuable function covers any type of problem\n",
    "- Neural Networks approximate a function using the following steps:\n",
    "1. Matrix multiplication - multiply things together and add them up\n",
    "2. The function max(x, 0) which replaces all negative numbers with 0\n"
   ]
  },
  {
   "cell_type": "code",
   "execution_count": 108,
   "metadata": {
    "id": "Zg931lVZn3IY"
   },
   "outputs": [],
   "source": [
    "# - f(x) = max(x, 0) is represented as torch.clip(x, 0)\n",
    "def rectified_linear(m, b, x):\n",
    "  y = m*x + b\n",
    "  return torch.clip(y, 0)"
   ]
  },
  {
   "cell_type": "code",
   "execution_count": 109,
   "metadata": {
    "colab": {
     "base_uri": "https://localhost:8080/",
     "height": 389
    },
    "id": "BC2gm6SDn3LR",
    "outputId": "15d0eb21-ff7a-4158-8019-081d1ba59e45"
   },
   "outputs": [
    {
     "data": {
      "image/png": "[encoded data removed]",
      "text/plain": [
       "<Figure size 576x432 with 1 Axes>"
      ]
     },
     "metadata": {},
     "output_type": "display_data"
    }
   ],
   "source": [
    "# plot rectified linear\n",
    "plot_function(partial(rectified_linear, 1,1))"
   ]
  },
  {
   "cell_type": "code",
   "execution_count": 110,
   "metadata": {
    "colab": {
     "base_uri": "https://localhost:8080/",
     "height": 389
    },
    "id": "sJkHeVySn3OW",
    "outputId": "2674a7c8-cf1c-4486-9020-27315a86d8e6"
   },
   "outputs": [
    {
     "data": {
      "image/png": "[encoded data removed]",
      "text/plain": [
       "<Figure size 576x432 with 1 Axes>"
      ]
     },
     "metadata": {},
     "output_type": "display_data"
    }
   ],
   "source": [
    "# plot rectified linear using pytorch RELU function\n",
    "import torch.nn.functional as F\n",
    "\n",
    "def rectified_linear2(m,b,x):\n",
    "  return F.relu(m*x+b)\n",
    "\n",
    "plot_function(partial(rectified_linear2, 1,1))"
   ]
  },
  {
   "cell_type": "code",
   "execution_count": 111,
   "metadata": {
    "colab": {
     "base_uri": "https://localhost:8080/",
     "height": 458,
     "referenced_widgets": [
      "000344183aa54c66821b955f91eb9ee9",
      "c6db6c2d8e114697baa240410789cd4c",
      "e4a17e58165145218c36af7bd8c8438c",
      "2f5acc794abd458eb52f57489eac9af4",
      "eed8e27e707f41f4b725e2bbb120e45a",
      "3f475c234a0442e89f0d4242307160b9",
      "e4eebe82ff64426aadc25272112082f3",
      "a554e5fbcaaa412b89c1eaf0246917fd",
      "ec387ec2bf1f47d5a40c2f05c66c274a",
      "16b954f90c0644b7b79afe433eda5880"
     ]
    },
    "id": "nui4bqAkn3Q3",
    "outputId": "eca2bd81-647f-444f-fc9c-83ec7747bc4a"
   },
   "outputs": [
    {
     "data": {
      "application/vnd.jupyter.widget-view+json": {
       "model_id": "000344183aa54c66821b955f91eb9ee9",
       "version_major": 2,
       "version_minor": 0
      },
      "text/plain": [
       "interactive(children=(FloatSlider(value=1.5, description='m', max=4.5, min=-1.5), FloatSlider(value=1.5, descr…"
      ]
     },
     "metadata": {},
     "output_type": "display_data"
    },
    {
     "data": {
      "image/png": "[encoded data removed]",
      "text/plain": [
       "<Figure size 576x432 with 1 Axes>"
      ]
     },
     "metadata": {},
     "output_type": "display_data"
    }
   ],
   "source": [
    "# interactive relu\n",
    "@interact(m=1.5, b=1.5)\n",
    "def plot_relu(m, b):\n",
    "    plot_function(partial(rectified_linear, m,b), ylim=(-1,4))"
   ]
  },
  {
   "cell_type": "code",
   "execution_count": 112,
   "metadata": {
    "colab": {
     "base_uri": "https://localhost:8080/",
     "height": 522,
     "referenced_widgets": [
      "f9a42efdeb764e11a0ecfcf2508691c4",
      "86f04952b9454b03b47db3ccaed07e98",
      "30f2857833e84825b17ed306113ed5d5",
      "bcba9b9e496949e4b9a959c3f49a5218",
      "fa14cf19a5eb454fa893273466131a6b",
      "1c4c5e9935bb4cfe9ddb8585bf464bf7",
      "193c634221a341d6a4111feba519db7a",
      "7a7657a501fc42af81ce9f0c2a2a8f1d",
      "85f2722c40134f3bb380a27991f44d84",
      "9d64bb95e9ec487c9fadf0f76f30d925",
      "fcea3c1b2fc54b2ab1091c86b735272a",
      "887a9867906d4ae58aba0aa8826c917f",
      "c301fe0bf9ba42f69b4f8e696e3e2680",
      "6a028e737a8c4c3b9be2082d15788d95",
      "2b7a4360b70f418cb39c09844380aa62",
      "9dedea52d5a8470bb063337e975b3060"
     ]
    },
    "id": "E03wI9FUn3T_",
    "outputId": "2a1b96ad-a38e-4c8c-c808-2148362ce045"
   },
   "outputs": [
    {
     "data": {
      "application/vnd.jupyter.widget-view+json": {
       "model_id": "f9a42efdeb764e11a0ecfcf2508691c4",
       "version_major": 2,
       "version_minor": 0
      },
      "text/plain": [
       "interactive(children=(FloatSlider(value=-1.5, description='m1', max=1.5, min=-4.5), FloatSlider(value=-1.5, de…"
      ]
     },
     "metadata": {},
     "output_type": "display_data"
    },
    {
     "data": {
      "image/png": "[encoded data removed]",
      "text/plain": [
       "<Figure size 576x432 with 1 Axes>"
      ]
     },
     "metadata": {},
     "output_type": "display_data"
    }
   ],
   "source": [
    "# Combine RELUs\n",
    "def double_relu(m1,b1,m2,b2,x):\n",
    "    return rectified_linear(m1,b1,x) + rectified_linear(m2,b2,x)\n",
    "\n",
    "@interact(m1=-1.5, b1=-1.5, m2=1.5, b2=1.5)\n",
    "def plot_double_relu(m1, b1, m2, b2):\n",
    "    plot_function(partial(double_relu, m1,b1,m2,b2), ylim=(-1,6))"
   ]
  },
  {
   "cell_type": "markdown",
   "metadata": {
    "id": "BgwvLah7ogz7"
   },
   "source": [
    "## Stochastic Gradient Descent"
   ]
  },
  {
   "cell_type": "markdown",
   "metadata": {
    "id": "WYwT5pzPohV1"
   },
   "source": [
    "In the **Pixel Similarity** approach from above, we don't have a way for the model to learn and improve its accuracy. Instead of trying to compare an image with an ideal image, we can use **Stochastic Gradient Descent (SGD)** to look at each individual pixel and come up with a set of weights with large weights associated with pixels that are the most black for a particular label (ie. digit in MNIST data) using Arthur Samuel's definition of machine learning"
   ]
  },
  {
   "cell_type": "markdown",
   "metadata": {
    "id": "EHPAtRLIohq1"
   },
   "source": [
    "### Stochastic Gradient Descent Steps for an Image Classifier\n",
    "1. initialize weights\n",
    "2. Calculate Predictions\n",
    "3. Based on the predictions, calculate how good the model is (its loss)\n",
    "4. Calculate the gradient which measures for each weight, how changing that weight would change the loss\n",
    "5. Step (change) all the weights based on Step 4\n",
    "6. Go back to Step 2 and repeat the process\n",
    "7. Iterate until you decide to stop the training process until you decide the model is good enough for your problem"
   ]
  },
  {
   "cell_type": "markdown",
   "metadata": {
    "id": "Ti0TOp3r4ktS"
   },
   "source": [
    "The problem below is an example from the FastAI Book simulating a roller coaster and trying to find a function that best fits the data to understand how speed changes over time. There has been some discussion on the FastAI discord and forums about the loss value being too high (see [Chapter 4 SGD Discussion](https://forums.fast.ai/t/04-mnist-basics-some-questions-about-sgd/85431)) because of the data not being centered similar to the way Jeremy centered the Titantic data in Lesson 5. The book examples are slightly older and different from how the 2022 FastAI course is running so I'd recommend going over the course notebook examples first and then checking the relevant book chapters mentioned."
   ]
  },
  {
   "cell_type": "code",
   "execution_count": 113,
   "metadata": {
    "colab": {
     "base_uri": "https://localhost:8080/",
     "height": 1000
    },
    "id": "iaiCFk5j_KSo",
    "outputId": "2584ffb4-9d85-456b-a32e-2fd44583869d"
   },
   "outputs": [
    {
     "name": "stdout",
     "output_type": "stream",
     "text": [
      "The parameter values after initialization: tensor([ 1.3558, -2.8016, -0.5138], requires_grad=True)\n",
      "The original parameters: tensor([ 1.3558, -2.8016, -0.5138], grad_fn=<CloneBackward0>)\n",
      "Loss value: 31279.806640625\n",
      "Gradient values for each argument: tensor([58635.1250,  3711.7488,   228.4950])\n",
      "Test a new gradient with a learning rate of 1e^-5: tensor([0.5864, 0.0371, 0.0023])\n",
      "Parameter values after computing the gradient: tensor([ 1.3558, -2.8016, -0.5138], requires_grad=True)\n",
      "Loss Value: 6512.2529296875\n",
      "Loss Value: 1825.4468994140625\n",
      "Loss Value: 938.5320434570312\n",
      "Loss Value: 770.6725463867188\n",
      "Loss Value: 738.8804321289062\n",
      "Loss Value: 732.8363037109375\n",
      "Loss Value: 731.66455078125\n",
      "Loss Value: 731.414794921875\n",
      "Loss Value: 731.3395385742188\n",
      "Loss Value: 731.2973022460938\n"
     ]
    },
    {
     "data": {
      "image/png": "[encoded data removed]",
      "text/plain": [
       "<Figure size 576x432 with 1 Axes>"
      ]
     },
     "metadata": {},
     "output_type": "display_data"
    },
    {
     "data": {
      "image/png": "[encoded data removed]",
      "text/plain": [
       "<Figure size 576x432 with 1 Axes>"
      ]
     },
     "metadata": {},
     "output_type": "display_data"
    },
    {
     "data": {
      "image/png": "[encoded data removed]",
      "text/plain": [
       "<Figure size 576x432 with 1 Axes>"
      ]
     },
     "metadata": {},
     "output_type": "display_data"
    },
    {
     "data": {
      "image/png": "[encoded data removed]",
      "text/plain": [
       "<Figure size 1080x270 with 4 Axes>"
      ]
     },
     "metadata": {},
     "output_type": "display_data"
    }
   ],
   "source": [
    "# Roller Coaster Problem with Stochastic Gradient Descent\n",
    "# generate data\n",
    "time = torch.arange(0,20).float()\n",
    "speed = torch.randn(20) * 3 + 0.75 * (time - 9.5)**2 + 1\n",
    "plt.scatter(time,speed)\n",
    "\n",
    "# use SGD to find a function that fits the data for the rollercoaster data\n",
    "# t - the time when we are measuring the rollercoaster speed\n",
    "# params - the values that define which quadratic we're trying\n",
    "def f(t, params):\n",
    "    a,b,c = params\n",
    "    return a * (t**2) + (b * t) + c\n",
    "\n",
    "# Define a loss function - returns a value based on a prediction and a target\n",
    "# where lower values of the functions correspond to better predictions. Need\n",
    "#  loss function to return lower values when predictions are more accurate, as\n",
    "#  SGD is trying to minimize this loss. For continuous data, Mean Square Error is\n",
    "#  frequently used\n",
    "def mse(preds, targets):\n",
    "  return ((preds-targets)**2).mean()\n",
    "\n",
    "# SGD Process\n",
    "# function for visualizing how close our predictions are to targets\n",
    "def show_preds(preds, ax=None):\n",
    "    if ax is None: ax=plt.subplots()[1]\n",
    "    ax.scatter(time, speed)\n",
    "    ax.scatter(time, to_np(preds), color='red')\n",
    "    ax.set_ylim(-300,100)\n",
    "\n",
    "# 1. initialize weights\n",
    "params = torch.randn(3).requires_grad_()\n",
    "print(f\"The parameter values after initialization: {params}\")\n",
    "orig_params = params.clone()\n",
    "print(f\"The original parameters: {orig_params}\")\n",
    "\n",
    "# 2. Calculate Predictions\n",
    "preds = f(time, params)\n",
    "show_preds(preds)\n",
    "\n",
    "# 3. Based on the predictions, calculate how good the model is (its loss)\n",
    "loss = mse(preds, speed)\n",
    "print(f\"Loss value: {loss}\")\n",
    "\n",
    "# 4. Calculate the gradient which measures for each weight, how changing that weight would change the loss\n",
    "loss.backward()\n",
    "print(f\"Gradient values for each argument: {params.grad}\")\n",
    "# Calculate approximation of how parameters need to change\n",
    "print(f\"Test a new gradient with a learning rate of 1e^-5: {params.grad * 1e-5}\")\n",
    "print(f\"Parameter values after computing the gradient: {params}\")\n",
    "\n",
    "# 5. Step (change) all the weights based on Step 4\n",
    "learning_rate = 1e-5\n",
    "params.data -= learning_rate * params.grad.data\n",
    "params.grad = None\n",
    "# Check if loss has improved\n",
    "preds = f(time, params)\n",
    "mse(preds, speed)\n",
    "show_preds(preds)\n",
    "\n",
    "# 6. Go back to Step 2 and repeat the process\n",
    "def apply_step(params, prn=True):\n",
    "    preds = f(time, params)\n",
    "    loss = mse(preds, speed)\n",
    "    loss.backward()\n",
    "    params.data -= learning_rate * params.grad.data\n",
    "    params.grad = None\n",
    "    if prn:\n",
    "      print(f\"Loss Value: {loss.item()}\")\n",
    "    return preds\n",
    "\n",
    "for i in range(10):\n",
    "  apply_step(params)\n",
    "params = orig_params.detach().requires_grad_()\n",
    "\n",
    "# 7. Iterate until you decide to stop the training process until you decide the model is good enough for your problem\n",
    "_,axs = plt.subplots(1,4,figsize=(12,3))\n",
    "for ax in axs: show_preds(apply_step(params, False), ax)\n",
    "plt.tight_layout()"
   ]
  },
  {
   "cell_type": "markdown",
   "metadata": {
    "id": "8YAQFDae_sMb"
   },
   "source": [
    "## Building the MNIST Image Classifier"
   ]
  },
  {
   "cell_type": "markdown",
   "metadata": {
    "id": "jai_69X_4ktT"
   },
   "source": [
    "### Training Dataset"
   ]
  },
  {
   "cell_type": "code",
   "execution_count": 114,
   "metadata": {
    "colab": {
     "base_uri": "https://localhost:8080/"
    },
    "id": "JmZEeUzPRyCX",
    "outputId": "8c26d04f-43b7-4935-d87f-13b471ec9cfd"
   },
   "outputs": [
    {
     "name": "stdout",
     "output_type": "stream",
     "text": [
      "train_x data shape: torch.Size([12396, 784])\n",
      "train_x data tensor rank: 2\n",
      "train_y data shape: torch.Size([12396, 1])\n",
      "train_y data tensor rank: 2\n"
     ]
    }
   ],
   "source": [
    "# Build Training Dataset\n",
    "# -1 view function -> make this axis as big as necessary to fit all the data\n",
    "train_x = torch.cat([stacked_threes, stacked_sevens]).view(-1, 28*28)\n",
    "train_y = tensor([1]*len(threes) + [0]*len(sevens)).unsqueeze(1)\n",
    "\n",
    "print(f\"train_x data shape: {train_x.shape}\")\n",
    "print(f\"train_x data tensor rank: {len(train_x.shape)}\")\n",
    "print(f\"train_y data shape: {train_y.shape}\")\n",
    "print(f\"train_y data tensor rank: {len(train_y.shape)}\")"
   ]
  },
  {
   "cell_type": "markdown",
   "metadata": {
    "id": "OcXPNERI4ktT"
   },
   "source": [
    "### Validation Dataset"
   ]
  },
  {
   "cell_type": "code",
   "execution_count": 115,
   "metadata": {
    "colab": {
     "base_uri": "https://localhost:8080/"
    },
    "id": "XnaftbOgS-QS",
    "outputId": "496b863c-85e1-4a08-9500-705a358a48f9"
   },
   "outputs": [
    {
     "name": "stdout",
     "output_type": "stream",
     "text": [
      "valid_x data shape: torch.Size([2038, 784])\n",
      "valid_x data tensor rank: 2\n",
      "valid_y data shape: torch.Size([2038, 1])\n",
      "valid_y data tensor rank: 2\n"
     ]
    }
   ],
   "source": [
    "# Build Validation Dataset\n",
    "valid_x = torch.cat([valid_3_tens, valid_7_tens]).view(-1, 28*28)\n",
    "valid_y = tensor([1]*len(valid_3_tens) + [0]*len(valid_7_tens)).unsqueeze(1)\n",
    "print(f\"valid_x data shape: {valid_x.shape}\")\n",
    "print(f\"valid_x data tensor rank: {len(valid_x.shape)}\")\n",
    "print(f\"valid_y data shape: {valid_y.shape}\")\n",
    "print(f\"valid_y data tensor rank: {len(valid_y.shape)}\")"
   ]
  },
  {
   "cell_type": "code",
   "execution_count": 116,
   "metadata": {
    "colab": {
     "base_uri": "https://localhost:8080/"
    },
    "id": "jkFpNnQGR8Sz",
    "outputId": "d51e0c65-fe56-412b-bbd2-1bb8cd4a4a73"
   },
   "outputs": [
    {
     "name": "stdout",
     "output_type": "stream",
     "text": [
      "datset x shape: torch.Size([784])\n",
      "dataset x tensor rank: 1\n",
      "datset y shape: torch.Size([1])\n",
      "dataset y tensor rank: 1\n"
     ]
    }
   ],
   "source": [
    "# Build a Dataset object(training data) for PyTorch\n",
    "# Dataset is required to return a tuple of (x, y) when indexed\n",
    "dset = list(zip(train_x,train_y))\n",
    "x,y = dset[0]\n",
    "print(f\"datset x shape: {x.shape}\")\n",
    "print(f\"dataset x tensor rank: {len(x.shape)}\")\n",
    "print(f\"datset y shape: {y.shape}\")\n",
    "print(f\"dataset y tensor rank: {len(y.shape)}\")"
   ]
  },
  {
   "cell_type": "code",
   "execution_count": 117,
   "metadata": {
    "id": "qpnztYSYS13x"
   },
   "outputs": [],
   "source": [
    "# Build a Dataset object(validation data) for PyTorch\n",
    "# Dataset is required to return a tuple of (x, y) when indexed\n",
    "valid_dset = list(zip(valid_x,valid_y))"
   ]
  },
  {
   "cell_type": "markdown",
   "metadata": {
    "id": "AK57z8kS4ktU"
   },
   "source": [
    "### Initialize Model Weights"
   ]
  },
  {
   "cell_type": "code",
   "execution_count": 118,
   "metadata": {
    "id": "N_q_IuQ8Td66"
   },
   "outputs": [],
   "source": [
    "# Initialize model weights\n",
    "def init_params(size, std=1.0):\n",
    "  return (torch.randn(size)*std).requires_grad_()\n",
    "\n",
    "weights = init_params((28 * 28,1))\n",
    "\n",
    "# Initialize a Bias Value\n",
    "# need a bias to ensure its not 0 when the pixels are 0\n",
    "bias = init_params(1)"
   ]
  },
  {
   "cell_type": "code",
   "execution_count": 119,
   "metadata": {
    "colab": {
     "base_uri": "https://localhost:8080/"
    },
    "id": "Wh1K9a15Tt3u",
    "outputId": "32707d59-7fe7-4e74-c04e-fc1e11355f1f"
   },
   "outputs": [
    {
     "name": "stdout",
     "output_type": "stream",
     "text": [
      "Prediction for a single image from training data: tensor([-8.8691], grad_fn=<AddBackward0>)\n"
     ]
    }
   ],
   "source": [
    "# Calculate a prediction for one image\n",
    "print(f\"Prediction for a single image from training data: {(train_x[0]*weights.T).sum() + bias}\")"
   ]
  },
  {
   "cell_type": "markdown",
   "metadata": {
    "id": "nszHM7S04ktV"
   },
   "source": [
    "### Linear Classifier"
   ]
  },
  {
   "cell_type": "code",
   "execution_count": 120,
   "metadata": {
    "colab": {
     "base_uri": "https://localhost:8080/"
    },
    "id": "NcAb_EymUHd-",
    "outputId": "198a37a1-2782-4f77-d4c2-76e201a083ad"
   },
   "outputs": [
    {
     "name": "stdout",
     "output_type": "stream",
     "text": [
      "Predictions\n",
      "tensor([[ -8.8691],\n",
      "        [-15.5004],\n",
      "        [-11.7157],\n",
      "        ...,\n",
      "        [-12.3695],\n",
      "        [-17.3231],\n",
      "        [ -0.2207]], grad_fn=<AddBackward0>)\n",
      "Prediction shape: torch.Size([12396, 1])\n",
      "Prediction tensor rank: 2\n"
     ]
    }
   ],
   "source": [
    "# Matrix Multiplication\n",
    "#  Create a linear combination for the prediction values\n",
    "# compute predictions for all the images in the training data\n",
    "def linear1(xb):\n",
    "  return xb@weights + bias\n",
    "preds = linear1(train_x)\n",
    "print(f\"Predictions\")\n",
    "print(preds)\n",
    "print(f\"Prediction shape: {preds.shape}\")\n",
    "print(f\"Prediction tensor rank: {len(preds.shape)}\")"
   ]
  },
  {
   "cell_type": "code",
   "execution_count": 121,
   "metadata": {
    "colab": {
     "base_uri": "https://localhost:8080/"
    },
    "id": "lxaohpD_W2h5",
    "outputId": "376c1a32-99e2-4cdb-b9ca-600c598a3645"
   },
   "outputs": [
    {
     "name": "stdout",
     "output_type": "stream",
     "text": [
      "Accuracy of Predictions: tensor([[False],\n",
      "        [False],\n",
      "        [False],\n",
      "        ...,\n",
      "        [ True],\n",
      "        [ True],\n",
      "        [ True]])\n",
      "Average accuracy of all predictions: 0.5041949152946472\n"
     ]
    }
   ],
   "source": [
    "# Check accuracy of prediction\n",
    "corrects = (preds>0.0).float() == train_y\n",
    "print(f\"Accuracy of Predictions: {corrects}\")\n",
    "print(f\"Average accuracy of all predictions: {corrects.float().mean().item()}\")"
   ]
  },
  {
   "cell_type": "code",
   "execution_count": 122,
   "metadata": {
    "colab": {
     "base_uri": "https://localhost:8080/"
    },
    "id": "iE9nSsR7XGeq",
    "outputId": "8ab1526a-bfa3-4c43-ae59-244a98dd0e0f"
   },
   "outputs": [
    {
     "name": "stdout",
     "output_type": "stream",
     "text": [
      "Average accuracy after updating the weights: 0.5041949152946472\n"
     ]
    }
   ],
   "source": [
    "# Improve Accuracy\n",
    "# test to see if we can improve accuracy with a small change\n",
    "with torch.no_grad():\n",
    "  weights[0] *= 1.0001\n",
    "preds = linear1(train_x)\n",
    "print(f\"Average accuracy after updating the weights: {((preds>0.0).float() == train_y).float().mean().item()}\")\n",
    "\n",
    "# there is no change because the change in weights is so small that (y_new - y_old) is very close to 0 ie.\n",
    "# the gradient is almost 0 everywhere\n",
    "\n",
    "# need to find a loss function which when our weights result in slightly better predictions produces a slightly better loss"
   ]
  },
  {
   "cell_type": "markdown",
   "metadata": {
    "id": "XkEqczhb4ktV"
   },
   "source": [
    "### Loss Function"
   ]
  },
  {
   "cell_type": "code",
   "execution_count": 123,
   "metadata": {
    "colab": {
     "base_uri": "https://localhost:8080/"
    },
    "id": "d4KvYbp3X6EJ",
    "outputId": "57557122-da05-42d1-c5a2-5636d2e973a8"
   },
   "outputs": [
    {
     "name": "stdout",
     "output_type": "stream",
     "text": [
      "Test loss function: 0.43333330750465393\n",
      "Test loss function with sigmoid: 0.44596806168556213\n"
     ]
    }
   ],
   "source": [
    "# Build a Loss Function\n",
    "# loss function receive predictions from the model about the images\n",
    "# the purpose of the loss function is to measure the difference between predicted values and true values ie the labels\n",
    "trgts  = tensor([1,0,1])\n",
    "prds   = tensor([0.9, 0.4, 0.2])\n",
    "\n",
    "# first attempt at a loss function\n",
    "def mnist_loss(predictions, targets):\n",
    "  # measures how distant each predictions is from 1 if it should be 1, how distant it is from 0 if it should be 0\n",
    "  # and takes the mean of all the distances\n",
    "    return torch.where(targets==1, 1-predictions, predictions).mean()\n",
    "\n",
    "# need a scalar for the final loss -> the lower the loss value the better\n",
    "# indicates accurate predictions are more confident and when inaccurate predictions are less confident\n",
    "print(f\"Test loss function: {mnist_loss(prds,trgts)}\")\n",
    "\n",
    "# issue with this loss function is that it assumes all predictions are between 0 and 1\n",
    "# sigmoid function always outputs a number between 0 and 1\n",
    "def sigmoid(x):\n",
    "  return 1/(1+torch.exp(-x))\n",
    "\n",
    "# second attempt at a loss function using sigmoid\n",
    "def mnist_loss_sigmoid(predictions, targets):\n",
    "    predictions = predictions.sigmoid()\n",
    "    return torch.where(targets==1, 1-predictions, predictions).mean()\n",
    "\n",
    "print(f\"Test loss function with sigmoid: {mnist_loss_sigmoid(prds,trgts)}\")\n"
   ]
  },
  {
   "cell_type": "markdown",
   "metadata": {
    "id": "MIcnd3Jr4ktW"
   },
   "source": [
    "### SGD + Mini Batches"
   ]
  },
  {
   "cell_type": "code",
   "execution_count": 124,
   "metadata": {
    "colab": {
     "base_uri": "https://localhost:8080/"
    },
    "id": "2myZoxp3ZO7D",
    "outputId": "f6054dba-8c62-4042-bba9-b0eb61bb983a"
   },
   "outputs": [
    {
     "name": "stdout",
     "output_type": "stream",
     "text": [
      "Example of randomly generated mini-batch of batch size 5: [tensor([4, 6, 5, 7, 2]), tensor([ 1, 12,  8, 14, 11]), tensor([13,  9, 10,  0,  3])]\n"
     ]
    }
   ],
   "source": [
    "# SGD + Mini Batches\n",
    "# Optimization Step - updating the weights based on gradients\n",
    "# need to calculate loss over one or more data items\n",
    "# Solution: Calculate the average loss for a data items at a time (mini-batch)\n",
    "# Batch Size - number of items in mini batch\n",
    "\n",
    "# use fastai to build a dataloader object to shuffle data\n",
    "# randomly shuffle data on every epoch before creating mini batches\n",
    "coll = range(15)\n",
    "dl = DataLoader(coll, batch_size=5, shuffle=True)\n",
    "print(f\"Example of randomly generated mini-batch of batch size 5: {list(dl)}\")"
   ]
  },
  {
   "cell_type": "markdown",
   "metadata": {
    "id": "nFp3oV8z4ktW"
   },
   "source": [
    "### MNIST Model Training Loop using SGD"
   ]
  },
  {
   "cell_type": "code",
   "execution_count": 125,
   "metadata": {
    "colab": {
     "base_uri": "https://localhost:8080/"
    },
    "id": "ujMBVwY3cKEW",
    "outputId": "2291029d-9571-426a-dcd9-5a026816e6a3"
   },
   "outputs": [
    {
     "name": "stdout",
     "output_type": "stream",
     "text": [
      "xb shape: torch.Size([256, 784])\n",
      "xb tensor rank: 2\n",
      "yb shape: torch.Size([256, 1])\n",
      "yb tensor rank: 2\n",
      "batch shape: torch.Size([4, 784])\n",
      "batch tensor rank: 2\n",
      "Test calculating gradients: None\n",
      "Average of weight gradients: -0.15112045407295227\n",
      "bias gradient: tensor([-1.])\n",
      "Testing batch accuracy: 0.0\n",
      "Test validation epoch: 0.2825\n",
      "check if accuracy has improved from earlier: 0.9484\n",
      "0.9533 0.9543 0.9538 0.9528 0.9533 0.9533 0.9528 0.9533 0.9533 0.9533 0.9533 0.9533 0.9533 0.9533 0.9533 0.9538 0.9538 0.9538 0.9538 0.9538 "
     ]
    }
   ],
   "source": [
    "# Build a training loop for a model\n",
    "# Initialize weights and bias randomly\n",
    "weights = init_params((28*28,1))\n",
    "bias = init_params(1)\n",
    "\n",
    "# Create DataLoader for the training data\n",
    "dl = DataLoader(dset, batch_size=256)\n",
    "xb,yb = first(dl)\n",
    "print(f\"xb shape: {xb.shape}\")\n",
    "print(f\"xb tensor rank: {len(xb.shape)}\")\n",
    "print(f\"yb shape: {yb.shape}\")\n",
    "print(f\"yb tensor rank: {len(yb.shape)}\")\n",
    "\n",
    "# Create DataLoader for the validation data\n",
    "valid_dl = DataLoader(valid_dset, batch_size=256)\n",
    "\n",
    "# Create a Mini-Batch of batch size 4 for testing\n",
    "batch = train_x[:4]\n",
    "print(f\"batch shape: {batch.shape}\")\n",
    "print(f\"batch tensor rank: {len(batch.shape)}\")\n",
    "\n",
    "# Create Predictions\n",
    "# preds = linear1(batch)\n",
    "# print(f\"predictions: {preds}\")\n",
    "\n",
    "# Measure loss\n",
    "# loss = mnist_loss_sigmoid(preds, train_y[:4])\n",
    "# print(f\"Loss: {loss}\")\n",
    "\n",
    "# Compute Gradients\n",
    "# loss.backward()\n",
    "# print(f\"weights gradient shape: {weights.grad.shape}\")\n",
    "# print(f\"Average of weight gradients: {weights.grad.mean()}\")\n",
    "# print(f\"bias gradient: {bias.grad}\")\n",
    "\n",
    "# function for calculating gradient\n",
    "def calc_grad(xb, yb, model):\n",
    "    preds = model(xb)\n",
    "    loss = mnist_loss(preds, yb)\n",
    "    loss.backward()\n",
    "\n",
    "print(f\"Test calculating gradients: {calc_grad(batch, train_y[:4], linear1)}\")\n",
    "print(f\"Average of weight gradients: {weights.grad.mean()}\")\n",
    "print(f\"bias gradient: {bias.grad}\")\n",
    "\n",
    "# loss.backward adds the gradients of loss to any gradients that are currently stored\n",
    "# so have to set the current gradients to 0 first\n",
    "\n",
    "# training loop for an epoch\n",
    "def train_epoch(model, lr, params):\n",
    "    for xb,yb in dl:\n",
    "        calc_grad(xb, yb, model)\n",
    "        for p in params:\n",
    "            p.data -= p.grad*lr\n",
    "            p.grad.zero_()\n",
    "\n",
    "# check accuracy at this point\n",
    "# print(f\"Check Accuracy at this point: {(preds>0.0).float() == train_y[:4]}\")\n",
    "\n",
    "# function for calculating validation accuracy\n",
    "def batch_accuracy(xb, yb):\n",
    "    preds = xb.sigmoid()\n",
    "    correct = (preds>0.5) == yb\n",
    "    return correct.float().mean()\n",
    "\n",
    "print(f\"Testing batch accuracy: {batch_accuracy(linear1(batch), train_y[:4])}\")\n",
    "\n",
    "# put batches together to create a validation epoch\n",
    "def validate_epoch(model):\n",
    "    accs = [batch_accuracy(model(xb), yb) for xb,yb in valid_dl]\n",
    "    return round(torch.stack(accs).mean().item(), 4)\n",
    "\n",
    "print(f\"Test validation epoch: {validate_epoch(linear1)}\")\n",
    "\n",
    "# train for 1 epoch and see if things improve\n",
    "lr = 1.\n",
    "params = weights, bias\n",
    "train_epoch(linear1, lr, params)\n",
    "print(f\"check if accuracy has improved from earlier: {validate_epoch(linear1)}\")\n",
    "\n",
    "# train for a few epochs\n",
    "for i in range(20):\n",
    "    train_epoch(linear1, lr, params)\n",
    "    print(validate_epoch(linear1), end=' ')"
   ]
  },
  {
   "cell_type": "markdown",
   "metadata": {
    "id": "qroZIQvO4ktW"
   },
   "source": [
    "## PyTorch setup for SGD + Pytorch Optimizer"
   ]
  },
  {
   "cell_type": "code",
   "execution_count": 126,
   "metadata": {
    "colab": {
     "base_uri": "https://localhost:8080/"
    },
    "id": "UTRTK-HAhDhG",
    "outputId": "1ad22a15-fbb8-46aa-889c-e1c272164035"
   },
   "outputs": [
    {
     "name": "stdout",
     "output_type": "stream",
     "text": [
      "weights shape: torch.Size([1, 784])\n",
      "weight tensor rank: 2\n",
      "bias shape: torch.Size([1])\n",
      "bias tensor rank: 1\n"
     ]
    }
   ],
   "source": [
    "# Build SGD Functionality - PyTorch Optimizer\n",
    "\n",
    "# intialize weights and biases in a single pytorch class\n",
    "linear_model = nn.Linear(28 * 28,1)\n",
    "w,b = linear_model.parameters()\n",
    "print(f\"weights shape: {w.shape}\")\n",
    "print(f\"weight tensor rank: {len(w.shape)}\")\n",
    "print(f\"bias shape: {b.shape}\")\n",
    "print(f\"bias tensor rank: {len(b.shape)}\")\n",
    "\n",
    "# Pytorch Optimizer Setup\n",
    "class BasicOptim:\n",
    "    def __init__(self,params,lr): self.params,self.lr = list(params),lr\n",
    "\n",
    "    def step(self, *args, **kwargs):\n",
    "        for p in self.params: p.data -= p.grad.data * self.lr\n",
    "\n",
    "    def zero_grad(self, *args, **kwargs):\n",
    "        for p in self.params: p.grad = None"
   ]
  },
  {
   "cell_type": "code",
   "execution_count": 127,
   "metadata": {
    "colab": {
     "base_uri": "https://localhost:8080/"
    },
    "id": "MKFkZRvflb1p",
    "outputId": "bb6b9b16-21a7-4c32-fd6e-026c4c1f4704"
   },
   "outputs": [
    {
     "name": "stdout",
     "output_type": "stream",
     "text": [
      "Check accuracy after adding SGD: 0.4623\n",
      "0.9533 0.9533 0.9533 0.9533 0.9533 0.9533 0.9533 0.9533 0.9533 0.9533 0.9533 0.9533 0.9533 0.9533 0.9533 0.9533 0.9533 0.9533 0.9533 0.9533 Test training model: None\n"
     ]
    }
   ],
   "source": [
    "# define training epoch function that use SGD\n",
    "opt = BasicOptim(linear_model.parameters(), lr)\n",
    "\n",
    "def train_epoch(model):\n",
    "    for xb,yb in dl:\n",
    "        calc_grad(xb, yb, model)\n",
    "        opt.step()\n",
    "        opt.zero_grad()\n",
    "\n",
    "# check validation epoch\n",
    "print(f\"Check accuracy after adding SGD: {validate_epoch(linear_model)}\")\n",
    "\n",
    "# Update Model Training\n",
    "def train_model(model, epochs):\n",
    "    for i in range(epochs):\n",
    "        train_epoch(model)\n",
    "        print(validate_epoch(model), end=' ')\n",
    "\n",
    "print(f\"Test training model: {train_model(linear_model, 20)}\")"
   ]
  },
  {
   "cell_type": "markdown",
   "metadata": {
    "id": "VVPpcEwj4ktX"
   },
   "source": [
    "## Train MNIST Model using FastAI Library"
   ]
  },
  {
   "cell_type": "code",
   "execution_count": 128,
   "metadata": {
    "colab": {
     "base_uri": "https://localhost:8080/",
     "height": 363
    },
    "id": "OIIkeBPollvL",
    "outputId": "94fd730a-0e80-4d11-9ad7-9ca67e1ac283"
   },
   "outputs": [
    {
     "data": {
      "text/html": [
       "\n",
       "<style>\n",
       "    /* Turns off some styling */\n",
       "    progress {\n",
       "        /* gets rid of default border in Firefox and Opera. */\n",
       "        border: none;\n",
       "        /* Needs to be in here for Safari polyfill so background images work as expected. */\n",
       "        background-size: auto;\n",
       "    }\n",
       "    progress:not([value]), progress:not([value])::-webkit-progress-bar {\n",
       "        background: repeating-linear-gradient(45deg, #7e7e7e, #7e7e7e 10px, #5c5c5c 10px, #5c5c5c 20px);\n",
       "    }\n",
       "    .progress-bar-interrupted, .progress-bar-interrupted::-webkit-progress-bar {\n",
       "        background: #F44336;\n",
       "    }\n",
       "</style>\n"
      ],
      "text/plain": [
       "<IPython.core.display.HTML object>"
      ]
     },
     "metadata": {},
     "output_type": "display_data"
    },
    {
     "data": {
      "text/html": [
       "<table border=\"1\" class=\"dataframe\">\n",
       "  <thead>\n",
       "    <tr style=\"text-align: left;\">\n",
       "      <th>epoch</th>\n",
       "      <th>train_loss</th>\n",
       "      <th>valid_loss</th>\n",
       "      <th>batch_accuracy</th>\n",
       "      <th>time</th>\n",
       "    </tr>\n",
       "  </thead>\n",
       "  <tbody>\n",
       "    <tr>\n",
       "      <td>0</td>\n",
       "      <td>0.637107</td>\n",
       "      <td>0.503204</td>\n",
       "      <td>0.495584</td>\n",
       "      <td>00:00</td>\n",
       "    </tr>\n",
       "    <tr>\n",
       "      <td>1</td>\n",
       "      <td>0.442642</td>\n",
       "      <td>0.243648</td>\n",
       "      <td>0.783611</td>\n",
       "      <td>00:00</td>\n",
       "    </tr>\n",
       "    <tr>\n",
       "      <td>2</td>\n",
       "      <td>0.165686</td>\n",
       "      <td>0.164265</td>\n",
       "      <td>0.853778</td>\n",
       "      <td>00:00</td>\n",
       "    </tr>\n",
       "    <tr>\n",
       "      <td>3</td>\n",
       "      <td>0.074370</td>\n",
       "      <td>0.101180</td>\n",
       "      <td>0.915604</td>\n",
       "      <td>00:00</td>\n",
       "    </tr>\n",
       "    <tr>\n",
       "      <td>4</td>\n",
       "      <td>0.040661</td>\n",
       "      <td>0.075151</td>\n",
       "      <td>0.935231</td>\n",
       "      <td>00:00</td>\n",
       "    </tr>\n",
       "    <tr>\n",
       "      <td>5</td>\n",
       "      <td>0.027422</td>\n",
       "      <td>0.060723</td>\n",
       "      <td>0.948970</td>\n",
       "      <td>00:00</td>\n",
       "    </tr>\n",
       "    <tr>\n",
       "      <td>6</td>\n",
       "      <td>0.021923</td>\n",
       "      <td>0.051665</td>\n",
       "      <td>0.956330</td>\n",
       "      <td>00:00</td>\n",
       "    </tr>\n",
       "    <tr>\n",
       "      <td>7</td>\n",
       "      <td>0.019433</td>\n",
       "      <td>0.045617</td>\n",
       "      <td>0.962709</td>\n",
       "      <td>00:00</td>\n",
       "    </tr>\n",
       "    <tr>\n",
       "      <td>8</td>\n",
       "      <td>0.018136</td>\n",
       "      <td>0.041344</td>\n",
       "      <td>0.965653</td>\n",
       "      <td>00:00</td>\n",
       "    </tr>\n",
       "    <tr>\n",
       "      <td>9</td>\n",
       "      <td>0.017336</td>\n",
       "      <td>0.038176</td>\n",
       "      <td>0.967615</td>\n",
       "      <td>00:00</td>\n",
       "    </tr>\n",
       "  </tbody>\n",
       "</table>"
      ],
      "text/plain": [
       "<IPython.core.display.HTML object>"
      ]
     },
     "metadata": {},
     "output_type": "display_data"
    }
   ],
   "source": [
    "# Modify Model Training Code with FastAI\n",
    "\n",
    "# define model information that uses SGD\n",
    "# linear_model = nn.Linear(28 * 28,1)\n",
    "# opt = SGD(linear_model.parameters(), lr)\n",
    "# train_model(linear_model, 20)\n",
    "\n",
    "# Define new DataLoaders\n",
    "dls = DataLoaders(dl, valid_dl)\n",
    "\n",
    "# Define a general purpose Learner class\n",
    "learn = Learner(dls, nn.Linear(28*28,1), opt_func=SGD,\n",
    "                loss_func=mnist_loss_sigmoid, metrics=batch_accuracy)\n",
    "\n",
    "# Train Model with Learner.fit\n",
    "learn.fit(10, lr=lr)"
   ]
  },
  {
   "cell_type": "markdown",
   "metadata": {
    "id": "iGF_VhAgmNM-"
   },
   "source": [
    "## Neural Networks"
   ]
  },
  {
   "cell_type": "markdown",
   "metadata": {
    "id": "HosuvhzE4ktX"
   },
   "source": [
    "Linear classifiers are limited in what they can do. To handle more complex functions we need to add a nonlinear function between two linear classifiers. This is what defines a **neural network**."
   ]
  },
  {
   "cell_type": "code",
   "execution_count": 129,
   "metadata": {
    "id": "FHTUm8H7nBgS"
   },
   "outputs": [],
   "source": [
    "# define a simple neural network\n",
    "\n",
    "# randomly intialize weights and biases\n",
    "w1 = init_params((28 * 28,30))\n",
    "b1 = init_params(30)\n",
    "w2 = init_params((30,1))\n",
    "b2 = init_params(1)\n",
    "\n",
    "# def simple_net(xb):\n",
    "#     res = xb@w1 + b1\n",
    "#     # Rectified Linear Unit - RELU -> replaces every negative number with 0\n",
    "#     res = res.max(tensor(0.0))\n",
    "#     res = res@w2 + b2\n",
    "#     return res"
   ]
  },
  {
   "cell_type": "code",
   "execution_count": 130,
   "metadata": {
    "id": "N4w5_dzIoSRu"
   },
   "outputs": [],
   "source": [
    "# Pytorch version of a simple neural network\n",
    "simple_net = nn.Sequential(\n",
    "    nn.Linear(28 * 28,30),\n",
    "    nn.ReLU(),\n",
    "    nn.Linear(30,1)\n",
    ")"
   ]
  },
  {
   "cell_type": "code",
   "execution_count": 131,
   "metadata": {
    "colab": {
     "base_uri": "https://localhost:8080/",
     "height": 1000
    },
    "id": "6tJIW9eSqvUl",
    "outputId": "103ead15-b2ec-4cab-b317-2336bd95e3f4"
   },
   "outputs": [
    {
     "data": {
      "text/html": [
       "\n",
       "<style>\n",
       "    /* Turns off some styling */\n",
       "    progress {\n",
       "        /* gets rid of default border in Firefox and Opera. */\n",
       "        border: none;\n",
       "        /* Needs to be in here for Safari polyfill so background images work as expected. */\n",
       "        background-size: auto;\n",
       "    }\n",
       "    progress:not([value]), progress:not([value])::-webkit-progress-bar {\n",
       "        background: repeating-linear-gradient(45deg, #7e7e7e, #7e7e7e 10px, #5c5c5c 10px, #5c5c5c 20px);\n",
       "    }\n",
       "    .progress-bar-interrupted, .progress-bar-interrupted::-webkit-progress-bar {\n",
       "        background: #F44336;\n",
       "    }\n",
       "</style>\n"
      ],
      "text/plain": [
       "<IPython.core.display.HTML object>"
      ]
     },
     "metadata": {},
     "output_type": "display_data"
    },
    {
     "data": {
      "text/html": [
       "<table border=\"1\" class=\"dataframe\">\n",
       "  <thead>\n",
       "    <tr style=\"text-align: left;\">\n",
       "      <th>epoch</th>\n",
       "      <th>train_loss</th>\n",
       "      <th>valid_loss</th>\n",
       "      <th>batch_accuracy</th>\n",
       "      <th>time</th>\n",
       "    </tr>\n",
       "  </thead>\n",
       "  <tbody>\n",
       "    <tr>\n",
       "      <td>0</td>\n",
       "      <td>0.328221</td>\n",
       "      <td>0.406217</td>\n",
       "      <td>0.508341</td>\n",
       "      <td>00:00</td>\n",
       "    </tr>\n",
       "    <tr>\n",
       "      <td>1</td>\n",
       "      <td>0.149408</td>\n",
       "      <td>0.235759</td>\n",
       "      <td>0.797350</td>\n",
       "      <td>00:00</td>\n",
       "    </tr>\n",
       "    <tr>\n",
       "      <td>2</td>\n",
       "      <td>0.082235</td>\n",
       "      <td>0.118789</td>\n",
       "      <td>0.911678</td>\n",
       "      <td>00:00</td>\n",
       "    </tr>\n",
       "    <tr>\n",
       "      <td>3</td>\n",
       "      <td>0.053837</td>\n",
       "      <td>0.079781</td>\n",
       "      <td>0.939156</td>\n",
       "      <td>00:00</td>\n",
       "    </tr>\n",
       "    <tr>\n",
       "      <td>4</td>\n",
       "      <td>0.040731</td>\n",
       "      <td>0.061933</td>\n",
       "      <td>0.955348</td>\n",
       "      <td>00:00</td>\n",
       "    </tr>\n",
       "    <tr>\n",
       "      <td>5</td>\n",
       "      <td>0.034059</td>\n",
       "      <td>0.051913</td>\n",
       "      <td>0.962218</td>\n",
       "      <td>00:00</td>\n",
       "    </tr>\n",
       "    <tr>\n",
       "      <td>6</td>\n",
       "      <td>0.030231</td>\n",
       "      <td>0.045626</td>\n",
       "      <td>0.966143</td>\n",
       "      <td>00:00</td>\n",
       "    </tr>\n",
       "    <tr>\n",
       "      <td>7</td>\n",
       "      <td>0.027744</td>\n",
       "      <td>0.041346</td>\n",
       "      <td>0.967125</td>\n",
       "      <td>00:00</td>\n",
       "    </tr>\n",
       "    <tr>\n",
       "      <td>8</td>\n",
       "      <td>0.025948</td>\n",
       "      <td>0.038250</td>\n",
       "      <td>0.968106</td>\n",
       "      <td>00:00</td>\n",
       "    </tr>\n",
       "    <tr>\n",
       "      <td>9</td>\n",
       "      <td>0.024554</td>\n",
       "      <td>0.035887</td>\n",
       "      <td>0.970069</td>\n",
       "      <td>00:00</td>\n",
       "    </tr>\n",
       "    <tr>\n",
       "      <td>10</td>\n",
       "      <td>0.023423</td>\n",
       "      <td>0.034018</td>\n",
       "      <td>0.973013</td>\n",
       "      <td>00:00</td>\n",
       "    </tr>\n",
       "    <tr>\n",
       "      <td>11</td>\n",
       "      <td>0.022477</td>\n",
       "      <td>0.032491</td>\n",
       "      <td>0.973994</td>\n",
       "      <td>00:00</td>\n",
       "    </tr>\n",
       "    <tr>\n",
       "      <td>12</td>\n",
       "      <td>0.021670</td>\n",
       "      <td>0.031212</td>\n",
       "      <td>0.974485</td>\n",
       "      <td>00:00</td>\n",
       "    </tr>\n",
       "    <tr>\n",
       "      <td>13</td>\n",
       "      <td>0.020972</td>\n",
       "      <td>0.030119</td>\n",
       "      <td>0.974975</td>\n",
       "      <td>00:00</td>\n",
       "    </tr>\n",
       "    <tr>\n",
       "      <td>14</td>\n",
       "      <td>0.020360</td>\n",
       "      <td>0.029168</td>\n",
       "      <td>0.975466</td>\n",
       "      <td>00:00</td>\n",
       "    </tr>\n",
       "    <tr>\n",
       "      <td>15</td>\n",
       "      <td>0.019819</td>\n",
       "      <td>0.028330</td>\n",
       "      <td>0.975957</td>\n",
       "      <td>00:00</td>\n",
       "    </tr>\n",
       "    <tr>\n",
       "      <td>16</td>\n",
       "      <td>0.019334</td>\n",
       "      <td>0.027587</td>\n",
       "      <td>0.976938</td>\n",
       "      <td>00:00</td>\n",
       "    </tr>\n",
       "    <tr>\n",
       "      <td>17</td>\n",
       "      <td>0.018896</td>\n",
       "      <td>0.026921</td>\n",
       "      <td>0.977920</td>\n",
       "      <td>00:00</td>\n",
       "    </tr>\n",
       "    <tr>\n",
       "      <td>18</td>\n",
       "      <td>0.018499</td>\n",
       "      <td>0.026321</td>\n",
       "      <td>0.978410</td>\n",
       "      <td>00:00</td>\n",
       "    </tr>\n",
       "    <tr>\n",
       "      <td>19</td>\n",
       "      <td>0.018135</td>\n",
       "      <td>0.025777</td>\n",
       "      <td>0.978410</td>\n",
       "      <td>00:00</td>\n",
       "    </tr>\n",
       "    <tr>\n",
       "      <td>20</td>\n",
       "      <td>0.017801</td>\n",
       "      <td>0.025281</td>\n",
       "      <td>0.978410</td>\n",
       "      <td>00:00</td>\n",
       "    </tr>\n",
       "    <tr>\n",
       "      <td>21</td>\n",
       "      <td>0.017493</td>\n",
       "      <td>0.024828</td>\n",
       "      <td>0.978410</td>\n",
       "      <td>00:00</td>\n",
       "    </tr>\n",
       "    <tr>\n",
       "      <td>22</td>\n",
       "      <td>0.017206</td>\n",
       "      <td>0.024412</td>\n",
       "      <td>0.978901</td>\n",
       "      <td>00:00</td>\n",
       "    </tr>\n",
       "    <tr>\n",
       "      <td>23</td>\n",
       "      <td>0.016939</td>\n",
       "      <td>0.024028</td>\n",
       "      <td>0.979882</td>\n",
       "      <td>00:00</td>\n",
       "    </tr>\n",
       "    <tr>\n",
       "      <td>24</td>\n",
       "      <td>0.016689</td>\n",
       "      <td>0.023674</td>\n",
       "      <td>0.980864</td>\n",
       "      <td>00:00</td>\n",
       "    </tr>\n",
       "    <tr>\n",
       "      <td>25</td>\n",
       "      <td>0.016454</td>\n",
       "      <td>0.023345</td>\n",
       "      <td>0.981354</td>\n",
       "      <td>00:00</td>\n",
       "    </tr>\n",
       "    <tr>\n",
       "      <td>26</td>\n",
       "      <td>0.016232</td>\n",
       "      <td>0.023040</td>\n",
       "      <td>0.981354</td>\n",
       "      <td>00:00</td>\n",
       "    </tr>\n",
       "    <tr>\n",
       "      <td>27</td>\n",
       "      <td>0.016023</td>\n",
       "      <td>0.022755</td>\n",
       "      <td>0.981354</td>\n",
       "      <td>00:00</td>\n",
       "    </tr>\n",
       "    <tr>\n",
       "      <td>28</td>\n",
       "      <td>0.015825</td>\n",
       "      <td>0.022491</td>\n",
       "      <td>0.981845</td>\n",
       "      <td>00:00</td>\n",
       "    </tr>\n",
       "    <tr>\n",
       "      <td>29</td>\n",
       "      <td>0.015637</td>\n",
       "      <td>0.022243</td>\n",
       "      <td>0.982336</td>\n",
       "      <td>00:00</td>\n",
       "    </tr>\n",
       "    <tr>\n",
       "      <td>30</td>\n",
       "      <td>0.015459</td>\n",
       "      <td>0.022012</td>\n",
       "      <td>0.982336</td>\n",
       "      <td>00:00</td>\n",
       "    </tr>\n",
       "    <tr>\n",
       "      <td>31</td>\n",
       "      <td>0.015289</td>\n",
       "      <td>0.021795</td>\n",
       "      <td>0.982336</td>\n",
       "      <td>00:00</td>\n",
       "    </tr>\n",
       "    <tr>\n",
       "      <td>32</td>\n",
       "      <td>0.015127</td>\n",
       "      <td>0.021592</td>\n",
       "      <td>0.982336</td>\n",
       "      <td>00:00</td>\n",
       "    </tr>\n",
       "    <tr>\n",
       "      <td>33</td>\n",
       "      <td>0.014972</td>\n",
       "      <td>0.021401</td>\n",
       "      <td>0.982826</td>\n",
       "      <td>00:00</td>\n",
       "    </tr>\n",
       "    <tr>\n",
       "      <td>34</td>\n",
       "      <td>0.014823</td>\n",
       "      <td>0.021221</td>\n",
       "      <td>0.982826</td>\n",
       "      <td>00:00</td>\n",
       "    </tr>\n",
       "    <tr>\n",
       "      <td>35</td>\n",
       "      <td>0.014681</td>\n",
       "      <td>0.021052</td>\n",
       "      <td>0.982826</td>\n",
       "      <td>00:00</td>\n",
       "    </tr>\n",
       "    <tr>\n",
       "      <td>36</td>\n",
       "      <td>0.014544</td>\n",
       "      <td>0.020892</td>\n",
       "      <td>0.982826</td>\n",
       "      <td>00:00</td>\n",
       "    </tr>\n",
       "    <tr>\n",
       "      <td>37</td>\n",
       "      <td>0.014413</td>\n",
       "      <td>0.020741</td>\n",
       "      <td>0.982826</td>\n",
       "      <td>00:00</td>\n",
       "    </tr>\n",
       "    <tr>\n",
       "      <td>38</td>\n",
       "      <td>0.014286</td>\n",
       "      <td>0.020597</td>\n",
       "      <td>0.983317</td>\n",
       "      <td>00:00</td>\n",
       "    </tr>\n",
       "    <tr>\n",
       "      <td>39</td>\n",
       "      <td>0.014164</td>\n",
       "      <td>0.020461</td>\n",
       "      <td>0.983317</td>\n",
       "      <td>00:00</td>\n",
       "    </tr>\n",
       "  </tbody>\n",
       "</table>"
      ],
      "text/plain": [
       "<IPython.core.display.HTML object>"
      ]
     },
     "metadata": {},
     "output_type": "display_data"
    }
   ],
   "source": [
    "# Apply Simplenet to MNIST data\n",
    "learn = Learner(dls, simple_net, opt_func=SGD,\n",
    "                loss_func=mnist_loss_sigmoid, metrics=batch_accuracy)\n",
    "\n",
    "learn.fit(40, 0.1)"
   ]
  },
  {
   "cell_type": "code",
   "execution_count": 132,
   "metadata": {
    "colab": {
     "base_uri": "https://localhost:8080/",
     "height": 389
    },
    "id": "NnHkeprTq1I_",
    "outputId": "e027873a-ac92-49d9-e4b1-9154b4c5718c"
   },
   "outputs": [
    {
     "data": {
      "image/png": "[encoded data removed]",
      "text/plain": [
       "<Figure size 576x432 with 1 Axes>"
      ]
     },
     "metadata": {},
     "output_type": "display_data"
    }
   ],
   "source": [
    "# visualize the accuracy of model using simplenet\n",
    "# y axis - accuracy\n",
    "# x-axis number of epochs\n",
    "plt.plot(L(learn.recorder.values).itemgot(2));"
   ]
  },
  {
   "cell_type": "code",
   "execution_count": 133,
   "metadata": {
    "colab": {
     "base_uri": "https://localhost:8080/"
    },
    "id": "LZGaMSZtrLKk",
    "outputId": "99207481-1d58-4e4b-a95c-e34edf9a95f1"
   },
   "outputs": [
    {
     "name": "stdout",
     "output_type": "stream",
     "text": [
      "Final Accuracy of model on the MNIST dataset: 0.983316957950592\n"
     ]
    }
   ],
   "source": [
    "print(f\"Final Accuracy of model on the MNIST dataset: {learn.recorder.values[-1][2]}\")"
   ]
  },
  {
   "cell_type": "markdown",
   "metadata": {
    "id": "PkYsZVvf4ktZ"
   },
   "source": [
    "## Going Deeper into Deep Learning + Neural Networks"
   ]
  },
  {
   "cell_type": "markdown",
   "metadata": {
    "id": "u9HGCSEY4ktZ"
   },
   "source": [
    "The following code below is an 18 layer resnet model with nearly 100% accuracy on the MNIST data. The above code was a simple neural network with 2 layers so the results of resnet-18 on this data show that accuracy improves as we add more layers. One thing to consider are the trade off's mentioned by Jeremy in the lecture video"
   ]
  },
  {
   "cell_type": "code",
   "execution_count": 134,
   "metadata": {
    "colab": {
     "base_uri": "https://localhost:8080/",
     "height": 81
    },
    "id": "3-69d8ljrajo",
    "outputId": "36c5e2ee-b5b1-4dc2-a8c4-eeb25ddf5cfe"
   },
   "outputs": [
    {
     "data": {
      "text/html": [
       "\n",
       "<style>\n",
       "    /* Turns off some styling */\n",
       "    progress {\n",
       "        /* gets rid of default border in Firefox and Opera. */\n",
       "        border: none;\n",
       "        /* Needs to be in here for Safari polyfill so background images work as expected. */\n",
       "        background-size: auto;\n",
       "    }\n",
       "    progress:not([value]), progress:not([value])::-webkit-progress-bar {\n",
       "        background: repeating-linear-gradient(45deg, #7e7e7e, #7e7e7e 10px, #5c5c5c 10px, #5c5c5c 20px);\n",
       "    }\n",
       "    .progress-bar-interrupted, .progress-bar-interrupted::-webkit-progress-bar {\n",
       "        background: #F44336;\n",
       "    }\n",
       "</style>\n"
      ],
      "text/plain": [
       "<IPython.core.display.HTML object>"
      ]
     },
     "metadata": {},
     "output_type": "display_data"
    },
    {
     "data": {
      "text/html": [
       "<table border=\"1\" class=\"dataframe\">\n",
       "  <thead>\n",
       "    <tr style=\"text-align: left;\">\n",
       "      <th>epoch</th>\n",
       "      <th>train_loss</th>\n",
       "      <th>valid_loss</th>\n",
       "      <th>accuracy</th>\n",
       "      <th>time</th>\n",
       "    </tr>\n",
       "  </thead>\n",
       "  <tbody>\n",
       "    <tr>\n",
       "      <td>0</td>\n",
       "      <td>0.081687</td>\n",
       "      <td>0.015352</td>\n",
       "      <td>0.995584</td>\n",
       "      <td>00:18</td>\n",
       "    </tr>\n",
       "  </tbody>\n",
       "</table>"
      ],
      "text/plain": [
       "<IPython.core.display.HTML object>"
      ]
     },
     "metadata": {},
     "output_type": "display_data"
    }
   ],
   "source": [
    "# Going Deeper into Deep Learning + Neural Networks\n",
    "dls = ImageDataLoaders.from_folder(path)\n",
    "learn = vision_learner(dls, resnet18, pretrained=False,\n",
    "                    loss_func=F.cross_entropy, metrics=accuracy)\n",
    "learn.fit_one_cycle(1, 0.1)"
   ]
  },
  {
   "cell_type": "markdown",
   "metadata": {
    "id": "iiOLP_dC4ktZ"
   },
   "source": [
    "## Resources"
   ]
  },
  {
   "cell_type": "markdown",
   "metadata": {
    "id": "5SMgd7MY4ktZ"
   },
   "source": [
    "1. [FastAI Lesson 3](https://course.fast.ai/Lessons/lesson3.html)\n",
    "2. [FastAI Chapter 4](https://nbviewer.org/github/fastai/fastbook/blob/master/04_mnist_basics.ipynb)\n",
    "3. [How Does a Neural Net Really Work](https://www.kaggle.com/code/jhoward/how-does-a-neural-net-really-work)\n",
    "4. [Which Image Models are Best ](https://www.kaggle.com/code/jhoward/which-image-models-are-best/)\n",
    "5. [3Blue1Brown Neural Networks](https://youtu.be/aircAruvnKk?feature=shared)\n",
    "6. [Andrej Karpathy Neural Networks Zero to Hero](https://karpathy.ai/zero-to-hero.html)\n",
    "7. [Understanding Dimensions in PyTorch](https://towardsdatascience.com/understanding-dimensions-in-pytorch-6edf9972d3be)\n",
    "8. [Understanding Numpy Axis](https://medium.com/intuitionmath/numpy-sum-axis-intuition-6eb94926a5d1)\n",
    "9. [PyTorch docs](https://pytorch.org/docs/stable/index.html)\n",
    "10. [fast.ai docs](https://docs.fast.ai/)"
   ]
  }
 ],
 "metadata": {
  "accelerator": "GPU",
  "colab": {
   "gpuType": "T4",
   "provenance": []
  },
  "kernelspec": {
   "display_name": "Python 3 (ipykernel)",
   "language": "python",
   "name": "python3"
  },
  "language_info": {
   "codemirror_mode": {
    "name": "ipython",
    "version": 3
   },
   "file_extension": ".py",
   "mimetype": "text/x-python",
   "name": "python",
   "nbconvert_exporter": "python",
   "pygments_lexer": "ipython3",
   "version": "3.10.12"
  },
  "widgets": {
   "application/vnd.jupyter.widget-state+json": {
    "000344183aa54c66821b955f91eb9ee9": {
     "model_module": "@jupyter-widgets/controls",
     "model_module_version": "1.5.0",
     "model_name": "VBoxModel",
     "state": {
      "_dom_classes": [
       "widget-interact"
      ],
      "_model_module": "@jupyter-widgets/controls",
      "_model_module_version": "1.5.0",
      "_model_name": "VBoxModel",
      "_view_count": null,
      "_view_module": "@jupyter-widgets/controls",
      "_view_module_version": "1.5.0",
      "_view_name": "VBoxView",
      "box_style": "",
      "children": [
       "IPY_MODEL_c6db6c2d8e114697baa240410789cd4c",
       "IPY_MODEL_e4a17e58165145218c36af7bd8c8438c",
       "IPY_MODEL_2f5acc794abd458eb52f57489eac9af4"
      ],
      "layout": "IPY_MODEL_eed8e27e707f41f4b725e2bbb120e45a"
     }
    },
    "013db424046b4012a7a59eb5556adb25": {
     "model_module": "@jupyter-widgets/base",
     "model_module_version": "1.2.0",
     "model_name": "LayoutModel",
     "state": {
      "_model_module": "@jupyter-widgets/base",
      "_model_module_version": "1.2.0",
      "_model_name": "LayoutModel",
      "_view_count": null,
      "_view_module": "@jupyter-widgets/base",
      "_view_module_version": "1.2.0",
      "_view_name": "LayoutView",
      "align_content": null,
      "align_items": null,
      "align_self": null,
      "border": null,
      "bottom": null,
      "display": null,
      "flex": null,
      "flex_flow": null,
      "grid_area": null,
      "grid_auto_columns": null,
      "grid_auto_flow": null,
      "grid_auto_rows": null,
      "grid_column": null,
      "grid_gap": null,
      "grid_row": null,
      "grid_template_areas": null,
      "grid_template_columns": null,
      "grid_template_rows": null,
      "height": null,
      "justify_content": null,
      "justify_items": null,
      "left": null,
      "margin": null,
      "max_height": null,
      "max_width": null,
      "min_height": null,
      "min_width": null,
      "object_fit": null,
      "object_position": null,
      "order": null,
      "overflow": null,
      "overflow_x": null,
      "overflow_y": null,
      "padding": null,
      "right": null,
      "top": null,
      "visibility": null,
      "width": null
     }
    },
    "01789bb787ed49c5b8bfe7cf876ba5a9": {
     "model_module": "@jupyter-widgets/controls",
     "model_module_version": "1.5.0",
     "model_name": "SliderStyleModel",
     "state": {
      "_model_module": "@jupyter-widgets/controls",
      "_model_module_version": "1.5.0",
      "_model_name": "SliderStyleModel",
      "_view_count": null,
      "_view_module": "@jupyter-widgets/base",
      "_view_module_version": "1.2.0",
      "_view_name": "StyleView",
      "description_width": "",
      "handle_color": null
     }
    },
    "0355db405246411d949b0a1167ca64d2": {
     "model_module": "@jupyter-widgets/base",
     "model_module_version": "1.2.0",
     "model_name": "LayoutModel",
     "state": {
      "_model_module": "@jupyter-widgets/base",
      "_model_module_version": "1.2.0",
      "_model_name": "LayoutModel",
      "_view_count": null,
      "_view_module": "@jupyter-widgets/base",
      "_view_module_version": "1.2.0",
      "_view_name": "LayoutView",
      "align_content": null,
      "align_items": null,
      "align_self": null,
      "border": null,
      "bottom": null,
      "display": null,
      "flex": null,
      "flex_flow": null,
      "grid_area": null,
      "grid_auto_columns": null,
      "grid_auto_flow": null,
      "grid_auto_rows": null,
      "grid_column": null,
      "grid_gap": null,
      "grid_row": null,
      "grid_template_areas": null,
      "grid_template_columns": null,
      "grid_template_rows": null,
      "height": null,
      "justify_content": null,
      "justify_items": null,
      "left": null,
      "margin": null,
      "max_height": null,
      "max_width": null,
      "min_height": null,
      "min_width": null,
      "object_fit": null,
      "object_position": null,
      "order": null,
      "overflow": null,
      "overflow_x": null,
      "overflow_y": null,
      "padding": null,
      "right": null,
      "top": null,
      "visibility": null,
      "width": null
     }
    },
    "0e7bd0cff2a044b1925dc883f454d9f8": {
     "model_module": "@jupyter-widgets/base",
     "model_module_version": "1.2.0",
     "model_name": "LayoutModel",
     "state": {
      "_model_module": "@jupyter-widgets/base",
      "_model_module_version": "1.2.0",
      "_model_name": "LayoutModel",
      "_view_count": null,
      "_view_module": "@jupyter-widgets/base",
      "_view_module_version": "1.2.0",
      "_view_name": "LayoutView",
      "align_content": null,
      "align_items": null,
      "align_self": null,
      "border": null,
      "bottom": null,
      "display": null,
      "flex": null,
      "flex_flow": null,
      "grid_area": null,
      "grid_auto_columns": null,
      "grid_auto_flow": null,
      "grid_auto_rows": null,
      "grid_column": null,
      "grid_gap": null,
      "grid_row": null,
      "grid_template_areas": null,
      "grid_template_columns": null,
      "grid_template_rows": null,
      "height": null,
      "justify_content": null,
      "justify_items": null,
      "left": null,
      "margin": null,
      "max_height": null,
      "max_width": null,
      "min_height": null,
      "min_width": null,
      "object_fit": null,
      "object_position": null,
      "order": null,
      "overflow": null,
      "overflow_x": null,
      "overflow_y": null,
      "padding": null,
      "right": null,
      "top": null,
      "visibility": null,
      "width": null
     }
    },
    "1252e2c0d0794a66bcbc4af46b5123d9": {
     "model_module": "@jupyter-widgets/controls",
     "model_module_version": "1.5.0",
     "model_name": "FloatSliderModel",
     "state": {
      "_dom_classes": [],
      "_model_module": "@jupyter-widgets/controls",
      "_model_module_version": "1.5.0",
      "_model_name": "FloatSliderModel",
      "_view_count": null,
      "_view_module": "@jupyter-widgets/controls",
      "_view_module_version": "1.5.0",
      "_view_name": "FloatSliderView",
      "continuous_update": true,
      "description": "c",
      "description_tooltip": null,
      "disabled": false,
      "layout": "IPY_MODEL_9e3529750872415ba10d27d3f660c920",
      "max": 3.3000000000000003,
      "min": -1.1,
      "orientation": "horizontal",
      "readout": true,
      "readout_format": ".2f",
      "step": 0.1,
      "style": "IPY_MODEL_6083cd4ffe4f451d9b8446e67f7cbcb6",
      "value": 1.1
     }
    },
    "16b954f90c0644b7b79afe433eda5880": {
     "model_module": "@jupyter-widgets/base",
     "model_module_version": "1.2.0",
     "model_name": "LayoutModel",
     "state": {
      "_model_module": "@jupyter-widgets/base",
      "_model_module_version": "1.2.0",
      "_model_name": "LayoutModel",
      "_view_count": null,
      "_view_module": "@jupyter-widgets/base",
      "_view_module_version": "1.2.0",
      "_view_name": "LayoutView",
      "align_content": null,
      "align_items": null,
      "align_self": null,
      "border": null,
      "bottom": null,
      "display": null,
      "flex": null,
      "flex_flow": null,
      "grid_area": null,
      "grid_auto_columns": null,
      "grid_auto_flow": null,
      "grid_auto_rows": null,
      "grid_column": null,
      "grid_gap": null,
      "grid_row": null,
      "grid_template_areas": null,
      "grid_template_columns": null,
      "grid_template_rows": null,
      "height": null,
      "justify_content": null,
      "justify_items": null,
      "left": null,
      "margin": null,
      "max_height": null,
      "max_width": null,
      "min_height": null,
      "min_width": null,
      "object_fit": null,
      "object_position": null,
      "order": null,
      "overflow": null,
      "overflow_x": null,
      "overflow_y": null,
      "padding": null,
      "right": null,
      "top": null,
      "visibility": null,
      "width": null
     }
    },
    "193c634221a341d6a4111feba519db7a": {
     "model_module": "@jupyter-widgets/base",
     "model_module_version": "1.2.0",
     "model_name": "LayoutModel",
     "state": {
      "_model_module": "@jupyter-widgets/base",
      "_model_module_version": "1.2.0",
      "_model_name": "LayoutModel",
      "_view_count": null,
      "_view_module": "@jupyter-widgets/base",
      "_view_module_version": "1.2.0",
      "_view_name": "LayoutView",
      "align_content": null,
      "align_items": null,
      "align_self": null,
      "border": null,
      "bottom": null,
      "display": null,
      "flex": null,
      "flex_flow": null,
      "grid_area": null,
      "grid_auto_columns": null,
      "grid_auto_flow": null,
      "grid_auto_rows": null,
      "grid_column": null,
      "grid_gap": null,
      "grid_row": null,
      "grid_template_areas": null,
      "grid_template_columns": null,
      "grid_template_rows": null,
      "height": null,
      "justify_content": null,
      "justify_items": null,
      "left": null,
      "margin": null,
      "max_height": null,
      "max_width": null,
      "min_height": null,
      "min_width": null,
      "object_fit": null,
      "object_position": null,
      "order": null,
      "overflow": null,
      "overflow_x": null,
      "overflow_y": null,
      "padding": null,
      "right": null,
      "top": null,
      "visibility": null,
      "width": null
     }
    },
    "1c4c5e9935bb4cfe9ddb8585bf464bf7": {
     "model_module": "@jupyter-widgets/output",
     "model_module_version": "1.0.0",
     "model_name": "OutputModel",
     "state": {
      "_dom_classes": [],
      "_model_module": "@jupyter-widgets/output",
      "_model_module_version": "1.0.0",
      "_model_name": "OutputModel",
      "_view_count": null,
      "_view_module": "@jupyter-widgets/output",
      "_view_module_version": "1.0.0",
      "_view_name": "OutputView",
      "layout": "IPY_MODEL_9dedea52d5a8470bb063337e975b3060",
      "msg_id": "",
      "outputs": []
     }
    },
    "23535e77851b4a8cbeb564acc6ba01a4": {
     "model_module": "@jupyter-widgets/controls",
     "model_module_version": "1.5.0",
     "model_name": "VBoxModel",
     "state": {
      "_dom_classes": [
       "widget-interact"
      ],
      "_model_module": "@jupyter-widgets/controls",
      "_model_module_version": "1.5.0",
      "_model_name": "VBoxModel",
      "_view_count": null,
      "_view_module": "@jupyter-widgets/controls",
      "_view_module_version": "1.5.0",
      "_view_name": "VBoxView",
      "box_style": "",
      "children": [
       "IPY_MODEL_4f72e5bf437d43eaa44cfb6fe7dfc79c",
       "IPY_MODEL_97f6029f53dd496a806574e4c7b922b3",
       "IPY_MODEL_48d5d53948b247569a742679dea7ed8c",
       "IPY_MODEL_34b6a7ccd4d142c891e305c3f440479e"
      ],
      "layout": "IPY_MODEL_0e7bd0cff2a044b1925dc883f454d9f8"
     }
    },
    "2b7a4360b70f418cb39c09844380aa62": {
     "model_module": "@jupyter-widgets/controls",
     "model_module_version": "1.5.0",
     "model_name": "SliderStyleModel",
     "state": {
      "_model_module": "@jupyter-widgets/controls",
      "_model_module_version": "1.5.0",
      "_model_name": "SliderStyleModel",
      "_view_count": null,
      "_view_module": "@jupyter-widgets/base",
      "_view_module_version": "1.2.0",
      "_view_name": "StyleView",
      "description_width": "",
      "handle_color": null
     }
    },
    "2f5acc794abd458eb52f57489eac9af4": {
     "model_module": "@jupyter-widgets/output",
     "model_module_version": "1.0.0",
     "model_name": "OutputModel",
     "state": {
      "_dom_classes": [],
      "_model_module": "@jupyter-widgets/output",
      "_model_module_version": "1.0.0",
      "_model_name": "OutputModel",
      "_view_count": null,
      "_view_module": "@jupyter-widgets/output",
      "_view_module_version": "1.0.0",
      "_view_name": "OutputView",
      "layout": "IPY_MODEL_16b954f90c0644b7b79afe433eda5880",
      "msg_id": "",
      "outputs": []
     }
    },
    "30f2857833e84825b17ed306113ed5d5": {
     "model_module": "@jupyter-widgets/controls",
     "model_module_version": "1.5.0",
     "model_name": "FloatSliderModel",
     "state": {
      "_dom_classes": [],
      "_model_module": "@jupyter-widgets/controls",
      "_model_module_version": "1.5.0",
      "_model_name": "FloatSliderModel",
      "_view_count": null,
      "_view_module": "@jupyter-widgets/controls",
      "_view_module_version": "1.5.0",
      "_view_name": "FloatSliderView",
      "continuous_update": true,
      "description": "b1",
      "description_tooltip": null,
      "disabled": false,
      "layout": "IPY_MODEL_9d64bb95e9ec487c9fadf0f76f30d925",
      "max": 1.5,
      "min": -4.5,
      "orientation": "horizontal",
      "readout": true,
      "readout_format": ".2f",
      "step": 0.1,
      "style": "IPY_MODEL_fcea3c1b2fc54b2ab1091c86b735272a",
      "value": -1.5
     }
    },
    "31e501d8714d4f35842a384004525307": {
     "model_module": "@jupyter-widgets/controls",
     "model_module_version": "1.5.0",
     "model_name": "SliderStyleModel",
     "state": {
      "_model_module": "@jupyter-widgets/controls",
      "_model_module_version": "1.5.0",
      "_model_name": "SliderStyleModel",
      "_view_count": null,
      "_view_module": "@jupyter-widgets/base",
      "_view_module_version": "1.2.0",
      "_view_name": "StyleView",
      "description_width": "",
      "handle_color": null
     }
    },
    "34b6a7ccd4d142c891e305c3f440479e": {
     "model_module": "@jupyter-widgets/output",
     "model_module_version": "1.0.0",
     "model_name": "OutputModel",
     "state": {
      "_dom_classes": [],
      "_model_module": "@jupyter-widgets/output",
      "_model_module_version": "1.0.0",
      "_model_name": "OutputModel",
      "_view_count": null,
      "_view_module": "@jupyter-widgets/output",
      "_view_module_version": "1.0.0",
      "_view_name": "OutputView",
      "layout": "IPY_MODEL_f954b1bd19b14b3591c2129a54e515ad",
      "msg_id": "",
      "outputs": []
     }
    },
    "3bc24b996db14ed29a0d6f6a860b3844": {
     "model_module": "@jupyter-widgets/controls",
     "model_module_version": "1.5.0",
     "model_name": "SliderStyleModel",
     "state": {
      "_model_module": "@jupyter-widgets/controls",
      "_model_module_version": "1.5.0",
      "_model_name": "SliderStyleModel",
      "_view_count": null,
      "_view_module": "@jupyter-widgets/base",
      "_view_module_version": "1.2.0",
      "_view_name": "StyleView",
      "description_width": "",
      "handle_color": null
     }
    },
    "3f475c234a0442e89f0d4242307160b9": {
     "model_module": "@jupyter-widgets/base",
     "model_module_version": "1.2.0",
     "model_name": "LayoutModel",
     "state": {
      "_model_module": "@jupyter-widgets/base",
      "_model_module_version": "1.2.0",
      "_model_name": "LayoutModel",
      "_view_count": null,
      "_view_module": "@jupyter-widgets/base",
      "_view_module_version": "1.2.0",
      "_view_name": "LayoutView",
      "align_content": null,
      "align_items": null,
      "align_self": null,
      "border": null,
      "bottom": null,
      "display": null,
      "flex": null,
      "flex_flow": null,
      "grid_area": null,
      "grid_auto_columns": null,
      "grid_auto_flow": null,
      "grid_auto_rows": null,
      "grid_column": null,
      "grid_gap": null,
      "grid_row": null,
      "grid_template_areas": null,
      "grid_template_columns": null,
      "grid_template_rows": null,
      "height": null,
      "justify_content": null,
      "justify_items": null,
      "left": null,
      "margin": null,
      "max_height": null,
      "max_width": null,
      "min_height": null,
      "min_width": null,
      "object_fit": null,
      "object_position": null,
      "order": null,
      "overflow": null,
      "overflow_x": null,
      "overflow_y": null,
      "padding": null,
      "right": null,
      "top": null,
      "visibility": null,
      "width": null
     }
    },
    "4138287d50184b6b81c796a13dfe6705": {
     "model_module": "@jupyter-widgets/controls",
     "model_module_version": "1.5.0",
     "model_name": "FloatSliderModel",
     "state": {
      "_dom_classes": [],
      "_model_module": "@jupyter-widgets/controls",
      "_model_module_version": "1.5.0",
      "_model_name": "FloatSliderModel",
      "_view_count": null,
      "_view_module": "@jupyter-widgets/controls",
      "_view_module_version": "1.5.0",
      "_view_name": "FloatSliderView",
      "continuous_update": true,
      "description": "a",
      "description_tooltip": null,
      "disabled": false,
      "layout": "IPY_MODEL_faec5e52914c41189707d871e8e859e4",
      "max": 3.3000000000000003,
      "min": -1.1,
      "orientation": "horizontal",
      "readout": true,
      "readout_format": ".2f",
      "step": 0.1,
      "style": "IPY_MODEL_9ff9c09a41a543499d826f24efa5be95",
      "value": 1.1
     }
    },
    "48d5d53948b247569a742679dea7ed8c": {
     "model_module": "@jupyter-widgets/controls",
     "model_module_version": "1.5.0",
     "model_name": "FloatSliderModel",
     "state": {
      "_dom_classes": [],
      "_model_module": "@jupyter-widgets/controls",
      "_model_module_version": "1.5.0",
      "_model_name": "FloatSliderModel",
      "_view_count": null,
      "_view_module": "@jupyter-widgets/controls",
      "_view_module_version": "1.5.0",
      "_view_name": "FloatSliderView",
      "continuous_update": true,
      "description": "c",
      "description_tooltip": null,
      "disabled": false,
      "layout": "IPY_MODEL_0355db405246411d949b0a1167ca64d2",
      "max": 3.3000000000000003,
      "min": -1.1,
      "orientation": "horizontal",
      "readout": true,
      "readout_format": ".2f",
      "step": 0.1,
      "style": "IPY_MODEL_d34e5dc8eb694fc4afb9338881eb57c7",
      "value": 1.1
     }
    },
    "4f72e5bf437d43eaa44cfb6fe7dfc79c": {
     "model_module": "@jupyter-widgets/controls",
     "model_module_version": "1.5.0",
     "model_name": "FloatSliderModel",
     "state": {
      "_dom_classes": [],
      "_model_module": "@jupyter-widgets/controls",
      "_model_module_version": "1.5.0",
      "_model_name": "FloatSliderModel",
      "_view_count": null,
      "_view_module": "@jupyter-widgets/controls",
      "_view_module_version": "1.5.0",
      "_view_name": "FloatSliderView",
      "continuous_update": true,
      "description": "a",
      "description_tooltip": null,
      "disabled": false,
      "layout": "IPY_MODEL_013db424046b4012a7a59eb5556adb25",
      "max": 3.3000000000000003,
      "min": -1.1,
      "orientation": "horizontal",
      "readout": true,
      "readout_format": ".2f",
      "step": 0.1,
      "style": "IPY_MODEL_31e501d8714d4f35842a384004525307",
      "value": 1.1
     }
    },
    "6083cd4ffe4f451d9b8446e67f7cbcb6": {
     "model_module": "@jupyter-widgets/controls",
     "model_module_version": "1.5.0",
     "model_name": "SliderStyleModel",
     "state": {
      "_model_module": "@jupyter-widgets/controls",
      "_model_module_version": "1.5.0",
      "_model_name": "SliderStyleModel",
      "_view_count": null,
      "_view_module": "@jupyter-widgets/base",
      "_view_module_version": "1.2.0",
      "_view_name": "StyleView",
      "description_width": "",
      "handle_color": null
     }
    },
    "6a028e737a8c4c3b9be2082d15788d95": {
     "model_module": "@jupyter-widgets/base",
     "model_module_version": "1.2.0",
     "model_name": "LayoutModel",
     "state": {
      "_model_module": "@jupyter-widgets/base",
      "_model_module_version": "1.2.0",
      "_model_name": "LayoutModel",
      "_view_count": null,
      "_view_module": "@jupyter-widgets/base",
      "_view_module_version": "1.2.0",
      "_view_name": "LayoutView",
      "align_content": null,
      "align_items": null,
      "align_self": null,
      "border": null,
      "bottom": null,
      "display": null,
      "flex": null,
      "flex_flow": null,
      "grid_area": null,
      "grid_auto_columns": null,
      "grid_auto_flow": null,
      "grid_auto_rows": null,
      "grid_column": null,
      "grid_gap": null,
      "grid_row": null,
      "grid_template_areas": null,
      "grid_template_columns": null,
      "grid_template_rows": null,
      "height": null,
      "justify_content": null,
      "justify_items": null,
      "left": null,
      "margin": null,
      "max_height": null,
      "max_width": null,
      "min_height": null,
      "min_width": null,
      "object_fit": null,
      "object_position": null,
      "order": null,
      "overflow": null,
      "overflow_x": null,
      "overflow_y": null,
      "padding": null,
      "right": null,
      "top": null,
      "visibility": null,
      "width": null
     }
    },
    "6f12123f9342459a9a7e2913a9228592": {
     "model_module": "@jupyter-widgets/base",
     "model_module_version": "1.2.0",
     "model_name": "LayoutModel",
     "state": {
      "_model_module": "@jupyter-widgets/base",
      "_model_module_version": "1.2.0",
      "_model_name": "LayoutModel",
      "_view_count": null,
      "_view_module": "@jupyter-widgets/base",
      "_view_module_version": "1.2.0",
      "_view_name": "LayoutView",
      "align_content": null,
      "align_items": null,
      "align_self": null,
      "border": null,
      "bottom": null,
      "display": null,
      "flex": null,
      "flex_flow": null,
      "grid_area": null,
      "grid_auto_columns": null,
      "grid_auto_flow": null,
      "grid_auto_rows": null,
      "grid_column": null,
      "grid_gap": null,
      "grid_row": null,
      "grid_template_areas": null,
      "grid_template_columns": null,
      "grid_template_rows": null,
      "height": null,
      "justify_content": null,
      "justify_items": null,
      "left": null,
      "margin": null,
      "max_height": null,
      "max_width": null,
      "min_height": null,
      "min_width": null,
      "object_fit": null,
      "object_position": null,
      "order": null,
      "overflow": null,
      "overflow_x": null,
      "overflow_y": null,
      "padding": null,
      "right": null,
      "top": null,
      "visibility": null,
      "width": null
     }
    },
    "7a7657a501fc42af81ce9f0c2a2a8f1d": {
     "model_module": "@jupyter-widgets/base",
     "model_module_version": "1.2.0",
     "model_name": "LayoutModel",
     "state": {
      "_model_module": "@jupyter-widgets/base",
      "_model_module_version": "1.2.0",
      "_model_name": "LayoutModel",
      "_view_count": null,
      "_view_module": "@jupyter-widgets/base",
      "_view_module_version": "1.2.0",
      "_view_name": "LayoutView",
      "align_content": null,
      "align_items": null,
      "align_self": null,
      "border": null,
      "bottom": null,
      "display": null,
      "flex": null,
      "flex_flow": null,
      "grid_area": null,
      "grid_auto_columns": null,
      "grid_auto_flow": null,
      "grid_auto_rows": null,
      "grid_column": null,
      "grid_gap": null,
      "grid_row": null,
      "grid_template_areas": null,
      "grid_template_columns": null,
      "grid_template_rows": null,
      "height": null,
      "justify_content": null,
      "justify_items": null,
      "left": null,
      "margin": null,
      "max_height": null,
      "max_width": null,
      "min_height": null,
      "min_width": null,
      "object_fit": null,
      "object_position": null,
      "order": null,
      "overflow": null,
      "overflow_x": null,
      "overflow_y": null,
      "padding": null,
      "right": null,
      "top": null,
      "visibility": null,
      "width": null
     }
    },
    "85f2722c40134f3bb380a27991f44d84": {
     "model_module": "@jupyter-widgets/controls",
     "model_module_version": "1.5.0",
     "model_name": "SliderStyleModel",
     "state": {
      "_model_module": "@jupyter-widgets/controls",
      "_model_module_version": "1.5.0",
      "_model_name": "SliderStyleModel",
      "_view_count": null,
      "_view_module": "@jupyter-widgets/base",
      "_view_module_version": "1.2.0",
      "_view_name": "StyleView",
      "description_width": "",
      "handle_color": null
     }
    },
    "86f04952b9454b03b47db3ccaed07e98": {
     "model_module": "@jupyter-widgets/controls",
     "model_module_version": "1.5.0",
     "model_name": "FloatSliderModel",
     "state": {
      "_dom_classes": [],
      "_model_module": "@jupyter-widgets/controls",
      "_model_module_version": "1.5.0",
      "_model_name": "FloatSliderModel",
      "_view_count": null,
      "_view_module": "@jupyter-widgets/controls",
      "_view_module_version": "1.5.0",
      "_view_name": "FloatSliderView",
      "continuous_update": true,
      "description": "m1",
      "description_tooltip": null,
      "disabled": false,
      "layout": "IPY_MODEL_7a7657a501fc42af81ce9f0c2a2a8f1d",
      "max": 1.5,
      "min": -4.5,
      "orientation": "horizontal",
      "readout": true,
      "readout_format": ".2f",
      "step": 0.1,
      "style": "IPY_MODEL_85f2722c40134f3bb380a27991f44d84",
      "value": -1.5
     }
    },
    "887a9867906d4ae58aba0aa8826c917f": {
     "model_module": "@jupyter-widgets/base",
     "model_module_version": "1.2.0",
     "model_name": "LayoutModel",
     "state": {
      "_model_module": "@jupyter-widgets/base",
      "_model_module_version": "1.2.0",
      "_model_name": "LayoutModel",
      "_view_count": null,
      "_view_module": "@jupyter-widgets/base",
      "_view_module_version": "1.2.0",
      "_view_name": "LayoutView",
      "align_content": null,
      "align_items": null,
      "align_self": null,
      "border": null,
      "bottom": null,
      "display": null,
      "flex": null,
      "flex_flow": null,
      "grid_area": null,
      "grid_auto_columns": null,
      "grid_auto_flow": null,
      "grid_auto_rows": null,
      "grid_column": null,
      "grid_gap": null,
      "grid_row": null,
      "grid_template_areas": null,
      "grid_template_columns": null,
      "grid_template_rows": null,
      "height": null,
      "justify_content": null,
      "justify_items": null,
      "left": null,
      "margin": null,
      "max_height": null,
      "max_width": null,
      "min_height": null,
      "min_width": null,
      "object_fit": null,
      "object_position": null,
      "order": null,
      "overflow": null,
      "overflow_x": null,
      "overflow_y": null,
      "padding": null,
      "right": null,
      "top": null,
      "visibility": null,
      "width": null
     }
    },
    "950bb74fa1c0451286913ccd6eca32be": {
     "model_module": "@jupyter-widgets/controls",
     "model_module_version": "1.5.0",
     "model_name": "FloatSliderModel",
     "state": {
      "_dom_classes": [],
      "_model_module": "@jupyter-widgets/controls",
      "_model_module_version": "1.5.0",
      "_model_name": "FloatSliderModel",
      "_view_count": null,
      "_view_module": "@jupyter-widgets/controls",
      "_view_module_version": "1.5.0",
      "_view_name": "FloatSliderView",
      "continuous_update": true,
      "description": "b",
      "description_tooltip": null,
      "disabled": false,
      "layout": "IPY_MODEL_6f12123f9342459a9a7e2913a9228592",
      "max": 3.3000000000000003,
      "min": -1.1,
      "orientation": "horizontal",
      "readout": true,
      "readout_format": ".2f",
      "step": 0.1,
      "style": "IPY_MODEL_3bc24b996db14ed29a0d6f6a860b3844",
      "value": 1.1
     }
    },
    "97f6029f53dd496a806574e4c7b922b3": {
     "model_module": "@jupyter-widgets/controls",
     "model_module_version": "1.5.0",
     "model_name": "FloatSliderModel",
     "state": {
      "_dom_classes": [],
      "_model_module": "@jupyter-widgets/controls",
      "_model_module_version": "1.5.0",
      "_model_name": "FloatSliderModel",
      "_view_count": null,
      "_view_module": "@jupyter-widgets/controls",
      "_view_module_version": "1.5.0",
      "_view_name": "FloatSliderView",
      "continuous_update": true,
      "description": "b",
      "description_tooltip": null,
      "disabled": false,
      "layout": "IPY_MODEL_b32a7c0d3ffe43d4a45e2150f59925ca",
      "max": 3.3000000000000003,
      "min": -1.1,
      "orientation": "horizontal",
      "readout": true,
      "readout_format": ".2f",
      "step": 0.1,
      "style": "IPY_MODEL_01789bb787ed49c5b8bfe7cf876ba5a9",
      "value": 1.1
     }
    },
    "9d64bb95e9ec487c9fadf0f76f30d925": {
     "model_module": "@jupyter-widgets/base",
     "model_module_version": "1.2.0",
     "model_name": "LayoutModel",
     "state": {
      "_model_module": "@jupyter-widgets/base",
      "_model_module_version": "1.2.0",
      "_model_name": "LayoutModel",
      "_view_count": null,
      "_view_module": "@jupyter-widgets/base",
      "_view_module_version": "1.2.0",
      "_view_name": "LayoutView",
      "align_content": null,
      "align_items": null,
      "align_self": null,
      "border": null,
      "bottom": null,
      "display": null,
      "flex": null,
      "flex_flow": null,
      "grid_area": null,
      "grid_auto_columns": null,
      "grid_auto_flow": null,
      "grid_auto_rows": null,
      "grid_column": null,
      "grid_gap": null,
      "grid_row": null,
      "grid_template_areas": null,
      "grid_template_columns": null,
      "grid_template_rows": null,
      "height": null,
      "justify_content": null,
      "justify_items": null,
      "left": null,
      "margin": null,
      "max_height": null,
      "max_width": null,
      "min_height": null,
      "min_width": null,
      "object_fit": null,
      "object_position": null,
      "order": null,
      "overflow": null,
      "overflow_x": null,
      "overflow_y": null,
      "padding": null,
      "right": null,
      "top": null,
      "visibility": null,
      "width": null
     }
    },
    "9dedea52d5a8470bb063337e975b3060": {
     "model_module": "@jupyter-widgets/base",
     "model_module_version": "1.2.0",
     "model_name": "LayoutModel",
     "state": {
      "_model_module": "@jupyter-widgets/base",
      "_model_module_version": "1.2.0",
      "_model_name": "LayoutModel",
      "_view_count": null,
      "_view_module": "@jupyter-widgets/base",
      "_view_module_version": "1.2.0",
      "_view_name": "LayoutView",
      "align_content": null,
      "align_items": null,
      "align_self": null,
      "border": null,
      "bottom": null,
      "display": null,
      "flex": null,
      "flex_flow": null,
      "grid_area": null,
      "grid_auto_columns": null,
      "grid_auto_flow": null,
      "grid_auto_rows": null,
      "grid_column": null,
      "grid_gap": null,
      "grid_row": null,
      "grid_template_areas": null,
      "grid_template_columns": null,
      "grid_template_rows": null,
      "height": null,
      "justify_content": null,
      "justify_items": null,
      "left": null,
      "margin": null,
      "max_height": null,
      "max_width": null,
      "min_height": null,
      "min_width": null,
      "object_fit": null,
      "object_position": null,
      "order": null,
      "overflow": null,
      "overflow_x": null,
      "overflow_y": null,
      "padding": null,
      "right": null,
      "top": null,
      "visibility": null,
      "width": null
     }
    },
    "9e3529750872415ba10d27d3f660c920": {
     "model_module": "@jupyter-widgets/base",
     "model_module_version": "1.2.0",
     "model_name": "LayoutModel",
     "state": {
      "_model_module": "@jupyter-widgets/base",
      "_model_module_version": "1.2.0",
      "_model_name": "LayoutModel",
      "_view_count": null,
      "_view_module": "@jupyter-widgets/base",
      "_view_module_version": "1.2.0",
      "_view_name": "LayoutView",
      "align_content": null,
      "align_items": null,
      "align_self": null,
      "border": null,
      "bottom": null,
      "display": null,
      "flex": null,
      "flex_flow": null,
      "grid_area": null,
      "grid_auto_columns": null,
      "grid_auto_flow": null,
      "grid_auto_rows": null,
      "grid_column": null,
      "grid_gap": null,
      "grid_row": null,
      "grid_template_areas": null,
      "grid_template_columns": null,
      "grid_template_rows": null,
      "height": null,
      "justify_content": null,
      "justify_items": null,
      "left": null,
      "margin": null,
      "max_height": null,
      "max_width": null,
      "min_height": null,
      "min_width": null,
      "object_fit": null,
      "object_position": null,
      "order": null,
      "overflow": null,
      "overflow_x": null,
      "overflow_y": null,
      "padding": null,
      "right": null,
      "top": null,
      "visibility": null,
      "width": null
     }
    },
    "9ff9c09a41a543499d826f24efa5be95": {
     "model_module": "@jupyter-widgets/controls",
     "model_module_version": "1.5.0",
     "model_name": "SliderStyleModel",
     "state": {
      "_model_module": "@jupyter-widgets/controls",
      "_model_module_version": "1.5.0",
      "_model_name": "SliderStyleModel",
      "_view_count": null,
      "_view_module": "@jupyter-widgets/base",
      "_view_module_version": "1.2.0",
      "_view_name": "StyleView",
      "description_width": "",
      "handle_color": null
     }
    },
    "a554e5fbcaaa412b89c1eaf0246917fd": {
     "model_module": "@jupyter-widgets/base",
     "model_module_version": "1.2.0",
     "model_name": "LayoutModel",
     "state": {
      "_model_module": "@jupyter-widgets/base",
      "_model_module_version": "1.2.0",
      "_model_name": "LayoutModel",
      "_view_count": null,
      "_view_module": "@jupyter-widgets/base",
      "_view_module_version": "1.2.0",
      "_view_name": "LayoutView",
      "align_content": null,
      "align_items": null,
      "align_self": null,
      "border": null,
      "bottom": null,
      "display": null,
      "flex": null,
      "flex_flow": null,
      "grid_area": null,
      "grid_auto_columns": null,
      "grid_auto_flow": null,
      "grid_auto_rows": null,
      "grid_column": null,
      "grid_gap": null,
      "grid_row": null,
      "grid_template_areas": null,
      "grid_template_columns": null,
      "grid_template_rows": null,
      "height": null,
      "justify_content": null,
      "justify_items": null,
      "left": null,
      "margin": null,
      "max_height": null,
      "max_width": null,
      "min_height": null,
      "min_width": null,
      "object_fit": null,
      "object_position": null,
      "order": null,
      "overflow": null,
      "overflow_x": null,
      "overflow_y": null,
      "padding": null,
      "right": null,
      "top": null,
      "visibility": null,
      "width": null
     }
    },
    "b05d252c47b64084b53cfe08a865dcaa": {
     "model_module": "@jupyter-widgets/output",
     "model_module_version": "1.0.0",
     "model_name": "OutputModel",
     "state": {
      "_dom_classes": [],
      "_model_module": "@jupyter-widgets/output",
      "_model_module_version": "1.0.0",
      "_model_name": "OutputModel",
      "_view_count": null,
      "_view_module": "@jupyter-widgets/output",
      "_view_module_version": "1.0.0",
      "_view_name": "OutputView",
      "layout": "IPY_MODEL_efa3c9da37b64e388748a8c23eba907b",
      "msg_id": "",
      "outputs": []
     }
    },
    "b32a7c0d3ffe43d4a45e2150f59925ca": {
     "model_module": "@jupyter-widgets/base",
     "model_module_version": "1.2.0",
     "model_name": "LayoutModel",
     "state": {
      "_model_module": "@jupyter-widgets/base",
      "_model_module_version": "1.2.0",
      "_model_name": "LayoutModel",
      "_view_count": null,
      "_view_module": "@jupyter-widgets/base",
      "_view_module_version": "1.2.0",
      "_view_name": "LayoutView",
      "align_content": null,
      "align_items": null,
      "align_self": null,
      "border": null,
      "bottom": null,
      "display": null,
      "flex": null,
      "flex_flow": null,
      "grid_area": null,
      "grid_auto_columns": null,
      "grid_auto_flow": null,
      "grid_auto_rows": null,
      "grid_column": null,
      "grid_gap": null,
      "grid_row": null,
      "grid_template_areas": null,
      "grid_template_columns": null,
      "grid_template_rows": null,
      "height": null,
      "justify_content": null,
      "justify_items": null,
      "left": null,
      "margin": null,
      "max_height": null,
      "max_width": null,
      "min_height": null,
      "min_width": null,
      "object_fit": null,
      "object_position": null,
      "order": null,
      "overflow": null,
      "overflow_x": null,
      "overflow_y": null,
      "padding": null,
      "right": null,
      "top": null,
      "visibility": null,
      "width": null
     }
    },
    "bcba9b9e496949e4b9a959c3f49a5218": {
     "model_module": "@jupyter-widgets/controls",
     "model_module_version": "1.5.0",
     "model_name": "FloatSliderModel",
     "state": {
      "_dom_classes": [],
      "_model_module": "@jupyter-widgets/controls",
      "_model_module_version": "1.5.0",
      "_model_name": "FloatSliderModel",
      "_view_count": null,
      "_view_module": "@jupyter-widgets/controls",
      "_view_module_version": "1.5.0",
      "_view_name": "FloatSliderView",
      "continuous_update": true,
      "description": "m2",
      "description_tooltip": null,
      "disabled": false,
      "layout": "IPY_MODEL_887a9867906d4ae58aba0aa8826c917f",
      "max": 4.5,
      "min": -1.5,
      "orientation": "horizontal",
      "readout": true,
      "readout_format": ".2f",
      "step": 0.1,
      "style": "IPY_MODEL_c301fe0bf9ba42f69b4f8e696e3e2680",
      "value": 1.5
     }
    },
    "c301fe0bf9ba42f69b4f8e696e3e2680": {
     "model_module": "@jupyter-widgets/controls",
     "model_module_version": "1.5.0",
     "model_name": "SliderStyleModel",
     "state": {
      "_model_module": "@jupyter-widgets/controls",
      "_model_module_version": "1.5.0",
      "_model_name": "SliderStyleModel",
      "_view_count": null,
      "_view_module": "@jupyter-widgets/base",
      "_view_module_version": "1.2.0",
      "_view_name": "StyleView",
      "description_width": "",
      "handle_color": null
     }
    },
    "c6db6c2d8e114697baa240410789cd4c": {
     "model_module": "@jupyter-widgets/controls",
     "model_module_version": "1.5.0",
     "model_name": "FloatSliderModel",
     "state": {
      "_dom_classes": [],
      "_model_module": "@jupyter-widgets/controls",
      "_model_module_version": "1.5.0",
      "_model_name": "FloatSliderModel",
      "_view_count": null,
      "_view_module": "@jupyter-widgets/controls",
      "_view_module_version": "1.5.0",
      "_view_name": "FloatSliderView",
      "continuous_update": true,
      "description": "m",
      "description_tooltip": null,
      "disabled": false,
      "layout": "IPY_MODEL_3f475c234a0442e89f0d4242307160b9",
      "max": 4.5,
      "min": -1.5,
      "orientation": "horizontal",
      "readout": true,
      "readout_format": ".2f",
      "step": 0.1,
      "style": "IPY_MODEL_e4eebe82ff64426aadc25272112082f3",
      "value": 1.5
     }
    },
    "d249cb9a26474d2581e78ecca502132f": {
     "model_module": "@jupyter-widgets/controls",
     "model_module_version": "1.5.0",
     "model_name": "VBoxModel",
     "state": {
      "_dom_classes": [
       "widget-interact"
      ],
      "_model_module": "@jupyter-widgets/controls",
      "_model_module_version": "1.5.0",
      "_model_name": "VBoxModel",
      "_view_count": null,
      "_view_module": "@jupyter-widgets/controls",
      "_view_module_version": "1.5.0",
      "_view_name": "VBoxView",
      "box_style": "",
      "children": [
       "IPY_MODEL_4138287d50184b6b81c796a13dfe6705",
       "IPY_MODEL_950bb74fa1c0451286913ccd6eca32be",
       "IPY_MODEL_1252e2c0d0794a66bcbc4af46b5123d9",
       "IPY_MODEL_b05d252c47b64084b53cfe08a865dcaa"
      ],
      "layout": "IPY_MODEL_fa1af72f191247fea1b2bdcf197afd1e"
     }
    },
    "d34e5dc8eb694fc4afb9338881eb57c7": {
     "model_module": "@jupyter-widgets/controls",
     "model_module_version": "1.5.0",
     "model_name": "SliderStyleModel",
     "state": {
      "_model_module": "@jupyter-widgets/controls",
      "_model_module_version": "1.5.0",
      "_model_name": "SliderStyleModel",
      "_view_count": null,
      "_view_module": "@jupyter-widgets/base",
      "_view_module_version": "1.2.0",
      "_view_name": "StyleView",
      "description_width": "",
      "handle_color": null
     }
    },
    "e4a17e58165145218c36af7bd8c8438c": {
     "model_module": "@jupyter-widgets/controls",
     "model_module_version": "1.5.0",
     "model_name": "FloatSliderModel",
     "state": {
      "_dom_classes": [],
      "_model_module": "@jupyter-widgets/controls",
      "_model_module_version": "1.5.0",
      "_model_name": "FloatSliderModel",
      "_view_count": null,
      "_view_module": "@jupyter-widgets/controls",
      "_view_module_version": "1.5.0",
      "_view_name": "FloatSliderView",
      "continuous_update": true,
      "description": "b",
      "description_tooltip": null,
      "disabled": false,
      "layout": "IPY_MODEL_a554e5fbcaaa412b89c1eaf0246917fd",
      "max": 4.5,
      "min": -1.5,
      "orientation": "horizontal",
      "readout": true,
      "readout_format": ".2f",
      "step": 0.1,
      "style": "IPY_MODEL_ec387ec2bf1f47d5a40c2f05c66c274a",
      "value": 1.5
     }
    },
    "e4eebe82ff64426aadc25272112082f3": {
     "model_module": "@jupyter-widgets/controls",
     "model_module_version": "1.5.0",
     "model_name": "SliderStyleModel",
     "state": {
      "_model_module": "@jupyter-widgets/controls",
      "_model_module_version": "1.5.0",
      "_model_name": "SliderStyleModel",
      "_view_count": null,
      "_view_module": "@jupyter-widgets/base",
      "_view_module_version": "1.2.0",
      "_view_name": "StyleView",
      "description_width": "",
      "handle_color": null
     }
    },
    "ec387ec2bf1f47d5a40c2f05c66c274a": {
     "model_module": "@jupyter-widgets/controls",
     "model_module_version": "1.5.0",
     "model_name": "SliderStyleModel",
     "state": {
      "_model_module": "@jupyter-widgets/controls",
      "_model_module_version": "1.5.0",
      "_model_name": "SliderStyleModel",
      "_view_count": null,
      "_view_module": "@jupyter-widgets/base",
      "_view_module_version": "1.2.0",
      "_view_name": "StyleView",
      "description_width": "",
      "handle_color": null
     }
    },
    "eed8e27e707f41f4b725e2bbb120e45a": {
     "model_module": "@jupyter-widgets/base",
     "model_module_version": "1.2.0",
     "model_name": "LayoutModel",
     "state": {
      "_model_module": "@jupyter-widgets/base",
      "_model_module_version": "1.2.0",
      "_model_name": "LayoutModel",
      "_view_count": null,
      "_view_module": "@jupyter-widgets/base",
      "_view_module_version": "1.2.0",
      "_view_name": "LayoutView",
      "align_content": null,
      "align_items": null,
      "align_self": null,
      "border": null,
      "bottom": null,
      "display": null,
      "flex": null,
      "flex_flow": null,
      "grid_area": null,
      "grid_auto_columns": null,
      "grid_auto_flow": null,
      "grid_auto_rows": null,
      "grid_column": null,
      "grid_gap": null,
      "grid_row": null,
      "grid_template_areas": null,
      "grid_template_columns": null,
      "grid_template_rows": null,
      "height": null,
      "justify_content": null,
      "justify_items": null,
      "left": null,
      "margin": null,
      "max_height": null,
      "max_width": null,
      "min_height": null,
      "min_width": null,
      "object_fit": null,
      "object_position": null,
      "order": null,
      "overflow": null,
      "overflow_x": null,
      "overflow_y": null,
      "padding": null,
      "right": null,
      "top": null,
      "visibility": null,
      "width": null
     }
    },
    "efa3c9da37b64e388748a8c23eba907b": {
     "model_module": "@jupyter-widgets/base",
     "model_module_version": "1.2.0",
     "model_name": "LayoutModel",
     "state": {
      "_model_module": "@jupyter-widgets/base",
      "_model_module_version": "1.2.0",
      "_model_name": "LayoutModel",
      "_view_count": null,
      "_view_module": "@jupyter-widgets/base",
      "_view_module_version": "1.2.0",
      "_view_name": "LayoutView",
      "align_content": null,
      "align_items": null,
      "align_self": null,
      "border": null,
      "bottom": null,
      "display": null,
      "flex": null,
      "flex_flow": null,
      "grid_area": null,
      "grid_auto_columns": null,
      "grid_auto_flow": null,
      "grid_auto_rows": null,
      "grid_column": null,
      "grid_gap": null,
      "grid_row": null,
      "grid_template_areas": null,
      "grid_template_columns": null,
      "grid_template_rows": null,
      "height": null,
      "justify_content": null,
      "justify_items": null,
      "left": null,
      "margin": null,
      "max_height": null,
      "max_width": null,
      "min_height": null,
      "min_width": null,
      "object_fit": null,
      "object_position": null,
      "order": null,
      "overflow": null,
      "overflow_x": null,
      "overflow_y": null,
      "padding": null,
      "right": null,
      "top": null,
      "visibility": null,
      "width": null
     }
    },
    "f954b1bd19b14b3591c2129a54e515ad": {
     "model_module": "@jupyter-widgets/base",
     "model_module_version": "1.2.0",
     "model_name": "LayoutModel",
     "state": {
      "_model_module": "@jupyter-widgets/base",
      "_model_module_version": "1.2.0",
      "_model_name": "LayoutModel",
      "_view_count": null,
      "_view_module": "@jupyter-widgets/base",
      "_view_module_version": "1.2.0",
      "_view_name": "LayoutView",
      "align_content": null,
      "align_items": null,
      "align_self": null,
      "border": null,
      "bottom": null,
      "display": null,
      "flex": null,
      "flex_flow": null,
      "grid_area": null,
      "grid_auto_columns": null,
      "grid_auto_flow": null,
      "grid_auto_rows": null,
      "grid_column": null,
      "grid_gap": null,
      "grid_row": null,
      "grid_template_areas": null,
      "grid_template_columns": null,
      "grid_template_rows": null,
      "height": null,
      "justify_content": null,
      "justify_items": null,
      "left": null,
      "margin": null,
      "max_height": null,
      "max_width": null,
      "min_height": null,
      "min_width": null,
      "object_fit": null,
      "object_position": null,
      "order": null,
      "overflow": null,
      "overflow_x": null,
      "overflow_y": null,
      "padding": null,
      "right": null,
      "top": null,
      "visibility": null,
      "width": null
     }
    },
    "f9a42efdeb764e11a0ecfcf2508691c4": {
     "model_module": "@jupyter-widgets/controls",
     "model_module_version": "1.5.0",
     "model_name": "VBoxModel",
     "state": {
      "_dom_classes": [
       "widget-interact"
      ],
      "_model_module": "@jupyter-widgets/controls",
      "_model_module_version": "1.5.0",
      "_model_name": "VBoxModel",
      "_view_count": null,
      "_view_module": "@jupyter-widgets/controls",
      "_view_module_version": "1.5.0",
      "_view_name": "VBoxView",
      "box_style": "",
      "children": [
       "IPY_MODEL_86f04952b9454b03b47db3ccaed07e98",
       "IPY_MODEL_30f2857833e84825b17ed306113ed5d5",
       "IPY_MODEL_bcba9b9e496949e4b9a959c3f49a5218",
       "IPY_MODEL_fa14cf19a5eb454fa893273466131a6b",
       "IPY_MODEL_1c4c5e9935bb4cfe9ddb8585bf464bf7"
      ],
      "layout": "IPY_MODEL_193c634221a341d6a4111feba519db7a"
     }
    },
    "fa14cf19a5eb454fa893273466131a6b": {
     "model_module": "@jupyter-widgets/controls",
     "model_module_version": "1.5.0",
     "model_name": "FloatSliderModel",
     "state": {
      "_dom_classes": [],
      "_model_module": "@jupyter-widgets/controls",
      "_model_module_version": "1.5.0",
      "_model_name": "FloatSliderModel",
      "_view_count": null,
      "_view_module": "@jupyter-widgets/controls",
      "_view_module_version": "1.5.0",
      "_view_name": "FloatSliderView",
      "continuous_update": true,
      "description": "b2",
      "description_tooltip": null,
      "disabled": false,
      "layout": "IPY_MODEL_6a028e737a8c4c3b9be2082d15788d95",
      "max": 4.5,
      "min": -1.5,
      "orientation": "horizontal",
      "readout": true,
      "readout_format": ".2f",
      "step": 0.1,
      "style": "IPY_MODEL_2b7a4360b70f418cb39c09844380aa62",
      "value": 1.5
     }
    },
    "fa1af72f191247fea1b2bdcf197afd1e": {
     "model_module": "@jupyter-widgets/base",
     "model_module_version": "1.2.0",
     "model_name": "LayoutModel",
     "state": {
      "_model_module": "@jupyter-widgets/base",
      "_model_module_version": "1.2.0",
      "_model_name": "LayoutModel",
      "_view_count": null,
      "_view_module": "@jupyter-widgets/base",
      "_view_module_version": "1.2.0",
      "_view_name": "LayoutView",
      "align_content": null,
      "align_items": null,
      "align_self": null,
      "border": null,
      "bottom": null,
      "display": null,
      "flex": null,
      "flex_flow": null,
      "grid_area": null,
      "grid_auto_columns": null,
      "grid_auto_flow": null,
      "grid_auto_rows": null,
      "grid_column": null,
      "grid_gap": null,
      "grid_row": null,
      "grid_template_areas": null,
      "grid_template_columns": null,
      "grid_template_rows": null,
      "height": null,
      "justify_content": null,
      "justify_items": null,
      "left": null,
      "margin": null,
      "max_height": null,
      "max_width": null,
      "min_height": null,
      "min_width": null,
      "object_fit": null,
      "object_position": null,
      "order": null,
      "overflow": null,
      "overflow_x": null,
      "overflow_y": null,
      "padding": null,
      "right": null,
      "top": null,
      "visibility": null,
      "width": null
     }
    },
    "faec5e52914c41189707d871e8e859e4": {
     "model_module": "@jupyter-widgets/base",
     "model_module_version": "1.2.0",
     "model_name": "LayoutModel",
     "state": {
      "_model_module": "@jupyter-widgets/base",
      "_model_module_version": "1.2.0",
      "_model_name": "LayoutModel",
      "_view_count": null,
      "_view_module": "@jupyter-widgets/base",
      "_view_module_version": "1.2.0",
      "_view_name": "LayoutView",
      "align_content": null,
      "align_items": null,
      "align_self": null,
      "border": null,
      "bottom": null,
      "display": null,
      "flex": null,
      "flex_flow": null,
      "grid_area": null,
      "grid_auto_columns": null,
      "grid_auto_flow": null,
      "grid_auto_rows": null,
      "grid_column": null,
      "grid_gap": null,
      "grid_row": null,
      "grid_template_areas": null,
      "grid_template_columns": null,
      "grid_template_rows": null,
      "height": null,
      "justify_content": null,
      "justify_items": null,
      "left": null,
      "margin": null,
      "max_height": null,
      "max_width": null,
      "min_height": null,
      "min_width": null,
      "object_fit": null,
      "object_position": null,
      "order": null,
      "overflow": null,
      "overflow_x": null,
      "overflow_y": null,
      "padding": null,
      "right": null,
      "top": null,
      "visibility": null,
      "width": null
     }
    },
    "fcea3c1b2fc54b2ab1091c86b735272a": {
     "model_module": "@jupyter-widgets/controls",
     "model_module_version": "1.5.0",
     "model_name": "SliderStyleModel",
     "state": {
      "_model_module": "@jupyter-widgets/controls",
      "_model_module_version": "1.5.0",
      "_model_name": "SliderStyleModel",
      "_view_count": null,
      "_view_module": "@jupyter-widgets/base",
      "_view_module_version": "1.2.0",
      "_view_name": "StyleView",
      "description_width": "",
      "handle_color": null
     }
    }
   }
  }
 },
 "nbformat": 4,
 "nbformat_minor": 4
}
